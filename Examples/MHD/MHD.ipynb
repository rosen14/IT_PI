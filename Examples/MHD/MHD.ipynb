{
 "cells": [
  {
   "cell_type": "code",
   "execution_count": 1,
   "metadata": {},
   "outputs": [],
   "source": [
    "import numpy as np\n",
    "from scipy.special import erf\n",
    "import matplotlib.pyplot as plt\n",
    "import pandas as pd\n",
    "from numpy.linalg import matrix_rank, inv\n",
    "from pprint import pprint\n",
    "import sys\n",
    "import os\n",
    "current_notebook_dir = os.getcwd()\n",
    "# Replace with the path to your IT_PI.py function\n",
    "project_root_dir = os.path.join(current_notebook_dir, '..', '..')\n",
    "it_pi_module_dir = project_root_dir\n",
    "sys.path.append(it_pi_module_dir)\n",
    "import IT_PI\n",
    "plt.rcParams['font.family'] = 'Times New Roman'  # Set the font to Times New Roman\n",
    "plt.rcParams['text.usetex'] = True  # Use LaTeX for all text rendering/', VIEW.as_view(), name=''),"
   ]
  },
  {
   "cell_type": "code",
   "execution_count": 2,
   "metadata": {},
   "outputs": [
    {
     "name": "stdout",
     "output_type": "stream",
     "text": [
      "Data shape: (483, 6)\n",
      "input_shape:  (483, 6)\n"
     ]
    }
   ],
   "source": [
    "## Load the dataset, handling invalid entries\n",
    "try:\n",
    "    data = np.genfromtxt(\n",
    "        \"MHD_Generator_Data_Uavg.csv\",\n",
    "        delimiter=',',\n",
    "        skip_header=1,\n",
    "        usecols=(1,2,3,4,5,6),\n",
    "        dtype=float,\n",
    "        invalid_raise=False  # Ignore rows with invalid data\n",
    "    )\n",
    "except ValueError as e:\n",
    "    print(\"Error loading data:\", e)\n",
    "    data = None\n",
    "\n",
    "# Check if the data loaded successfully\n",
    "if data is not None:\n",
    "    print(f\"Data shape: {data.shape}\")\n",
    "else:\n",
    "    print(\"Please check the CSV file for invalid entries.\")\n",
    "Xu = data[:, :5]\n",
    "u  = data[:, 5]\n",
    "mu    = (Xu[:,0])\n",
    "rho   =  (Xu[:,1])\n",
    "dp_dx =  (Xu[:,2])\n",
    "eta   =  (Xu[:,3])\n",
    "B     =  (Xu[:,4])\n",
    "l     = np.ones(mu.shape)\n",
    "\n",
    "X         = np.column_stack((l,mu,rho,eta,dp_dx,B))\n",
    "Y         = u*rho*l/mu\n",
    "print('input_shape: ', X.shape)\n",
    "num_input = 1\n",
    "variables   = ['l','\\\\mu', '\\\\rho','\\\\eta','dp_dx','B'];                       #Define variable name\n"
   ]
  },
  {
   "cell_type": "code",
   "execution_count": 3,
   "metadata": {},
   "outputs": [
    {
     "name": "stdout",
     "output_type": "stream",
     "text": [
      "Rank of D_in: 4\n",
      "D_in matrix:\n",
      " [[ 1 -1 -3  3 -2  0]\n",
      " [ 0 -1  0 -3 -2 -2]\n",
      " [ 0  1  1  1  1  1]\n",
      " [ 0  0  0 -2  0 -1]]\n",
      "Basis vectors:\n",
      "matrix([[-3. ,  2. , -1. ,  0. , -1. ,  0. ],\n",
      "        [-1. ,  0.5,  0. ,  0.5,  0. , -1. ]])\n"
     ]
    }
   ],
   "source": [
    "D_in             = np.matrix(' 1 -1 -3 3 -2 0; 0 -1 0 -3 -2  -2; 0 1 1 1 1 1 ;0 0 0 -2 0  -1')                           #Define D_in matrix \n",
    "print(\"Rank of D_in:\", matrix_rank(D_in))\n",
    "print(\"D_in matrix:\\n\", D_in)\n",
    "num_rows          = np.shape(D_in)[0]\n",
    "num_cols          = np.shape(D_in)[1]\n",
    "num_basis        = D_in.shape[1] -matrix_rank(D_in)\n",
    "basis_matrices   = IT_PI.calc_basis(D_in, num_basis)\n",
    "print(\"Basis vectors:\")\n",
    "pprint(basis_matrices)"
   ]
  },
  {
   "cell_type": "code",
   "execution_count": 4,
   "metadata": {},
   "outputs": [
    {
     "name": "stdout",
     "output_type": "stream",
     "text": [
      "------------------------------------------------------------\n",
      "num of parameters: 2\n",
      "\n",
      "Using estimator: 'kraskov' with hyperparameters: {'k': 8}\n",
      "\n",
      "(150_w,300)-aCMA-ES (mu_w=78.0,w_1=3%) in dimension 2 (seed=42, Sun Sep  7 00:20:11 2025)\n",
      "Iterat #Fevals   function value  axis ratio  sigma  min&max std  t[m:s]\n",
      "    1    300 -2.805426586106428e+00 1.0e+00 1.03e+00  8e-01  1e+00 0:00.5\n",
      "    2    600 -2.917487035939377e+00 1.7e+00 1.30e+00  7e-01  1e+00 0:01.0\n",
      "    3    900 -2.944153533381449e+00 1.9e+00 1.42e+00  5e-01  1e+00 0:01.5\n",
      "   10   3000 -3.082080497222409e+00 6.5e+00 1.47e+00  2e-01  1e+00 0:04.9\n",
      "   19   5700 -3.192887016419681e+00 3.8e+00 1.47e+00  3e-03  9e-03 0:09.1\n",
      "   32   9600 -3.193596644430837e+00 4.8e+00 1.86e+00  3e-05  1e-04 0:14.3\n",
      "   48  14400 -3.193619003616057e+00 5.6e+00 3.92e+00  4e-06  2e-05 0:20.4\n",
      "termination on tolfunhist=1e-12\n",
      "final/bestever f-value = -3.193619e+00 -3.193619e+00 after 14400/10470 evaluations\n",
      "incumbent solution: [-0.7005876, 0.01254049]\n",
      "std deviation: [1.90477398e-05, 4.17738625e-06]\n",
      "Optimized_params: [-0.70059071  0.01254056]\n",
      "Optimized_MI: -3.1936190036160568\n",
      "------------------------------------------------------------\n",
      "coef_pi: [[ 1.         -0.66766708  0.33533416  0.00300124  0.33533416 -0.00600247]]\n"
     ]
    }
   ],
   "source": [
    "# Run dimensionless learning\n",
    "results = IT_PI.main(\n",
    "    X,\n",
    "    Y.reshape(-1, 1),\n",
    "    basis_matrices,\n",
    "    num_input=num_input,\n",
    "    estimator=\"kraskov\",\n",
    "    estimator_params={\"k\": 8},\n",
    "    seed=42\n",
    ")\n",
    "\n",
    "\n",
    "input_PI = results[\"input_PI\"]\n",
    "output_PI = results[\"output_PI\"]\n",
    "\n",
    "epsilon  = results[\"irreducible_error\"]\n",
    "uq       = results[\"uncertainty\"]"
   ]
  },
  {
   "cell_type": "code",
   "execution_count": 5,
   "metadata": {},
   "outputs": [
    {
     "name": "stdout",
     "output_type": "stream",
     "text": [
      "Optimal_pi_lab[0] = $\\frac{l^{1.0} \\cdot \\rho^{0.34} \\cdot dp_dx^{0.34}}{\\mu^{0.67} \\cdot B^{0.01}}$\n"
     ]
    }
   ],
   "source": [
    "coef_pi_list     = results[\"input_coef\"]\n",
    "optimal_pi_lab   = IT_PI.create_labels(np.array(coef_pi_list).reshape(-1, len(variables)), variables)\n",
    "for j, label in enumerate(optimal_pi_lab):\n",
    "    print(f'Optimal_pi_lab[{j}] = {label}')"
   ]
  },
  {
   "cell_type": "code",
   "execution_count": 6,
   "metadata": {},
   "outputs": [
    {
     "data": {
      "image/png": "[encoded data removed]",
      "text/plain": [
       "<Figure size 400x400 with 1 Axes>"
      ]
     },
     "metadata": {},
     "output_type": "display_data"
    }
   ],
   "source": [
    "fig = plt.figure(figsize=(4, 4))\n",
    "plt.scatter(input_PI,output_PI)\n",
    "plt.xlabel(r\" $\\Pi^* $\", fontsize=25, labelpad=8)  \n",
    "plt.ylabel(r\" $\\Pi_{o}^*$\", fontsize=25, labelpad=8)\n",
    "plt.xscale(\"log\")\n",
    "plt.yscale(\"log\")\n",
    "plt.xticks(fontsize=25)\n",
    "plt.yticks(fontsize=25)\n",
    "plt.tight_layout()\n",
    "#fig.savefig(\"MHD_u.pdf\", format=\"pdf\", bbox_inches=\"tight\",transparent = \"True\")\n"
   ]
  },
  {
   "cell_type": "code",
   "execution_count": 7,
   "metadata": {},
   "outputs": [
    {
     "name": "stdout",
     "output_type": "stream",
     "text": [
      "Irreducible error (epsilon) = [0.5046977437667026]\n"
     ]
    }
   ],
   "source": [
    "print(f'Irreducible error (epsilon) = {epsilon}')"
   ]
  }
 ],
 "metadata": {
  "kernelspec": {
   "display_name": "IT_PI",
   "language": "python",
   "name": "python3"
  },
  "language_info": {
   "codemirror_mode": {
    "name": "ipython",
    "version": 3
   },
   "file_extension": ".py",
   "mimetype": "text/x-python",
   "name": "python",
   "nbconvert_exporter": "python",
   "pygments_lexer": "ipython3",
   "version": "3.8.20"
  }
 },
 "nbformat": 4,
 "nbformat_minor": 1
}
