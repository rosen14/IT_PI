{
 "cells": [
  {
   "cell_type": "code",
   "execution_count": 69,
   "id": "a820059a-f5c7-478e-b479-b7c3f25e5867",
   "metadata": {},
   "outputs": [],
   "source": [
    "import numpy as np\n",
    "import pandas as pd\n",
    "from functools import reduce"
   ]
  },
  {
   "cell_type": "code",
   "execution_count": 70,
   "id": "8e5a7eca-47e3-4f85-acb5-94b4ed1200cd",
   "metadata": {},
   "outputs": [],
   "source": [
    "data = pd.read_csv(\"dataset_porosity.csv\")\n",
    "output_list = [\"Phi\"]\n",
    "input_list = [\"etamP\", \"V\", \"Tm-T0\", \"d\",\"rho\", \"Cp\", \"alpha\", \"H\", \"L\"]\n",
    "X = np.array(data[input_list])\n",
    "Y = np.array(data[output_list])\n"
   ]
  },
  {
   "cell_type": "code",
   "execution_count": 79,
   "id": "ccbcc377-eaf5-4de2-9582-7ba584a96d89",
   "metadata": {},
   "outputs": [],
   "source": [
    "coef_pi1 = np.array([ 0.05,  0.47, -0.48, -1.  , -0.05, -0.48,  0.34, -0.33,  0.9 ]) # np.array([1, -1,  -1,  3,  -1,  -1, 0, -1, -4])/4\n",
    "coef_pi2 = np.array([-0.59,  0.7 ,  0.27,  0.84,  0.59,  0.27,  0.52, -1.  ,  0.81]) # np.array([1, -1, -1, -3, -1, -1, 0, 0, 1])/3"
   ]
  },
  {
   "cell_type": "code",
   "execution_count": 80,
   "id": "d2b0c5b4-8a23-40b9-b438-31da98429a3b",
   "metadata": {},
   "outputs": [
    {
     "name": "stdout",
     "output_type": "stream",
     "text": [
      "[ 0.05  0.47 -0.48 -1.   -0.05 -0.48  0.34 -0.33  0.9 ]\n",
      "[-0.59  0.7   0.27  0.84  0.59  0.27  0.52 -1.    0.81]\n"
     ]
    }
   ],
   "source": [
    "print(coef_pi1)\n",
    "print(coef_pi2)"
   ]
  },
  {
   "cell_type": "code",
   "execution_count": 82,
   "id": "9adeb3a7-1d8a-4e4d-b7c3-98976798b00b",
   "metadata": {},
   "outputs": [
    {
     "data": {
      "text/plain": [
       "matrix([[ 1.00000000e-02, -5.55111512e-17,  0.00000000e+00,\n",
       "          0.00000000e+00]])"
      ]
     },
     "execution_count": 82,
     "metadata": {},
     "output_type": "execute_result"
    }
   ],
   "source": [
    "D_in = np.matrix([[ 2,  1,  0,  1, -3,  2,  2,  1,  1],\n",
    "        [-3, -1,  0,  0,  0, -2, -1,  0,  0],\n",
    "        [ 1,  0,  0,  0,  1,  0,  0,  0,  0],\n",
    "        [ 0,  0,  1,  0,  0, -1,  0,  0,  0]])\n",
    "D_in@coef_pi1"
   ]
  },
  {
   "cell_type": "code",
   "execution_count": 83,
   "id": "f60a5665-4e08-4a12-9edc-1a533122c81b",
   "metadata": {},
   "outputs": [],
   "source": [
    "def get_pi(x, coef_pi):\n",
    "    # Calcular potencias elemento a elemento\n",
    "    potencias = [b**a for b, a in zip(x, coef_pi)]\n",
    "    # Multiplicar todos los resultados\n",
    "    resultado = reduce(lambda a, b: a * b, potencias)\n",
    "    return resultado"
   ]
  },
  {
   "cell_type": "code",
   "execution_count": 84,
   "id": "f60c5799-a004-4222-8493-21d9cc5162d7",
   "metadata": {},
   "outputs": [],
   "source": [
    "PI1 = np.array([get_pi(x, coef_pi1) for x in X])\n",
    "PI2 = np.array([get_pi(x, coef_pi2) for x in X])"
   ]
  },
  {
   "cell_type": "code",
   "execution_count": 85,
   "id": "5226c3e7-2eaa-4a0b-a5e9-b5151d85d773",
   "metadata": {},
   "outputs": [],
   "source": [
    "import plotly.graph_objects as go"
   ]
  },
  {
   "cell_type": "code",
   "execution_count": 86,
   "id": "d0edb34a-1f4d-45b9-9a80-259874156585",
   "metadata": {},
   "outputs": [
    {
     "data": {
      "application/vnd.plotly.v1+json": {
       "config": {
        "plotlyServerURL": "https://plot.ly"
       },
       "data": [
        {
         "marker": {
          "color": {
           "bdata": "1zTvOEVHoj8Mk6mCUUmNPy1DHOviNmo/iIVa07zjdD+Sy39Iv31tP5zEILByaIE/Dr4wmSoYhT9Q/Bhz1xKiP5T2Bl+YTHU/RiV1ApoIez/6fmq8dJN4P3npJjEIrHw/6Gor9pfdgz/6fmq8dJOYP1g5tMh2vp8/rK3YX3ZPbj8g0m9fB855PzvfT42XbnI/kst/SL99fT8FNBE2PL2SPw6+MJkqGJU/B/AWSFD8mD9fB84ZUdprPy9uowG8BXI/ukkMAiuHdj8BTYQNT6+UPxNhw9MrZYk/nzws1JrmjT/SAN4CCYqPP9QrZRniWHc/XwfOGVHaez+6SQwCK4eWPxkEVg4tso0/2c73U+Olmz9rmnecoiOpP/sONFXmnJ4/j4b4LHTKiD+u5kpON5qhPxnw6DUs/LE/OOoROEwTej9Jz5lZ8Ee0P4ka+XrG14E/sV/BRw4ioz/kIimvtt52Pxj31Qv0P48/0XQbecX4dT8aahSSzOp9P2FUUiegiaA/guLHmLuWkD//CS5W1GB6PxoXDoRkAWM/nzws1JrmbT/YtiizQSZ5P95xio7k8n8/gLdAguLHiD8/V1uxv+yOP1Uu+URDa4I/BxJv+Dgubj+Jsa/p/yRXP/UlRI7nElI/RFoZQ+9DVD8GGTvAF09SP0fSH65dWVA/e8pBO22uVj+qRLhN4dZXP7EOcNYaKW8/AiuHFtnOtz8Go+3zc562Pxg5sMFnkLM/xrfBmhQwoz+P2JNlLaqaP0DbrPLrJH4/oS//GYyubj8A7f38rVNbPwQsAxjgzIk/arx0kxgElj/8qfHSTWKgPzzB/uvctIk/Bg5o6Qq2YT9szOuIQzZgP0uwOJz51Tw/dmuZDMfzGT/M1CR4Qxo1P21VEtkHWTY/D9b/OcyXFz9tVRLZB1k2PyK2JqPrPlc/wi/186YiRT9HodkzU3NsPwG+27xxUpg/+wJ64c6FqT/wpIXLKmzAPw==",
           "dtype": "f8",
           "shape": "92, 1"
          },
          "colorscale": [
           [
            0,
            "#440154"
           ],
           [
            0.1111111111111111,
            "#482878"
           ],
           [
            0.2222222222222222,
            "#3e4989"
           ],
           [
            0.3333333333333333,
            "#31688e"
           ],
           [
            0.4444444444444444,
            "#26828e"
           ],
           [
            0.5555555555555556,
            "#1f9e89"
           ],
           [
            0.6666666666666666,
            "#35b779"
           ],
           [
            0.7777777777777778,
            "#6ece58"
           ],
           [
            0.8888888888888888,
            "#b5de2b"
           ],
           [
            1,
            "#fde725"
           ]
          ],
          "opacity": 0.8,
          "size": 6
         },
         "mode": "markers",
         "type": "scatter3d",
         "x": {
          "bdata": "NKWuj0P4Oz+b9cdGvOtAP9jLSurfXkM/CG91KjODRT+uyMiD7W9HP9YVfA7DMkk/D1m6kZXUSj8w8chmqtg7PyDbM/tHbkA/Gce0uv1IQz86jVyF5WpFP35tgDhzVUc/3yslcUsWST/v4LTtRbZKP5Yi270CrTs/n2DyqTW+QD/OZCH5wSpDP9Ij6PFRSUU/rsq4md4wRz/fCTMq9+5IP6/U3YRljEo/B5pkvY57Oz9HCVrCSqBAP7xvnjqCCEM/9NwttkgjRT+Ey9ktbgdHP2oQoKBpwkg/Jz7IO/VcSj/lsEsKXT87P8bgml/ge0A/C5EnK9LeQj8pFt+X/PREP2N+hKf91EY/x2hE2y6MSD851vhCNyNKPxMe03TsPDY/rD0gtXeYNj/hrX/y11Y7PyDKGfAeTD8/Rwvd61XzNj+rYIIV66ZBP6Nk18/TNzc/aV83/ZjbQT/o4bGQvmM3P06gQCtg/UE/qH4eN0iKNz+/Sx8sBBtCPwWXCWr5rCU/Oy/BjKhBKj+7TLmv0fYtPxERGRDMIDI/XQm6f9qEMz8sO3jywMQ0PwwC90dq+TU/rdMgeOgTNz/kQB0OBCg4P4vdtsjiqjE/mBELkk7CMT9PEVhzMNgxPyUYxuu86zE/RjoyBsP+MT9zdbzY9g8yPxYyuc8HIDI/jmGdg1UuMj9iM9kMTj0yPxUj/JViSjI/+/+RnwcQPz95/+pOrgo/P9LKNv+RATs/5Iag2LFBOD/cW7S3sJE5P2MwwVjxcDY/KwSZHowjND9TxVaj0ho0P1ipyF9cfzI/qW/kLX0oMD/UsKzNPhQtP+bETRJGyTY/2TILZjBYND9AmszXMQ45PxVHJwTcXjY/l7ur3zGEMT/AWM3JgKQ8Pw7NpbLDQjM/BKG+Z8OSOT8VP2JfsQQ2P950z6J9Q0E/mCXzAhPIRD/XruucgKlHP9Iwnzzb0Ek/yDyigflBSz8VPXRkqLtLPw==",
          "dtype": "f8"
         },
         "y": {
          "bdata": "A84JrRu2Rz/D3d86U35PPxwAPbl1QlM/qR3JkwGEVj+Xn96UpJRZP0BRcbDPflw/DV9WQI5JXz+RHsCxT/tIP9SWTKQuRlY/ZpcCYJtKVD/Gewtiz7hXP/j8Kb5781o/TVYVnKAFXj+9aF75VHtgP7T5N5UU3Eo/EMEfxWjWUT+nKWnfHNFVPzNRpsdVgVk/kueDWif6XD+OCh+6siNgP/Z3KXCFuGE/mj+qXo0sTT8bNwfD3l9TP53qEnVZslc/JMlNDO6zWz+zR8Q1VXlfP3lGKtmzh2E/f0fCKGg/Yz9u2by+wiRQP3I/gE4jcVU/5Me5ibA5Wj+ieXSwtaheP3Fnzb+QamE/Jr611JVmYz8fOS7hNU1lP1GSPMGI+1E/LPVjqEvLTT/KWJCsSslTP489DgFKM1g/GVk1f+XJSD9YQ04b44lXP2I5vp++nkU/nPW4zaOHVD8D98IcQdJDP8nkff5e0lI/FJWF1UxgQj9wDV2kEnNRP+tJW7TrgDo/hT9Jo52hQT9HhHNt7nZFP/6pTOfSgkw/xO1drk7UTz+dtRJtpHRRP5K5fnh0/FI/qP2c2GdsVD+g6nA1dtxVPy6ScFwZ5lM/ke/b6ua4Uj8r2RVN47BRP3ozKu1W0lA/sVn0Ph0FUD+t2JqUTalOPzJR/qqGbk0/XtNFwslhTD9jFqSpm1NLP4ZPzgh1cEo/npOgjQa9Uj+wAmd+OLhSP8ioT90PbU4/b16qje/tST8LMp8m4gtMPwI4BIm+F0c//wcVmoWnQz/67SeC2JpDP2XkYgIfUUE/CPp5tRJRPD8JdcGxhzI4P8l9fzli/EM/8CSRQ6PhQD8M/alM2KVKP5WGwQQvgkY/WEwO0C4EOz/JfX85YvxTPzqICeDJAkI/8CSRQ6PhUD9YTA7QLgRLP3U4PLWHt0w/MD/UZKJ6VD9DfV3WUNFZPzZhFnqueV0/EG9PjEwNXz8aCj0jD61dPw==",
          "dtype": "f8"
         },
         "z": {
          "bdata": "1zTvOEVHoj8Mk6mCUUmNPy1DHOviNmo/iIVa07zjdD+Sy39Iv31tP5zEILByaIE/Dr4wmSoYhT9Q/Bhz1xKiP5T2Bl+YTHU/RiV1ApoIez/6fmq8dJN4P3npJjEIrHw/6Gor9pfdgz/6fmq8dJOYP1g5tMh2vp8/rK3YX3ZPbj8g0m9fB855PzvfT42XbnI/kst/SL99fT8FNBE2PL2SPw6+MJkqGJU/B/AWSFD8mD9fB84ZUdprPy9uowG8BXI/ukkMAiuHdj8BTYQNT6+UPxNhw9MrZYk/nzws1JrmjT/SAN4CCYqPP9QrZRniWHc/XwfOGVHaez+6SQwCK4eWPxkEVg4tso0/2c73U+Olmz9rmnecoiOpP/sONFXmnJ4/j4b4LHTKiD+u5kpON5qhPxnw6DUs/LE/OOoROEwTej9Jz5lZ8Ee0P4ka+XrG14E/sV/BRw4ioz/kIimvtt52Pxj31Qv0P48/0XQbecX4dT8aahSSzOp9P2FUUiegiaA/guLHmLuWkD//CS5W1GB6PxoXDoRkAWM/nzws1JrmbT/YtiizQSZ5P95xio7k8n8/gLdAguLHiD8/V1uxv+yOP1Uu+URDa4I/BxJv+Dgubj+Jsa/p/yRXP/UlRI7nElI/RFoZQ+9DVD8GGTvAF09SP0fSH65dWVA/e8pBO22uVj+qRLhN4dZXP7EOcNYaKW8/AiuHFtnOtz8Go+3zc562Pxg5sMFnkLM/xrfBmhQwoz+P2JNlLaqaP0DbrPLrJH4/oS//GYyubj8A7f38rVNbPwQsAxjgzIk/arx0kxgElj/8qfHSTWKgPzzB/uvctIk/Bg5o6Qq2YT9szOuIQzZgP0uwOJz51Tw/dmuZDMfzGT/M1CR4Qxo1P21VEtkHWTY/D9b/OcyXFz9tVRLZB1k2PyK2JqPrPlc/wi/186YiRT9HodkzU3NsPwG+27xxUpg/+wJ64c6FqT/wpIXLKmzAPw==",
          "dtype": "f8"
         }
        }
       ],
       "layout": {
        "margin": {
         "b": 0,
         "l": 0,
         "r": 0,
         "t": 40
        },
        "scene": {
         "xaxis": {
          "title": {
           "text": "Eje X"
          }
         },
         "yaxis": {
          "title": {
           "text": "Eje Y"
          }
         },
         "zaxis": {
          "title": {
           "text": "Eje Z"
          }
         }
        },
        "template": {
         "data": {
          "bar": [
           {
            "error_x": {
             "color": "#2a3f5f"
            },
            "error_y": {
             "color": "#2a3f5f"
            },
            "marker": {
             "line": {
              "color": "#E5ECF6",
              "width": 0.5
             },
             "pattern": {
              "fillmode": "overlay",
              "size": 10,
              "solidity": 0.2
             }
            },
            "type": "bar"
           }
          ],
          "barpolar": [
           {
            "marker": {
             "line": {
              "color": "#E5ECF6",
              "width": 0.5
             },
             "pattern": {
              "fillmode": "overlay",
              "size": 10,
              "solidity": 0.2
             }
            },
            "type": "barpolar"
           }
          ],
          "carpet": [
           {
            "aaxis": {
             "endlinecolor": "#2a3f5f",
             "gridcolor": "white",
             "linecolor": "white",
             "minorgridcolor": "white",
             "startlinecolor": "#2a3f5f"
            },
            "baxis": {
             "endlinecolor": "#2a3f5f",
             "gridcolor": "white",
             "linecolor": "white",
             "minorgridcolor": "white",
             "startlinecolor": "#2a3f5f"
            },
            "type": "carpet"
           }
          ],
          "choropleth": [
           {
            "colorbar": {
             "outlinewidth": 0,
             "ticks": ""
            },
            "type": "choropleth"
           }
          ],
          "contour": [
           {
            "colorbar": {
             "outlinewidth": 0,
             "ticks": ""
            },
            "colorscale": [
             [
              0,
              "#0d0887"
             ],
             [
              0.1111111111111111,
              "#46039f"
             ],
             [
              0.2222222222222222,
              "#7201a8"
             ],
             [
              0.3333333333333333,
              "#9c179e"
             ],
             [
              0.4444444444444444,
              "#bd3786"
             ],
             [
              0.5555555555555556,
              "#d8576b"
             ],
             [
              0.6666666666666666,
              "#ed7953"
             ],
             [
              0.7777777777777778,
              "#fb9f3a"
             ],
             [
              0.8888888888888888,
              "#fdca26"
             ],
             [
              1,
              "#f0f921"
             ]
            ],
            "type": "contour"
           }
          ],
          "contourcarpet": [
           {
            "colorbar": {
             "outlinewidth": 0,
             "ticks": ""
            },
            "type": "contourcarpet"
           }
          ],
          "heatmap": [
           {
            "colorbar": {
             "outlinewidth": 0,
             "ticks": ""
            },
            "colorscale": [
             [
              0,
              "#0d0887"
             ],
             [
              0.1111111111111111,
              "#46039f"
             ],
             [
              0.2222222222222222,
              "#7201a8"
             ],
             [
              0.3333333333333333,
              "#9c179e"
             ],
             [
              0.4444444444444444,
              "#bd3786"
             ],
             [
              0.5555555555555556,
              "#d8576b"
             ],
             [
              0.6666666666666666,
              "#ed7953"
             ],
             [
              0.7777777777777778,
              "#fb9f3a"
             ],
             [
              0.8888888888888888,
              "#fdca26"
             ],
             [
              1,
              "#f0f921"
             ]
            ],
            "type": "heatmap"
           }
          ],
          "histogram": [
           {
            "marker": {
             "pattern": {
              "fillmode": "overlay",
              "size": 10,
              "solidity": 0.2
             }
            },
            "type": "histogram"
           }
          ],
          "histogram2d": [
           {
            "colorbar": {
             "outlinewidth": 0,
             "ticks": ""
            },
            "colorscale": [
             [
              0,
              "#0d0887"
             ],
             [
              0.1111111111111111,
              "#46039f"
             ],
             [
              0.2222222222222222,
              "#7201a8"
             ],
             [
              0.3333333333333333,
              "#9c179e"
             ],
             [
              0.4444444444444444,
              "#bd3786"
             ],
             [
              0.5555555555555556,
              "#d8576b"
             ],
             [
              0.6666666666666666,
              "#ed7953"
             ],
             [
              0.7777777777777778,
              "#fb9f3a"
             ],
             [
              0.8888888888888888,
              "#fdca26"
             ],
             [
              1,
              "#f0f921"
             ]
            ],
            "type": "histogram2d"
           }
          ],
          "histogram2dcontour": [
           {
            "colorbar": {
             "outlinewidth": 0,
             "ticks": ""
            },
            "colorscale": [
             [
              0,
              "#0d0887"
             ],
             [
              0.1111111111111111,
              "#46039f"
             ],
             [
              0.2222222222222222,
              "#7201a8"
             ],
             [
              0.3333333333333333,
              "#9c179e"
             ],
             [
              0.4444444444444444,
              "#bd3786"
             ],
             [
              0.5555555555555556,
              "#d8576b"
             ],
             [
              0.6666666666666666,
              "#ed7953"
             ],
             [
              0.7777777777777778,
              "#fb9f3a"
             ],
             [
              0.8888888888888888,
              "#fdca26"
             ],
             [
              1,
              "#f0f921"
             ]
            ],
            "type": "histogram2dcontour"
           }
          ],
          "mesh3d": [
           {
            "colorbar": {
             "outlinewidth": 0,
             "ticks": ""
            },
            "type": "mesh3d"
           }
          ],
          "parcoords": [
           {
            "line": {
             "colorbar": {
              "outlinewidth": 0,
              "ticks": ""
             }
            },
            "type": "parcoords"
           }
          ],
          "pie": [
           {
            "automargin": true,
            "type": "pie"
           }
          ],
          "scatter": [
           {
            "fillpattern": {
             "fillmode": "overlay",
             "size": 10,
             "solidity": 0.2
            },
            "type": "scatter"
           }
          ],
          "scatter3d": [
           {
            "line": {
             "colorbar": {
              "outlinewidth": 0,
              "ticks": ""
             }
            },
            "marker": {
             "colorbar": {
              "outlinewidth": 0,
              "ticks": ""
             }
            },
            "type": "scatter3d"
           }
          ],
          "scattercarpet": [
           {
            "marker": {
             "colorbar": {
              "outlinewidth": 0,
              "ticks": ""
             }
            },
            "type": "scattercarpet"
           }
          ],
          "scattergeo": [
           {
            "marker": {
             "colorbar": {
              "outlinewidth": 0,
              "ticks": ""
             }
            },
            "type": "scattergeo"
           }
          ],
          "scattergl": [
           {
            "marker": {
             "colorbar": {
              "outlinewidth": 0,
              "ticks": ""
             }
            },
            "type": "scattergl"
           }
          ],
          "scattermap": [
           {
            "marker": {
             "colorbar": {
              "outlinewidth": 0,
              "ticks": ""
             }
            },
            "type": "scattermap"
           }
          ],
          "scattermapbox": [
           {
            "marker": {
             "colorbar": {
              "outlinewidth": 0,
              "ticks": ""
             }
            },
            "type": "scattermapbox"
           }
          ],
          "scatterpolar": [
           {
            "marker": {
             "colorbar": {
              "outlinewidth": 0,
              "ticks": ""
             }
            },
            "type": "scatterpolar"
           }
          ],
          "scatterpolargl": [
           {
            "marker": {
             "colorbar": {
              "outlinewidth": 0,
              "ticks": ""
             }
            },
            "type": "scatterpolargl"
           }
          ],
          "scatterternary": [
           {
            "marker": {
             "colorbar": {
              "outlinewidth": 0,
              "ticks": ""
             }
            },
            "type": "scatterternary"
           }
          ],
          "surface": [
           {
            "colorbar": {
             "outlinewidth": 0,
             "ticks": ""
            },
            "colorscale": [
             [
              0,
              "#0d0887"
             ],
             [
              0.1111111111111111,
              "#46039f"
             ],
             [
              0.2222222222222222,
              "#7201a8"
             ],
             [
              0.3333333333333333,
              "#9c179e"
             ],
             [
              0.4444444444444444,
              "#bd3786"
             ],
             [
              0.5555555555555556,
              "#d8576b"
             ],
             [
              0.6666666666666666,
              "#ed7953"
             ],
             [
              0.7777777777777778,
              "#fb9f3a"
             ],
             [
              0.8888888888888888,
              "#fdca26"
             ],
             [
              1,
              "#f0f921"
             ]
            ],
            "type": "surface"
           }
          ],
          "table": [
           {
            "cells": {
             "fill": {
              "color": "#EBF0F8"
             },
             "line": {
              "color": "white"
             }
            },
            "header": {
             "fill": {
              "color": "#C8D4E3"
             },
             "line": {
              "color": "white"
             }
            },
            "type": "table"
           }
          ]
         },
         "layout": {
          "annotationdefaults": {
           "arrowcolor": "#2a3f5f",
           "arrowhead": 0,
           "arrowwidth": 1
          },
          "autotypenumbers": "strict",
          "coloraxis": {
           "colorbar": {
            "outlinewidth": 0,
            "ticks": ""
           }
          },
          "colorscale": {
           "diverging": [
            [
             0,
             "#8e0152"
            ],
            [
             0.1,
             "#c51b7d"
            ],
            [
             0.2,
             "#de77ae"
            ],
            [
             0.3,
             "#f1b6da"
            ],
            [
             0.4,
             "#fde0ef"
            ],
            [
             0.5,
             "#f7f7f7"
            ],
            [
             0.6,
             "#e6f5d0"
            ],
            [
             0.7,
             "#b8e186"
            ],
            [
             0.8,
             "#7fbc41"
            ],
            [
             0.9,
             "#4d9221"
            ],
            [
             1,
             "#276419"
            ]
           ],
           "sequential": [
            [
             0,
             "#0d0887"
            ],
            [
             0.1111111111111111,
             "#46039f"
            ],
            [
             0.2222222222222222,
             "#7201a8"
            ],
            [
             0.3333333333333333,
             "#9c179e"
            ],
            [
             0.4444444444444444,
             "#bd3786"
            ],
            [
             0.5555555555555556,
             "#d8576b"
            ],
            [
             0.6666666666666666,
             "#ed7953"
            ],
            [
             0.7777777777777778,
             "#fb9f3a"
            ],
            [
             0.8888888888888888,
             "#fdca26"
            ],
            [
             1,
             "#f0f921"
            ]
           ],
           "sequentialminus": [
            [
             0,
             "#0d0887"
            ],
            [
             0.1111111111111111,
             "#46039f"
            ],
            [
             0.2222222222222222,
             "#7201a8"
            ],
            [
             0.3333333333333333,
             "#9c179e"
            ],
            [
             0.4444444444444444,
             "#bd3786"
            ],
            [
             0.5555555555555556,
             "#d8576b"
            ],
            [
             0.6666666666666666,
             "#ed7953"
            ],
            [
             0.7777777777777778,
             "#fb9f3a"
            ],
            [
             0.8888888888888888,
             "#fdca26"
            ],
            [
             1,
             "#f0f921"
            ]
           ]
          },
          "colorway": [
           "#636efa",
           "#EF553B",
           "#00cc96",
           "#ab63fa",
           "#FFA15A",
           "#19d3f3",
           "#FF6692",
           "#B6E880",
           "#FF97FF",
           "#FECB52"
          ],
          "font": {
           "color": "#2a3f5f"
          },
          "geo": {
           "bgcolor": "white",
           "lakecolor": "white",
           "landcolor": "#E5ECF6",
           "showlakes": true,
           "showland": true,
           "subunitcolor": "white"
          },
          "hoverlabel": {
           "align": "left"
          },
          "hovermode": "closest",
          "mapbox": {
           "style": "light"
          },
          "paper_bgcolor": "white",
          "plot_bgcolor": "#E5ECF6",
          "polar": {
           "angularaxis": {
            "gridcolor": "white",
            "linecolor": "white",
            "ticks": ""
           },
           "bgcolor": "#E5ECF6",
           "radialaxis": {
            "gridcolor": "white",
            "linecolor": "white",
            "ticks": ""
           }
          },
          "scene": {
           "xaxis": {
            "backgroundcolor": "#E5ECF6",
            "gridcolor": "white",
            "gridwidth": 2,
            "linecolor": "white",
            "showbackground": true,
            "ticks": "",
            "zerolinecolor": "white"
           },
           "yaxis": {
            "backgroundcolor": "#E5ECF6",
            "gridcolor": "white",
            "gridwidth": 2,
            "linecolor": "white",
            "showbackground": true,
            "ticks": "",
            "zerolinecolor": "white"
           },
           "zaxis": {
            "backgroundcolor": "#E5ECF6",
            "gridcolor": "white",
            "gridwidth": 2,
            "linecolor": "white",
            "showbackground": true,
            "ticks": "",
            "zerolinecolor": "white"
           }
          },
          "shapedefaults": {
           "line": {
            "color": "#2a3f5f"
           }
          },
          "ternary": {
           "aaxis": {
            "gridcolor": "white",
            "linecolor": "white",
            "ticks": ""
           },
           "baxis": {
            "gridcolor": "white",
            "linecolor": "white",
            "ticks": ""
           },
           "bgcolor": "#E5ECF6",
           "caxis": {
            "gridcolor": "white",
            "linecolor": "white",
            "ticks": ""
           }
          },
          "title": {
           "x": 0.05
          },
          "xaxis": {
           "automargin": true,
           "gridcolor": "white",
           "linecolor": "white",
           "ticks": "",
           "title": {
            "standoff": 15
           },
           "zerolinecolor": "white",
           "zerolinewidth": 2
          },
          "yaxis": {
           "automargin": true,
           "gridcolor": "white",
           "linecolor": "white",
           "ticks": "",
           "title": {
            "standoff": 15
           },
           "zerolinecolor": "white",
           "zerolinewidth": 2
          }
         }
        },
        "title": {
         "text": "Scatter 3D con Plotly"
        }
       }
      },
      "image/png": "[encoded data removed]"
     },
     "metadata": {},
     "output_type": "display_data"
    }
   ],
   "source": [
    "# Crear figura 3D\n",
    "fig = go.Figure(data=[go.Scatter3d(\n",
    "    x=PI1.ravel() ,\n",
    "    y=PI2.ravel() ,\n",
    "    z=Y.ravel() ,\n",
    "    mode='markers',\n",
    "    marker=dict(\n",
    "        size=6,\n",
    "        color=Y,           # color según el valor de z\n",
    "        colorscale='Viridis',\n",
    "        opacity=0.8\n",
    "    )\n",
    ")])\n",
    "\n",
    "# Configurar diseño\n",
    "fig.update_layout(\n",
    "    title='Scatter 3D con Plotly',\n",
    "    scene=dict(\n",
    "        xaxis_title='Eje X',\n",
    "        yaxis_title='Eje Y',\n",
    "        zaxis_title='Eje Z'\n",
    "    ),\n",
    "    margin=dict(l=0, r=0, b=0, t=40)\n",
    ")\n",
    "\n",
    "# Mostrar figura\n",
    "fig.show()"
   ]
  },
  {
   "cell_type": "code",
   "execution_count": null,
   "id": "dc5be816-d1b9-458b-9eed-c4159e34e0d7",
   "metadata": {},
   "outputs": [],
   "source": []
  }
 ],
 "metadata": {
  "kernelspec": {
   "display_name": "Python 3 (ipykernel)",
   "language": "python",
   "name": "python3"
  },
  "language_info": {
   "codemirror_mode": {
    "name": "ipython",
    "version": 3
   },
   "file_extension": ".py",
   "mimetype": "text/x-python",
   "name": "python",
   "nbconvert_exporter": "python",
   "pygments_lexer": "ipython3",
   "version": "3.14.0"
  }
 },
 "nbformat": 4,
 "nbformat_minor": 5
}
