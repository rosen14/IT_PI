{
 "cells": [
  {
   "cell_type": "code",
   "execution_count": 1,
   "id": "f949caee",
   "metadata": {},
   "outputs": [],
   "source": [
    "import numpy as np\n",
    "from scipy.special import erf\n",
    "import matplotlib.pyplot as plt\n",
    "import pandas as pd\n",
    "from numpy.linalg import matrix_rank, inv\n",
    "from pprint import pprint\n",
    "import sys\n",
    "import os\n",
    "current_notebook_dir = os.getcwd()\n",
    "# Replace with the path to your IT_PI.py function\n",
    "project_root_dir = os.path.join(current_notebook_dir, '..', '..')\n",
    "it_pi_module_dir = project_root_dir\n",
    "sys.path.append(it_pi_module_dir)\n",
    "import IT_PI\n",
    "plt.rcParams['font.family'] = 'Times New Roman'  # Set the font to Times New Roman\n",
    "plt.rcParams['text.usetex'] = True  # Use LaTeX for all text rendering/', VIEW.as_view(), name=''),\n",
    "from sklearn.preprocessing import StandardScaler\n",
    "from matplotlib.ticker import ScalarFormatter\n",
    "\n"
   ]
  },
  {
   "cell_type": "code",
   "execution_count": 2,
   "id": "e35cc403-b71e-42e2-87f7-0c37499bf97e",
   "metadata": {},
   "outputs": [
    {
     "data": {
      "text/html": [
       "<div>\n",
       "<style scoped>\n",
       "    .dataframe tbody tr th:only-of-type {\n",
       "        vertical-align: middle;\n",
       "    }\n",
       "\n",
       "    .dataframe tbody tr th {\n",
       "        vertical-align: top;\n",
       "    }\n",
       "\n",
       "    .dataframe thead th {\n",
       "        text-align: right;\n",
       "    }\n",
       "</style>\n",
       "<table border=\"1\" class=\"dataframe\">\n",
       "  <thead>\n",
       "    <tr style=\"text-align: right;\">\n",
       "      <th></th>\n",
       "      <th>Material</th>\n",
       "      <th>etamP</th>\n",
       "      <th>V</th>\n",
       "      <th>d</th>\n",
       "      <th>rho</th>\n",
       "      <th>Cp</th>\n",
       "      <th>alpha</th>\n",
       "      <th>Tm-T0</th>\n",
       "      <th>H</th>\n",
       "      <th>L</th>\n",
       "      <th>Phi</th>\n",
       "    </tr>\n",
       "  </thead>\n",
       "  <tbody>\n",
       "    <tr>\n",
       "      <th>0</th>\n",
       "      <td>Inconel 718</td>\n",
       "      <td>189.0</td>\n",
       "      <td>0.4</td>\n",
       "      <td>0.0001</td>\n",
       "      <td>7400.0</td>\n",
       "      <td>720.0</td>\n",
       "      <td>0.000006</td>\n",
       "      <td>1316</td>\n",
       "      <td>0.00008</td>\n",
       "      <td>0.00006</td>\n",
       "      <td>0.0357</td>\n",
       "    </tr>\n",
       "    <tr>\n",
       "      <th>1</th>\n",
       "      <td>Inconel 718</td>\n",
       "      <td>189.0</td>\n",
       "      <td>0.6</td>\n",
       "      <td>0.0001</td>\n",
       "      <td>7400.0</td>\n",
       "      <td>720.0</td>\n",
       "      <td>0.000006</td>\n",
       "      <td>1316</td>\n",
       "      <td>0.00008</td>\n",
       "      <td>0.00006</td>\n",
       "      <td>0.0143</td>\n",
       "    </tr>\n",
       "    <tr>\n",
       "      <th>2</th>\n",
       "      <td>Inconel 718</td>\n",
       "      <td>189.0</td>\n",
       "      <td>0.8</td>\n",
       "      <td>0.0001</td>\n",
       "      <td>7400.0</td>\n",
       "      <td>720.0</td>\n",
       "      <td>0.000006</td>\n",
       "      <td>1316</td>\n",
       "      <td>0.00008</td>\n",
       "      <td>0.00006</td>\n",
       "      <td>0.0032</td>\n",
       "    </tr>\n",
       "    <tr>\n",
       "      <th>3</th>\n",
       "      <td>Inconel 718</td>\n",
       "      <td>189.0</td>\n",
       "      <td>1.0</td>\n",
       "      <td>0.0001</td>\n",
       "      <td>7400.0</td>\n",
       "      <td>720.0</td>\n",
       "      <td>0.000006</td>\n",
       "      <td>1316</td>\n",
       "      <td>0.00008</td>\n",
       "      <td>0.00006</td>\n",
       "      <td>0.0051</td>\n",
       "    </tr>\n",
       "    <tr>\n",
       "      <th>4</th>\n",
       "      <td>Inconel 718</td>\n",
       "      <td>189.0</td>\n",
       "      <td>1.2</td>\n",
       "      <td>0.0001</td>\n",
       "      <td>7400.0</td>\n",
       "      <td>720.0</td>\n",
       "      <td>0.000006</td>\n",
       "      <td>1316</td>\n",
       "      <td>0.00008</td>\n",
       "      <td>0.00006</td>\n",
       "      <td>0.0036</td>\n",
       "    </tr>\n",
       "  </tbody>\n",
       "</table>\n",
       "</div>"
      ],
      "text/plain": [
       "      Material  etamP    V       d     rho     Cp     alpha  Tm-T0        H  \\\n",
       "0  Inconel 718  189.0  0.4  0.0001  7400.0  720.0  0.000006   1316  0.00008   \n",
       "1  Inconel 718  189.0  0.6  0.0001  7400.0  720.0  0.000006   1316  0.00008   \n",
       "2  Inconel 718  189.0  0.8  0.0001  7400.0  720.0  0.000006   1316  0.00008   \n",
       "3  Inconel 718  189.0  1.0  0.0001  7400.0  720.0  0.000006   1316  0.00008   \n",
       "4  Inconel 718  189.0  1.2  0.0001  7400.0  720.0  0.000006   1316  0.00008   \n",
       "\n",
       "         L     Phi  \n",
       "0  0.00006  0.0357  \n",
       "1  0.00006  0.0143  \n",
       "2  0.00006  0.0032  \n",
       "3  0.00006  0.0051  \n",
       "4  0.00006  0.0036  "
      ]
     },
     "execution_count": 2,
     "metadata": {},
     "output_type": "execute_result"
    }
   ],
   "source": [
    "data = pd.read_csv(\"dataset_porosity.csv\")\n",
    "data.head()"
   ]
  },
  {
   "cell_type": "code",
   "execution_count": 3,
   "id": "08981286-fca8-4265-b316-55bf11a719e0",
   "metadata": {},
   "outputs": [],
   "source": [
    "output_list = [\"Phi\"]\n",
    "input_list = [\"etamP\", \"V\", \"Tm-T0\", \"d\",\"rho\", \"Cp\", \"alpha\", \"H\", \"L\"]\n",
    "X = np.array(data[input_list])\n",
    "Y = np.array(data[output_list])"
   ]
  },
  {
   "cell_type": "code",
   "execution_count": 4,
   "id": "9ad8a906",
   "metadata": {},
   "outputs": [],
   "source": [
    "D_in = np.matrix([[ 2,  1,  0,  1, -3,  2,  2,  1,  1],\n",
    "        [-3, -1,  0,  0,  0, -2, -1,  0,  0],\n",
    "        [ 1,  0,  0,  0,  1,  0,  0,  0,  0],\n",
    "        [ 0,  0,  1,  0,  0, -1,  0,  0,  0]])\n",
    "num_input      = 2"
   ]
  },
  {
   "cell_type": "code",
   "execution_count": 5,
   "id": "fd35b617-12e2-4ede-8d86-59b51b6562f0",
   "metadata": {},
   "outputs": [
    {
     "name": "stdout",
     "output_type": "stream",
     "text": [
      "Rank of D_in: 4\n",
      "D_in matrix:\n",
      " [[ 2  1  0  1 -3  2  2  1  1]\n",
      " [-3 -1  0  0  0 -2 -1  0  0]\n",
      " [ 1  0  0  0  1  0  0  0  0]\n",
      " [ 0  0  1  0  0 -1  0  0  0]]\n",
      "Basis vectors:\n",
      "matrix([[ 1., -3.,  0., -2., -1.,  0.,  0.,  0.,  0.],\n",
      "        [ 0.,  2., -1.,  0.,  0., -1.,  0.,  0.,  0.],\n",
      "        [ 0.,  1.,  0.,  1.,  0.,  0., -1.,  0.,  0.],\n",
      "        [ 0.,  0.,  0.,  1.,  0.,  0.,  0., -1.,  0.],\n",
      "        [ 0.,  0.,  0.,  1.,  0.,  0.,  0.,  0., -1.]])\n"
     ]
    }
   ],
   "source": [
    "print(\"Rank of D_in:\", matrix_rank(D_in))\n",
    "print(\"D_in matrix:\\n\", D_in)\n",
    "num_rows   = np.shape(D_in)[0]\n",
    "num_cols   = np.shape(D_in)[1]\n",
    "num_basis      = D_in.shape[1] -matrix_rank(D_in)\n",
    "basis_matrices = IT_PI.calc_basis(D_in, num_basis)\n",
    "print(\"Basis vectors:\")\n",
    "pprint(basis_matrices)"
   ]
  },
  {
   "cell_type": "code",
   "execution_count": 6,
   "id": "fcef379c-71d1-4cf6-84a7-ccbed64f7009",
   "metadata": {},
   "outputs": [
    {
     "data": {
      "text/html": [
       "<div>\n",
       "<style scoped>\n",
       "    .dataframe tbody tr th:only-of-type {\n",
       "        vertical-align: middle;\n",
       "    }\n",
       "\n",
       "    .dataframe tbody tr th {\n",
       "        vertical-align: top;\n",
       "    }\n",
       "\n",
       "    .dataframe thead th {\n",
       "        text-align: right;\n",
       "    }\n",
       "</style>\n",
       "<table border=\"1\" class=\"dataframe\">\n",
       "  <thead>\n",
       "    <tr style=\"text-align: right;\">\n",
       "      <th></th>\n",
       "      <th>etamP</th>\n",
       "      <th>V</th>\n",
       "      <th>Tm-T0</th>\n",
       "      <th>d</th>\n",
       "      <th>rho</th>\n",
       "      <th>Cp</th>\n",
       "      <th>alpha</th>\n",
       "      <th>H</th>\n",
       "      <th>L</th>\n",
       "    </tr>\n",
       "  </thead>\n",
       "  <tbody>\n",
       "    <tr>\n",
       "      <th>0</th>\n",
       "      <td>189.0</td>\n",
       "      <td>0.400000</td>\n",
       "      <td>1316</td>\n",
       "      <td>0.00010</td>\n",
       "      <td>7400.0</td>\n",
       "      <td>720.0</td>\n",
       "      <td>0.000006</td>\n",
       "      <td>0.000080</td>\n",
       "      <td>0.00006</td>\n",
       "    </tr>\n",
       "    <tr>\n",
       "      <th>1</th>\n",
       "      <td>189.0</td>\n",
       "      <td>0.600000</td>\n",
       "      <td>1316</td>\n",
       "      <td>0.00010</td>\n",
       "      <td>7400.0</td>\n",
       "      <td>720.0</td>\n",
       "      <td>0.000006</td>\n",
       "      <td>0.000080</td>\n",
       "      <td>0.00006</td>\n",
       "    </tr>\n",
       "    <tr>\n",
       "      <th>2</th>\n",
       "      <td>189.0</td>\n",
       "      <td>0.800000</td>\n",
       "      <td>1316</td>\n",
       "      <td>0.00010</td>\n",
       "      <td>7400.0</td>\n",
       "      <td>720.0</td>\n",
       "      <td>0.000006</td>\n",
       "      <td>0.000080</td>\n",
       "      <td>0.00006</td>\n",
       "    </tr>\n",
       "    <tr>\n",
       "      <th>3</th>\n",
       "      <td>189.0</td>\n",
       "      <td>1.000000</td>\n",
       "      <td>1316</td>\n",
       "      <td>0.00010</td>\n",
       "      <td>7400.0</td>\n",
       "      <td>720.0</td>\n",
       "      <td>0.000006</td>\n",
       "      <td>0.000080</td>\n",
       "      <td>0.00006</td>\n",
       "    </tr>\n",
       "    <tr>\n",
       "      <th>4</th>\n",
       "      <td>189.0</td>\n",
       "      <td>1.200000</td>\n",
       "      <td>1316</td>\n",
       "      <td>0.00010</td>\n",
       "      <td>7400.0</td>\n",
       "      <td>720.0</td>\n",
       "      <td>0.000006</td>\n",
       "      <td>0.000080</td>\n",
       "      <td>0.00006</td>\n",
       "    </tr>\n",
       "    <tr>\n",
       "      <th>...</th>\n",
       "      <td>...</td>\n",
       "      <td>...</td>\n",
       "      <td>...</td>\n",
       "      <td>...</td>\n",
       "      <td>...</td>\n",
       "      <td>...</td>\n",
       "      <td>...</td>\n",
       "      <td>...</td>\n",
       "      <td>...</td>\n",
       "    </tr>\n",
       "    <tr>\n",
       "      <th>87</th>\n",
       "      <td>56.0</td>\n",
       "      <td>0.999752</td>\n",
       "      <td>1429</td>\n",
       "      <td>0.00006</td>\n",
       "      <td>6881.0</td>\n",
       "      <td>790.0</td>\n",
       "      <td>0.000005</td>\n",
       "      <td>0.000080</td>\n",
       "      <td>0.00004</td>\n",
       "    </tr>\n",
       "    <tr>\n",
       "      <th>88</th>\n",
       "      <td>56.0</td>\n",
       "      <td>1.249860</td>\n",
       "      <td>1429</td>\n",
       "      <td>0.00006</td>\n",
       "      <td>6881.0</td>\n",
       "      <td>790.0</td>\n",
       "      <td>0.000005</td>\n",
       "      <td>0.000074</td>\n",
       "      <td>0.00004</td>\n",
       "    </tr>\n",
       "    <tr>\n",
       "      <th>89</th>\n",
       "      <td>56.0</td>\n",
       "      <td>1.498670</td>\n",
       "      <td>1429</td>\n",
       "      <td>0.00006</td>\n",
       "      <td>6881.0</td>\n",
       "      <td>790.0</td>\n",
       "      <td>0.000005</td>\n",
       "      <td>0.000074</td>\n",
       "      <td>0.00004</td>\n",
       "    </tr>\n",
       "    <tr>\n",
       "      <th>90</th>\n",
       "      <td>56.0</td>\n",
       "      <td>1.750720</td>\n",
       "      <td>1429</td>\n",
       "      <td>0.00006</td>\n",
       "      <td>6881.0</td>\n",
       "      <td>790.0</td>\n",
       "      <td>0.000005</td>\n",
       "      <td>0.000078</td>\n",
       "      <td>0.00004</td>\n",
       "    </tr>\n",
       "    <tr>\n",
       "      <th>91</th>\n",
       "      <td>56.0</td>\n",
       "      <td>2.003590</td>\n",
       "      <td>1429</td>\n",
       "      <td>0.00006</td>\n",
       "      <td>6881.0</td>\n",
       "      <td>790.0</td>\n",
       "      <td>0.000005</td>\n",
       "      <td>0.000090</td>\n",
       "      <td>0.00004</td>\n",
       "    </tr>\n",
       "  </tbody>\n",
       "</table>\n",
       "<p>92 rows × 9 columns</p>\n",
       "</div>"
      ],
      "text/plain": [
       "    etamP         V  Tm-T0        d     rho     Cp     alpha         H  \\\n",
       "0   189.0  0.400000   1316  0.00010  7400.0  720.0  0.000006  0.000080   \n",
       "1   189.0  0.600000   1316  0.00010  7400.0  720.0  0.000006  0.000080   \n",
       "2   189.0  0.800000   1316  0.00010  7400.0  720.0  0.000006  0.000080   \n",
       "3   189.0  1.000000   1316  0.00010  7400.0  720.0  0.000006  0.000080   \n",
       "4   189.0  1.200000   1316  0.00010  7400.0  720.0  0.000006  0.000080   \n",
       "..    ...       ...    ...      ...     ...    ...       ...       ...   \n",
       "87   56.0  0.999752   1429  0.00006  6881.0  790.0  0.000005  0.000080   \n",
       "88   56.0  1.249860   1429  0.00006  6881.0  790.0  0.000005  0.000074   \n",
       "89   56.0  1.498670   1429  0.00006  6881.0  790.0  0.000005  0.000074   \n",
       "90   56.0  1.750720   1429  0.00006  6881.0  790.0  0.000005  0.000078   \n",
       "91   56.0  2.003590   1429  0.00006  6881.0  790.0  0.000005  0.000090   \n",
       "\n",
       "          L  \n",
       "0   0.00006  \n",
       "1   0.00006  \n",
       "2   0.00006  \n",
       "3   0.00006  \n",
       "4   0.00006  \n",
       "..      ...  \n",
       "87  0.00004  \n",
       "88  0.00004  \n",
       "89  0.00004  \n",
       "90  0.00004  \n",
       "91  0.00004  \n",
       "\n",
       "[92 rows x 9 columns]"
      ]
     },
     "execution_count": 6,
     "metadata": {},
     "output_type": "execute_result"
    }
   ],
   "source": [
    "data[input_list]"
   ]
  },
  {
   "cell_type": "code",
   "execution_count": 7,
   "id": "5258408c-5f76-46d9-9652-c1f4291311b4",
   "metadata": {},
   "outputs": [
    {
     "data": {
      "text/html": [
       "<div>\n",
       "<style scoped>\n",
       "    .dataframe tbody tr th:only-of-type {\n",
       "        vertical-align: middle;\n",
       "    }\n",
       "\n",
       "    .dataframe tbody tr th {\n",
       "        vertical-align: top;\n",
       "    }\n",
       "\n",
       "    .dataframe thead th {\n",
       "        text-align: right;\n",
       "    }\n",
       "</style>\n",
       "<table border=\"1\" class=\"dataframe\">\n",
       "  <thead>\n",
       "    <tr style=\"text-align: right;\">\n",
       "      <th></th>\n",
       "      <th>etamP</th>\n",
       "      <th>V</th>\n",
       "      <th>d</th>\n",
       "      <th>rho</th>\n",
       "      <th>Cp</th>\n",
       "      <th>alpha</th>\n",
       "      <th>Tm-T0</th>\n",
       "      <th>H</th>\n",
       "      <th>L</th>\n",
       "      <th>Phi</th>\n",
       "    </tr>\n",
       "  </thead>\n",
       "  <tbody>\n",
       "    <tr>\n",
       "      <th>count</th>\n",
       "      <td>92.000000</td>\n",
       "      <td>92.000000</td>\n",
       "      <td>92.000000</td>\n",
       "      <td>92.000000</td>\n",
       "      <td>92.000000</td>\n",
       "      <td>92.000000</td>\n",
       "      <td>92.000000</td>\n",
       "      <td>92.000000</td>\n",
       "      <td>92.000000</td>\n",
       "      <td>92.000000</td>\n",
       "    </tr>\n",
       "    <tr>\n",
       "      <th>mean</th>\n",
       "      <td>98.397826</td>\n",
       "      <td>0.923739</td>\n",
       "      <td>0.000090</td>\n",
       "      <td>6534.630435</td>\n",
       "      <td>762.500000</td>\n",
       "      <td>0.000006</td>\n",
       "      <td>1371.478261</td>\n",
       "      <td>0.000096</td>\n",
       "      <td>0.000045</td>\n",
       "      <td>0.016918</td>\n",
       "    </tr>\n",
       "    <tr>\n",
       "      <th>std</th>\n",
       "      <td>54.049652</td>\n",
       "      <td>0.471282</td>\n",
       "      <td>0.000016</td>\n",
       "      <td>1359.563009</td>\n",
       "      <td>45.828754</td>\n",
       "      <td>0.000002</td>\n",
       "      <td>57.009442</td>\n",
       "      <td>0.000019</td>\n",
       "      <td>0.000014</td>\n",
       "      <td>0.022945</td>\n",
       "    </tr>\n",
       "    <tr>\n",
       "      <th>min</th>\n",
       "      <td>34.000000</td>\n",
       "      <td>0.139000</td>\n",
       "      <td>0.000060</td>\n",
       "      <td>3920.000000</td>\n",
       "      <td>720.000000</td>\n",
       "      <td>0.000005</td>\n",
       "      <td>1316.000000</td>\n",
       "      <td>0.000060</td>\n",
       "      <td>0.000020</td>\n",
       "      <td>0.000090</td>\n",
       "    </tr>\n",
       "    <tr>\n",
       "      <th>25%</th>\n",
       "      <td>54.600000</td>\n",
       "      <td>0.600000</td>\n",
       "      <td>0.000070</td>\n",
       "      <td>6881.000000</td>\n",
       "      <td>720.000000</td>\n",
       "      <td>0.000005</td>\n",
       "      <td>1316.000000</td>\n",
       "      <td>0.000080</td>\n",
       "      <td>0.000030</td>\n",
       "      <td>0.003638</td>\n",
       "    </tr>\n",
       "    <tr>\n",
       "      <th>50%</th>\n",
       "      <td>76.100000</td>\n",
       "      <td>0.800000</td>\n",
       "      <td>0.000100</td>\n",
       "      <td>7400.000000</td>\n",
       "      <td>720.000000</td>\n",
       "      <td>0.000006</td>\n",
       "      <td>1316.000000</td>\n",
       "      <td>0.000092</td>\n",
       "      <td>0.000045</td>\n",
       "      <td>0.007332</td>\n",
       "    </tr>\n",
       "    <tr>\n",
       "      <th>75%</th>\n",
       "      <td>153.000000</td>\n",
       "      <td>1.200000</td>\n",
       "      <td>0.000100</td>\n",
       "      <td>7400.000000</td>\n",
       "      <td>790.000000</td>\n",
       "      <td>0.000006</td>\n",
       "      <td>1429.000000</td>\n",
       "      <td>0.000120</td>\n",
       "      <td>0.000060</td>\n",
       "      <td>0.021625</td>\n",
       "    </tr>\n",
       "    <tr>\n",
       "      <th>max</th>\n",
       "      <td>191.000000</td>\n",
       "      <td>2.003590</td>\n",
       "      <td>0.000100</td>\n",
       "      <td>7400.000000</td>\n",
       "      <td>830.000000</td>\n",
       "      <td>0.000010</td>\n",
       "      <td>1430.000000</td>\n",
       "      <td>0.000124</td>\n",
       "      <td>0.000060</td>\n",
       "      <td>0.128301</td>\n",
       "    </tr>\n",
       "  </tbody>\n",
       "</table>\n",
       "</div>"
      ],
      "text/plain": [
       "            etamP          V          d          rho          Cp      alpha  \\\n",
       "count   92.000000  92.000000  92.000000    92.000000   92.000000  92.000000   \n",
       "mean    98.397826   0.923739   0.000090  6534.630435  762.500000   0.000006   \n",
       "std     54.049652   0.471282   0.000016  1359.563009   45.828754   0.000002   \n",
       "min     34.000000   0.139000   0.000060  3920.000000  720.000000   0.000005   \n",
       "25%     54.600000   0.600000   0.000070  6881.000000  720.000000   0.000005   \n",
       "50%     76.100000   0.800000   0.000100  7400.000000  720.000000   0.000006   \n",
       "75%    153.000000   1.200000   0.000100  7400.000000  790.000000   0.000006   \n",
       "max    191.000000   2.003590   0.000100  7400.000000  830.000000   0.000010   \n",
       "\n",
       "             Tm-T0          H          L        Phi  \n",
       "count    92.000000  92.000000  92.000000  92.000000  \n",
       "mean   1371.478261   0.000096   0.000045   0.016918  \n",
       "std      57.009442   0.000019   0.000014   0.022945  \n",
       "min    1316.000000   0.000060   0.000020   0.000090  \n",
       "25%    1316.000000   0.000080   0.000030   0.003638  \n",
       "50%    1316.000000   0.000092   0.000045   0.007332  \n",
       "75%    1429.000000   0.000120   0.000060   0.021625  \n",
       "max    1430.000000   0.000124   0.000060   0.128301  "
      ]
     },
     "execution_count": 7,
     "metadata": {},
     "output_type": "execute_result"
    }
   ],
   "source": [
    "data.describe()"
   ]
  },
  {
   "cell_type": "code",
   "execution_count": 8,
   "id": "5ee52207",
   "metadata": {},
   "outputs": [
    {
     "name": "stdout",
     "output_type": "stream",
     "text": [
      "------------------------------------------------------------\n",
      "num of parameters: 10\n",
      "\n",
      "Using estimator: 'binning' with hyperparameters: {'num_bins': 50}\n",
      "\n",
      "(1500_w,3000)-aCMA-ES (mu_w=756.3,w_1=0%) in dimension 10 (seed=50, Tue Oct 28 11:12:46 2025)\n",
      "Iterat #Fevals   function value  axis ratio  sigma  min&max std  t[m:s]\n",
      "    1   3000 -2.569912949546655e+00 1.0e+00 9.08e-01  7e-01  9e-01 0:03.8\n",
      "    2   6000 -2.569912949546655e+00 2.0e+00 1.12e+00  8e-01  1e+00 0:07.8\n",
      "    3   9000 -2.584981366515350e+00 3.8e+00 1.36e+00  9e-01  1e+00 0:11.8\n",
      "    4  12000 -2.569912949546655e+00 6.0e+00 1.57e+00  9e-01  1e+00 0:15.9\n",
      "    5  15000 -2.569912949546655e+00 8.1e+00 1.74e+00  9e-01  1e+00 0:19.9\n",
      "    7  21000 -2.569912949546655e+00 1.2e+01 1.90e+00  8e-01  1e+00 0:28.0\n",
      "    9  27000 -2.584981366515350e+00 1.5e+01 1.90e+00  6e-01  1e+00 0:36.2\n",
      "   11  33000 -2.584981366515350e+00 1.8e+01 1.89e+00  6e-01  1e+00 0:44.4\n",
      "   13  39000 -2.584981366515350e+00 1.9e+01 1.94e+00  5e-01  9e-01 0:52.4\n",
      "   16  48000 -2.584981366515350e+00 2.1e+01 1.93e+00  5e-01  8e-01 1:04.5\n",
      "   19  57000 -2.584981366515350e+00 2.3e+01 1.99e+00  4e-01  8e-01 1:16.7\n",
      "   22  66000 -2.584981366515350e+00 2.5e+01 2.06e+00  4e-01  8e-01 1:28.9\n",
      "   25  75000 -2.584981366515350e+00 2.8e+01 2.15e+00  4e-01  8e-01 1:41.0\n",
      "   28  84000 -2.584981366515350e+00 3.6e+01 2.21e+00  4e-01  9e-01 1:53.2\n",
      "termination on tolfunhist=1e-12\n",
      "final/bestever f-value = -2.584981e+00 -2.584981e+00 after 84000/6307 evaluations\n",
      "incumbent solution: [-0.98186003 -0.91812195 -0.64783656  0.87542293 -0.99350045 -0.15819436\n",
      "  0.06077187 -0.08116989 ...]\n",
      "std deviations: [0.39139983 0.4615069  0.54586671 0.85987449 0.70695601 0.65902235\n",
      " 0.72786586 0.73460011 ...]\n",
      "Optimized_params: [-0.9768425  -1.87871551  1.10829588  1.02558    -1.0461808  -1.58013748\n",
      " -1.8837398  -0.11472744  0.97334327 -0.53245618]\n",
      "Optimized_MI: -2.5849813665153496\n",
      "------------------------------------------------------------\n",
      "coef_pi: [[-0.32118396  0.09252127  0.6177181   1.          0.32118396  0.6177181\n",
      "  -0.36440558 -0.33720876  0.34398226]]\n",
      "coef_pi: [[-0.45322447  0.2461556   0.5403055   1.          0.45322447  0.5403055\n",
      "   0.03290681 -0.27918013  0.15272226]]\n"
     ]
    }
   ],
   "source": [
    "# Run dimensionless learning\n",
    "results = IT_PI.main(\n",
    "    X,\n",
    "    Y.reshape(-1, 1),\n",
    "    basis_matrices,\n",
    "    num_input=num_input,\n",
    "    estimator=\"binning\",\n",
    "    estimator_params={\"num_bins\": 50},\n",
    "    popsize=3000,\n",
    "    maxiter=50000,\n",
    "    num_trials=50,\n",
    "    seed=50\n",
    ")\n",
    "\n",
    "\n"
   ]
  },
  {
   "cell_type": "code",
   "execution_count": 15,
   "id": "dd932263-4284-4a8a-9773-0d6f2b84d9d9",
   "metadata": {},
   "outputs": [
    {
     "name": "stdout",
     "output_type": "stream",
     "text": [
      "------------------------------------------------------------\n",
      "num of parameters: 10\n",
      "\n",
      "Using estimator: 'binning' with hyperparameters: {'num_bins': 50}\n",
      "\n",
      "(1500_w,3000)-aCMA-ES (mu_w=756.3,w_1=0%) in dimension 10 (seed=50, Tue Oct 28 11:21:57 2025)\n",
      "Iterat #Fevals   function value  axis ratio  sigma  min&max std  t[m:s]\n",
      "    1   3000 -2.569912949546655e+00 1.0e+00 9.08e-01  7e-01  9e-01 0:04.0\n",
      "    2   6000 -2.569912949546655e+00 2.0e+00 1.12e+00  8e-01  1e+00 0:08.0\n",
      "    3   9000 -2.584981366515350e+00 3.8e+00 1.36e+00  9e-01  1e+00 0:12.0\n",
      "    4  12000 -2.569912949546655e+00 6.0e+00 1.57e+00  9e-01  1e+00 0:15.9\n",
      "    5  15000 -2.569912949546655e+00 8.1e+00 1.74e+00  9e-01  1e+00 0:19.9\n",
      "    7  21000 -2.569912949546655e+00 1.2e+01 1.90e+00  8e-01  1e+00 0:27.9\n",
      "    9  27000 -2.584981366515350e+00 1.5e+01 1.90e+00  6e-01  1e+00 0:36.1\n",
      "   11  33000 -2.584981366515350e+00 1.8e+01 1.89e+00  6e-01  1e+00 0:44.4\n",
      "   13  39000 -2.584981366515350e+00 1.9e+01 1.94e+00  5e-01  9e-01 0:52.4\n",
      "   16  48000 -2.584981366515350e+00 2.1e+01 1.93e+00  5e-01  8e-01 1:04.6\n",
      "   19  57000 -2.584981366515350e+00 2.3e+01 1.99e+00  4e-01  8e-01 1:16.6\n",
      "   22  66000 -2.584981366515350e+00 2.5e+01 2.06e+00  4e-01  8e-01 1:28.7\n",
      "   25  75000 -2.584981366515350e+00 2.8e+01 2.15e+00  4e-01  8e-01 1:40.8\n",
      "   28  84000 -2.584981366515350e+00 3.6e+01 2.21e+00  4e-01  9e-01 1:52.8\n",
      "termination on tolfunhist=1e-12\n",
      "final/bestever f-value = -2.584981e+00 -2.584981e+00 after 84000/6307 evaluations\n",
      "incumbent solution: [-0.98186003 -0.91812195 -0.64783656  0.87542293 -0.99350045 -0.15819436\n",
      "  0.06077187 -0.08116989 ...]\n",
      "std deviations: [0.39139983 0.4615069  0.54586671 0.85987449 0.70695601 0.65902235\n",
      " 0.72786586 0.73460011 ...]\n",
      "Optimized_params: [-0.9768425  -1.87871551  1.10829588  1.02558    -1.0461808  -1.58013748\n",
      " -1.8837398  -0.11472744  0.97334327 -0.53245618]\n",
      "Optimized_MI: -2.5849813665153496\n",
      "------------------------------------------------------------\n",
      "coef_pi: [[-0.32118396  0.09252127  0.6177181   1.          0.32118396  0.6177181\n",
      "  -0.36440558 -0.33720876  0.34398226]]\n",
      "coef_pi: [[-0.45322447  0.2461556   0.5403055   1.          0.45322447  0.5403055\n",
      "   0.03290681 -0.27918013  0.15272226]]\n"
     ]
    }
   ],
   "source": [
    "# Run dimensionless learning\n",
    "results = IT_PI.main(\n",
    "    X,\n",
    "    Y.reshape(-1, 1),\n",
    "    basis_matrices,\n",
    "    num_input=num_input,\n",
    "    estimator=\"binning\",\n",
    "    estimator_params={\"num_bins\": 50},\n",
    "    popsize=3000,\n",
    "    maxiter=50000,\n",
    "    num_trials=50,\n",
    "    seed=50\n",
    ")\n",
    "\n",
    "\n"
   ]
  },
  {
   "cell_type": "code",
   "execution_count": 9,
   "id": "4ac6e8bd",
   "metadata": {},
   "outputs": [
    {
     "name": "stdout",
     "output_type": "stream",
     "text": [
      "Optimal_pi_lab[0] = $\\frac{V^{0.09} \\cdot Tm-T0^{0.62} \\cdot d^{1.0} \\cdot rho^{0.32} \\cdot Cp^{0.62} \\cdot L^{0.34}}{etamP^{0.32} \\cdot alpha^{0.36} \\cdot H^{0.34}}$\n",
      "Optimal_pi_lab[1] = $\\frac{V^{0.25} \\cdot Tm-T0^{0.54} \\cdot d^{1.0} \\cdot rho^{0.45} \\cdot Cp^{0.54} \\cdot alpha^{0.03} \\cdot L^{0.15}}{etamP^{0.45} \\cdot H^{0.28}}$\n"
     ]
    }
   ],
   "source": [
    "input_PI = results[\"input_PI\"]\n",
    "output_PI = results[\"output_PI\"]\n",
    "epsilon  = results[\"irreducible_error\"]\n",
    "uq       = results[\"uncertainty\"]\n",
    "\n",
    "coef_pi_list     = results[\"input_coef\"]\n",
    "variables = input_list;\n",
    "\n",
    "optimal_pi_lab   = IT_PI.create_labels(np.array(coef_pi_list).reshape(-1, len(variables)), variables)\n",
    "for j, label in enumerate(optimal_pi_lab):\n",
    "    print(f'Optimal_pi_lab[{j}] = {label}')\n",
    "    \n",
    "#input_PI[:, [0, 1]] = input_PI[:, [1, 0]]\n"
   ]
  },
  {
   "cell_type": "code",
   "execution_count": 10,
   "id": "cc45daa9-f4ee-41de-8be1-9a0d35ae9cd8",
   "metadata": {},
   "outputs": [
    {
     "data": {
      "text/plain": [
       "[array([[-0.32,  0.09,  0.62,  1.  ,  0.32,  0.62, -0.36, -0.34,  0.34]]),\n",
       " array([[-0.45,  0.25,  0.54,  1.  ,  0.45,  0.54,  0.03, -0.28,  0.15]])]"
      ]
     },
     "execution_count": 10,
     "metadata": {},
     "output_type": "execute_result"
    }
   ],
   "source": [
    "results['input_coef'] #'input_coef_basis'"
   ]
  },
  {
   "cell_type": "code",
   "execution_count": 11,
   "id": "e0fca952",
   "metadata": {},
   "outputs": [
    {
     "data": {
      "image/png": "[encoded data removed]",
      "text/plain": [
       "<Figure size 400x400 with 1 Axes>"
      ]
     },
     "metadata": {},
     "output_type": "display_data"
    }
   ],
   "source": [
    "fig = plt.figure(figsize=(4, 4))\n",
    "plt.rcParams['font.family'] = 'Times New Roman' \n",
    "plt.rcParams['text.usetex'] = True  \n",
    "ax = fig.add_subplot(111, projection='3d')\n",
    "ax.scatter(input_PI[:, 0].ravel(), input_PI[:, 1].ravel(), output_PI.ravel(), c='r', marker='o')\n",
    "def prepare_label(label):\n",
    "    if '$' in label:\n",
    "        return r'{}'.format(label)\n",
    "    return label\n",
    "ax.set_xlabel(r'$\\Pi_1^*$', fontsize=20, labelpad=20)  # Increase labelpad as needed\n",
    "ax.set_ylabel(r'$\\Pi_2^*$', fontsize=20, labelpad=25)\n",
    "ax.set_zlabel(r'$C_f$', fontsize=15, labelpad=20)\n",
    "\n",
    "ax.xaxis.set_tick_params(width=1, labelsize=15)\n",
    "ax.yaxis.set_tick_params(width=1, labelsize=15)\n",
    "ax.zaxis.set_tick_params(width=1, labelsize=15)\n",
    "ax.tick_params(axis='both', which='major', labelsize=15, pad=10)\n",
    "ax.grid(True)  \n",
    "# plt.savefig('roughness_dimensionless.png', dpi=300, bbox_inches='tight')\n",
    "# plt.savefig('roughness_dimensionless.eps', dpi=300, bbox_inches='tight')\n",
    "\n",
    "# Show the plot\n",
    "plt.show()"
   ]
  },
  {
   "cell_type": "code",
   "execution_count": 16,
   "id": "677357c9-2b54-4051-85ee-1439d13fccde",
   "metadata": {},
   "outputs": [
    {
     "data": {
      "application/vnd.plotly.v1+json": {
       "config": {
        "plotlyServerURL": "https://plot.ly"
       },
       "data": [
        {
         "marker": {
          "color": {
           "bdata": "1zTvOEVHoj8Mk6mCUUmNPy1DHOviNmo/iIVa07zjdD+Sy39Iv31tP5zEILByaIE/Dr4wmSoYhT9Q/Bhz1xKiP5T2Bl+YTHU/RiV1ApoIez/6fmq8dJN4P3npJjEIrHw/6Gor9pfdgz/6fmq8dJOYP1g5tMh2vp8/rK3YX3ZPbj8g0m9fB855PzvfT42XbnI/kst/SL99fT8FNBE2PL2SPw6+MJkqGJU/B/AWSFD8mD9fB84ZUdprPy9uowG8BXI/ukkMAiuHdj8BTYQNT6+UPxNhw9MrZYk/nzws1JrmjT/SAN4CCYqPP9QrZRniWHc/XwfOGVHaez+6SQwCK4eWPxkEVg4tso0/2c73U+Olmz9rmnecoiOpP/sONFXmnJ4/j4b4LHTKiD+u5kpON5qhPxnw6DUs/LE/OOoROEwTej9Jz5lZ8Ee0P4ka+XrG14E/sV/BRw4ioz/kIimvtt52Pxj31Qv0P48/0XQbecX4dT8aahSSzOp9P2FUUiegiaA/guLHmLuWkD//CS5W1GB6PxoXDoRkAWM/nzws1JrmbT/YtiizQSZ5P95xio7k8n8/gLdAguLHiD8/V1uxv+yOP1Uu+URDa4I/BxJv+Dgubj+Jsa/p/yRXP/UlRI7nElI/RFoZQ+9DVD8GGTvAF09SP0fSH65dWVA/e8pBO22uVj+qRLhN4dZXP7EOcNYaKW8/AiuHFtnOtz8Go+3zc562Pxg5sMFnkLM/xrfBmhQwoz+P2JNlLaqaP0DbrPLrJH4/oS//GYyubj8A7f38rVNbPwQsAxjgzIk/arx0kxgElj/8qfHSTWKgPzzB/uvctIk/Bg5o6Qq2YT9szOuIQzZgP0uwOJz51Tw/dmuZDMfzGT/M1CR4Qxo1P21VEtkHWTY/D9b/OcyXFz9tVRLZB1k2PyK2JqPrPlc/wi/186YiRT9HodkzU3NsPwG+27xxUpg/+wJ64c6FqT/wpIXLKmzAPw==",
           "dtype": "f8",
           "shape": "92, 1"
          },
          "colorscale": [
           [
            0,
            "#440154"
           ],
           [
            0.1111111111111111,
            "#482878"
           ],
           [
            0.2222222222222222,
            "#3e4989"
           ],
           [
            0.3333333333333333,
            "#31688e"
           ],
           [
            0.4444444444444444,
            "#26828e"
           ],
           [
            0.5555555555555556,
            "#1f9e89"
           ],
           [
            0.6666666666666666,
            "#35b779"
           ],
           [
            0.7777777777777778,
            "#6ece58"
           ],
           [
            0.8888888888888888,
            "#b5de2b"
           ],
           [
            1,
            "#fde725"
           ]
          ],
          "opacity": 0.8,
          "size": 6
         },
         "mode": "markers",
         "type": "scatter3d",
         "x": {
          "bdata": "3a0zbXK0WkAUIPKHh7JbQB7CNaSCbFxAYi4mBB8AXUB1Uw628npdQDQ1tHxh5F1A14WzjuZAXkDnqWPuuHhbQNjHUNDvtmBAlUTThWs9XUAP96/ORNVdQKLeZkGfU15AgmDN8BTAXkAicUgDQh9fQIp3WyS1klxApD9co5CiXUCrcXqAjmleQAu7xHR+B19AmfRs3+mKX0DhT/zauPtfQATg0G9bL2BAz9rUPRPiXUBXB0WUZf5eQC0ToQuDzl9AMRCwXtg5YEBtkJJTkX5gQE4vYdiOuWBASom4zFLtYEAy1hIWjZJfQBM4gRl5X2BA/KS+x2nNYECtek/hqyRhQDea9mdHbWFAbzDQpZqrYUB2TtTDS+JhQA2zEzX68l5AaIfRRgDyW0D1O6+84vtcQO5zN2SBvl1A9OTMwslKWUAl8hCYX3dbQKRxhiPke1dAuzf6V6+AWUBPMf60N2dWQLut+Vw6VFhA5XZoB4GAVUAKLxaLrllXQEr+z0Kw/FNAZrHw1Aa8VECTjFtx/0NVQOoOOJVfDlZAj3H/Nd5eVkCJzaA0U6NWQErouBlK4lZAvLMLVYMZV0Avd0lZdk1XQFCVZpqaZFpAf9OJ3uiIWUCrvITRFMNYQJPAqHIvGFhA4AVf7/h2V0C3wh1mYOlWQOBhOISbaFZA9MQi47X4VUAiUA5rSYZVQJTLKgqDJFVAmG0DMtc8X0Bc/NBvzztfQDJgR65kaV5As7x2pfPKXUDvrPcwTRheQHqaUC8uWl1AC6KNbAfAXEBkBe5wpL1cQGidPWAuSVxAyIK6bRqQW0ATcoAo6gJbQMXOC7YZLFJAKXgJZzfIUUAuSGbsIApUQC9LBSH7m1NAQx2sGZlHUUDEZcdCbQBXQKO1K3klDlNATnReef+BVkCELjvKMt9VQPRUBp4RgFdA+QccuOpqWUD/YYmHTZtaQEzGFu1CGFtA07H2A6vzWkBDt0+52ANaQA==",
          "dtype": "f8"
         },
         "y": {
          "bdata": "mOD+9x9o+T8dnPxV/x38P8swp2fANv4/qJeRCYHy/z8t5f1x9LcAQL2P2R8dYAFA5PfVXRz3AUBuGtguPnD6P5fTYF+4UAJANaWltddw/z+a0pG0Tp8AQPVCtRnBZQFAm9X5470UAkAPtwDW3rECQIsyuqz08Ps/yn/q+wvs/j87wetFLJ0AQFpBE88ukQFAiGVL2+hiAkCobn/v1xsDQPzeVk3nwQNAfPak7mTC/T9WcwnRkXcAQP7SGqHssQFAMeQk08+1AkC2WJJzL5UDQDfCqh0nWgRAavHeqwQLBUBQZtw5dhMAQHjyD9eBygFAImA+8CIeA0ACLmFV6zYEQO6kNppAKAVAmsAWZg79BUBODP1UJLwGQMjpx6nvEwVAu8GREkdCAkCue/9D8DQEQNZ7fiivtgVAV2AQO/S8/z9HGQleS/QDQHlMUKIjmPw/sK7gOkv6AUCHXqve3sL6P6w1zMBB0wBApw2zc4JC+T+V66GPNMP/P81gscW8S/o/h9J7m3Ye/T+kvPvvDD3/P+tLGGExSQFAq0brwaj6AUDuEtYZHpUCQAHKV48TJgNAkQIe2IOnA0BQAdy3QSMEQP9nOLRAQwZA/4y0KWNABUC+BhvnSVoEQN94YADZlQNAG2DBTY3eAkAgR5z3Mj8CQAT25pyhrwFAK27nru4zAUCTaK5SeLYAQG7ACuMYTABAXEinrPMhBEBIo0mHGyAEQMQD4Eg9sAJAwm6BD6amAUAZ/ltWGCcCQOC+uCV97wBA5wqgPtL5/z8p2w0xc/L/P7OZ+0/lj/4/IBlVlfRw/D+177GBbeP6P4zHdhdyQv0/Yhk54C+M+z94ngNlxrb/P0DmJd7A2/0/ic/NkoFw+T8mli8vbsMBQC2WvEfNkvs/rjHmXF25AEBTeiqfc+P+P4pBNChSev0/rhyHCF2IAEAUw6a6xNoBQKq0wCVBtgJA8KznraElA0CofLe0NQsDQA==",
          "dtype": "f8"
         },
         "z": {
          "bdata": "1zTvOEVHoj8Mk6mCUUmNPy1DHOviNmo/iIVa07zjdD+Sy39Iv31tP5zEILByaIE/Dr4wmSoYhT9Q/Bhz1xKiP5T2Bl+YTHU/RiV1ApoIez/6fmq8dJN4P3npJjEIrHw/6Gor9pfdgz/6fmq8dJOYP1g5tMh2vp8/rK3YX3ZPbj8g0m9fB855PzvfT42XbnI/kst/SL99fT8FNBE2PL2SPw6+MJkqGJU/B/AWSFD8mD9fB84ZUdprPy9uowG8BXI/ukkMAiuHdj8BTYQNT6+UPxNhw9MrZYk/nzws1JrmjT/SAN4CCYqPP9QrZRniWHc/XwfOGVHaez+6SQwCK4eWPxkEVg4tso0/2c73U+Olmz9rmnecoiOpP/sONFXmnJ4/j4b4LHTKiD+u5kpON5qhPxnw6DUs/LE/OOoROEwTej9Jz5lZ8Ee0P4ka+XrG14E/sV/BRw4ioz/kIimvtt52Pxj31Qv0P48/0XQbecX4dT8aahSSzOp9P2FUUiegiaA/guLHmLuWkD//CS5W1GB6PxoXDoRkAWM/nzws1JrmbT/YtiizQSZ5P95xio7k8n8/gLdAguLHiD8/V1uxv+yOP1Uu+URDa4I/BxJv+Dgubj+Jsa/p/yRXP/UlRI7nElI/RFoZQ+9DVD8GGTvAF09SP0fSH65dWVA/e8pBO22uVj+qRLhN4dZXP7EOcNYaKW8/AiuHFtnOtz8Go+3zc562Pxg5sMFnkLM/xrfBmhQwoz+P2JNlLaqaP0DbrPLrJH4/oS//GYyubj8A7f38rVNbPwQsAxjgzIk/arx0kxgElj/8qfHSTWKgPzzB/uvctIk/Bg5o6Qq2YT9szOuIQzZgP0uwOJz51Tw/dmuZDMfzGT/M1CR4Qxo1P21VEtkHWTY/D9b/OcyXFz9tVRLZB1k2PyK2JqPrPlc/wi/186YiRT9HodkzU3NsPwG+27xxUpg/+wJ64c6FqT/wpIXLKmzAPw==",
          "dtype": "f8"
         }
        }
       ],
       "layout": {
        "margin": {
         "b": 0,
         "l": 0,
         "r": 0,
         "t": 40
        },
        "scene": {
         "xaxis": {
          "title": {
           "text": "Eje X"
          }
         },
         "yaxis": {
          "title": {
           "text": "Eje Y"
          }
         },
         "zaxis": {
          "title": {
           "text": "Eje Z"
          }
         }
        },
        "template": {
         "data": {
          "bar": [
           {
            "error_x": {
             "color": "#2a3f5f"
            },
            "error_y": {
             "color": "#2a3f5f"
            },
            "marker": {
             "line": {
              "color": "#E5ECF6",
              "width": 0.5
             },
             "pattern": {
              "fillmode": "overlay",
              "size": 10,
              "solidity": 0.2
             }
            },
            "type": "bar"
           }
          ],
          "barpolar": [
           {
            "marker": {
             "line": {
              "color": "#E5ECF6",
              "width": 0.5
             },
             "pattern": {
              "fillmode": "overlay",
              "size": 10,
              "solidity": 0.2
             }
            },
            "type": "barpolar"
           }
          ],
          "carpet": [
           {
            "aaxis": {
             "endlinecolor": "#2a3f5f",
             "gridcolor": "white",
             "linecolor": "white",
             "minorgridcolor": "white",
             "startlinecolor": "#2a3f5f"
            },
            "baxis": {
             "endlinecolor": "#2a3f5f",
             "gridcolor": "white",
             "linecolor": "white",
             "minorgridcolor": "white",
             "startlinecolor": "#2a3f5f"
            },
            "type": "carpet"
           }
          ],
          "choropleth": [
           {
            "colorbar": {
             "outlinewidth": 0,
             "ticks": ""
            },
            "type": "choropleth"
           }
          ],
          "contour": [
           {
            "colorbar": {
             "outlinewidth": 0,
             "ticks": ""
            },
            "colorscale": [
             [
              0,
              "#0d0887"
             ],
             [
              0.1111111111111111,
              "#46039f"
             ],
             [
              0.2222222222222222,
              "#7201a8"
             ],
             [
              0.3333333333333333,
              "#9c179e"
             ],
             [
              0.4444444444444444,
              "#bd3786"
             ],
             [
              0.5555555555555556,
              "#d8576b"
             ],
             [
              0.6666666666666666,
              "#ed7953"
             ],
             [
              0.7777777777777778,
              "#fb9f3a"
             ],
             [
              0.8888888888888888,
              "#fdca26"
             ],
             [
              1,
              "#f0f921"
             ]
            ],
            "type": "contour"
           }
          ],
          "contourcarpet": [
           {
            "colorbar": {
             "outlinewidth": 0,
             "ticks": ""
            },
            "type": "contourcarpet"
           }
          ],
          "heatmap": [
           {
            "colorbar": {
             "outlinewidth": 0,
             "ticks": ""
            },
            "colorscale": [
             [
              0,
              "#0d0887"
             ],
             [
              0.1111111111111111,
              "#46039f"
             ],
             [
              0.2222222222222222,
              "#7201a8"
             ],
             [
              0.3333333333333333,
              "#9c179e"
             ],
             [
              0.4444444444444444,
              "#bd3786"
             ],
             [
              0.5555555555555556,
              "#d8576b"
             ],
             [
              0.6666666666666666,
              "#ed7953"
             ],
             [
              0.7777777777777778,
              "#fb9f3a"
             ],
             [
              0.8888888888888888,
              "#fdca26"
             ],
             [
              1,
              "#f0f921"
             ]
            ],
            "type": "heatmap"
           }
          ],
          "histogram": [
           {
            "marker": {
             "pattern": {
              "fillmode": "overlay",
              "size": 10,
              "solidity": 0.2
             }
            },
            "type": "histogram"
           }
          ],
          "histogram2d": [
           {
            "colorbar": {
             "outlinewidth": 0,
             "ticks": ""
            },
            "colorscale": [
             [
              0,
              "#0d0887"
             ],
             [
              0.1111111111111111,
              "#46039f"
             ],
             [
              0.2222222222222222,
              "#7201a8"
             ],
             [
              0.3333333333333333,
              "#9c179e"
             ],
             [
              0.4444444444444444,
              "#bd3786"
             ],
             [
              0.5555555555555556,
              "#d8576b"
             ],
             [
              0.6666666666666666,
              "#ed7953"
             ],
             [
              0.7777777777777778,
              "#fb9f3a"
             ],
             [
              0.8888888888888888,
              "#fdca26"
             ],
             [
              1,
              "#f0f921"
             ]
            ],
            "type": "histogram2d"
           }
          ],
          "histogram2dcontour": [
           {
            "colorbar": {
             "outlinewidth": 0,
             "ticks": ""
            },
            "colorscale": [
             [
              0,
              "#0d0887"
             ],
             [
              0.1111111111111111,
              "#46039f"
             ],
             [
              0.2222222222222222,
              "#7201a8"
             ],
             [
              0.3333333333333333,
              "#9c179e"
             ],
             [
              0.4444444444444444,
              "#bd3786"
             ],
             [
              0.5555555555555556,
              "#d8576b"
             ],
             [
              0.6666666666666666,
              "#ed7953"
             ],
             [
              0.7777777777777778,
              "#fb9f3a"
             ],
             [
              0.8888888888888888,
              "#fdca26"
             ],
             [
              1,
              "#f0f921"
             ]
            ],
            "type": "histogram2dcontour"
           }
          ],
          "mesh3d": [
           {
            "colorbar": {
             "outlinewidth": 0,
             "ticks": ""
            },
            "type": "mesh3d"
           }
          ],
          "parcoords": [
           {
            "line": {
             "colorbar": {
              "outlinewidth": 0,
              "ticks": ""
             }
            },
            "type": "parcoords"
           }
          ],
          "pie": [
           {
            "automargin": true,
            "type": "pie"
           }
          ],
          "scatter": [
           {
            "fillpattern": {
             "fillmode": "overlay",
             "size": 10,
             "solidity": 0.2
            },
            "type": "scatter"
           }
          ],
          "scatter3d": [
           {
            "line": {
             "colorbar": {
              "outlinewidth": 0,
              "ticks": ""
             }
            },
            "marker": {
             "colorbar": {
              "outlinewidth": 0,
              "ticks": ""
             }
            },
            "type": "scatter3d"
           }
          ],
          "scattercarpet": [
           {
            "marker": {
             "colorbar": {
              "outlinewidth": 0,
              "ticks": ""
             }
            },
            "type": "scattercarpet"
           }
          ],
          "scattergeo": [
           {
            "marker": {
             "colorbar": {
              "outlinewidth": 0,
              "ticks": ""
             }
            },
            "type": "scattergeo"
           }
          ],
          "scattergl": [
           {
            "marker": {
             "colorbar": {
              "outlinewidth": 0,
              "ticks": ""
             }
            },
            "type": "scattergl"
           }
          ],
          "scattermap": [
           {
            "marker": {
             "colorbar": {
              "outlinewidth": 0,
              "ticks": ""
             }
            },
            "type": "scattermap"
           }
          ],
          "scattermapbox": [
           {
            "marker": {
             "colorbar": {
              "outlinewidth": 0,
              "ticks": ""
             }
            },
            "type": "scattermapbox"
           }
          ],
          "scatterpolar": [
           {
            "marker": {
             "colorbar": {
              "outlinewidth": 0,
              "ticks": ""
             }
            },
            "type": "scatterpolar"
           }
          ],
          "scatterpolargl": [
           {
            "marker": {
             "colorbar": {
              "outlinewidth": 0,
              "ticks": ""
             }
            },
            "type": "scatterpolargl"
           }
          ],
          "scatterternary": [
           {
            "marker": {
             "colorbar": {
              "outlinewidth": 0,
              "ticks": ""
             }
            },
            "type": "scatterternary"
           }
          ],
          "surface": [
           {
            "colorbar": {
             "outlinewidth": 0,
             "ticks": ""
            },
            "colorscale": [
             [
              0,
              "#0d0887"
             ],
             [
              0.1111111111111111,
              "#46039f"
             ],
             [
              0.2222222222222222,
              "#7201a8"
             ],
             [
              0.3333333333333333,
              "#9c179e"
             ],
             [
              0.4444444444444444,
              "#bd3786"
             ],
             [
              0.5555555555555556,
              "#d8576b"
             ],
             [
              0.6666666666666666,
              "#ed7953"
             ],
             [
              0.7777777777777778,
              "#fb9f3a"
             ],
             [
              0.8888888888888888,
              "#fdca26"
             ],
             [
              1,
              "#f0f921"
             ]
            ],
            "type": "surface"
           }
          ],
          "table": [
           {
            "cells": {
             "fill": {
              "color": "#EBF0F8"
             },
             "line": {
              "color": "white"
             }
            },
            "header": {
             "fill": {
              "color": "#C8D4E3"
             },
             "line": {
              "color": "white"
             }
            },
            "type": "table"
           }
          ]
         },
         "layout": {
          "annotationdefaults": {
           "arrowcolor": "#2a3f5f",
           "arrowhead": 0,
           "arrowwidth": 1
          },
          "autotypenumbers": "strict",
          "coloraxis": {
           "colorbar": {
            "outlinewidth": 0,
            "ticks": ""
           }
          },
          "colorscale": {
           "diverging": [
            [
             0,
             "#8e0152"
            ],
            [
             0.1,
             "#c51b7d"
            ],
            [
             0.2,
             "#de77ae"
            ],
            [
             0.3,
             "#f1b6da"
            ],
            [
             0.4,
             "#fde0ef"
            ],
            [
             0.5,
             "#f7f7f7"
            ],
            [
             0.6,
             "#e6f5d0"
            ],
            [
             0.7,
             "#b8e186"
            ],
            [
             0.8,
             "#7fbc41"
            ],
            [
             0.9,
             "#4d9221"
            ],
            [
             1,
             "#276419"
            ]
           ],
           "sequential": [
            [
             0,
             "#0d0887"
            ],
            [
             0.1111111111111111,
             "#46039f"
            ],
            [
             0.2222222222222222,
             "#7201a8"
            ],
            [
             0.3333333333333333,
             "#9c179e"
            ],
            [
             0.4444444444444444,
             "#bd3786"
            ],
            [
             0.5555555555555556,
             "#d8576b"
            ],
            [
             0.6666666666666666,
             "#ed7953"
            ],
            [
             0.7777777777777778,
             "#fb9f3a"
            ],
            [
             0.8888888888888888,
             "#fdca26"
            ],
            [
             1,
             "#f0f921"
            ]
           ],
           "sequentialminus": [
            [
             0,
             "#0d0887"
            ],
            [
             0.1111111111111111,
             "#46039f"
            ],
            [
             0.2222222222222222,
             "#7201a8"
            ],
            [
             0.3333333333333333,
             "#9c179e"
            ],
            [
             0.4444444444444444,
             "#bd3786"
            ],
            [
             0.5555555555555556,
             "#d8576b"
            ],
            [
             0.6666666666666666,
             "#ed7953"
            ],
            [
             0.7777777777777778,
             "#fb9f3a"
            ],
            [
             0.8888888888888888,
             "#fdca26"
            ],
            [
             1,
             "#f0f921"
            ]
           ]
          },
          "colorway": [
           "#636efa",
           "#EF553B",
           "#00cc96",
           "#ab63fa",
           "#FFA15A",
           "#19d3f3",
           "#FF6692",
           "#B6E880",
           "#FF97FF",
           "#FECB52"
          ],
          "font": {
           "color": "#2a3f5f"
          },
          "geo": {
           "bgcolor": "white",
           "lakecolor": "white",
           "landcolor": "#E5ECF6",
           "showlakes": true,
           "showland": true,
           "subunitcolor": "white"
          },
          "hoverlabel": {
           "align": "left"
          },
          "hovermode": "closest",
          "mapbox": {
           "style": "light"
          },
          "paper_bgcolor": "white",
          "plot_bgcolor": "#E5ECF6",
          "polar": {
           "angularaxis": {
            "gridcolor": "white",
            "linecolor": "white",
            "ticks": ""
           },
           "bgcolor": "#E5ECF6",
           "radialaxis": {
            "gridcolor": "white",
            "linecolor": "white",
            "ticks": ""
           }
          },
          "scene": {
           "xaxis": {
            "backgroundcolor": "#E5ECF6",
            "gridcolor": "white",
            "gridwidth": 2,
            "linecolor": "white",
            "showbackground": true,
            "ticks": "",
            "zerolinecolor": "white"
           },
           "yaxis": {
            "backgroundcolor": "#E5ECF6",
            "gridcolor": "white",
            "gridwidth": 2,
            "linecolor": "white",
            "showbackground": true,
            "ticks": "",
            "zerolinecolor": "white"
           },
           "zaxis": {
            "backgroundcolor": "#E5ECF6",
            "gridcolor": "white",
            "gridwidth": 2,
            "linecolor": "white",
            "showbackground": true,
            "ticks": "",
            "zerolinecolor": "white"
           }
          },
          "shapedefaults": {
           "line": {
            "color": "#2a3f5f"
           }
          },
          "ternary": {
           "aaxis": {
            "gridcolor": "white",
            "linecolor": "white",
            "ticks": ""
           },
           "baxis": {
            "gridcolor": "white",
            "linecolor": "white",
            "ticks": ""
           },
           "bgcolor": "#E5ECF6",
           "caxis": {
            "gridcolor": "white",
            "linecolor": "white",
            "ticks": ""
           }
          },
          "title": {
           "x": 0.05
          },
          "xaxis": {
           "automargin": true,
           "gridcolor": "white",
           "linecolor": "white",
           "ticks": "",
           "title": {
            "standoff": 15
           },
           "zerolinecolor": "white",
           "zerolinewidth": 2
          },
          "yaxis": {
           "automargin": true,
           "gridcolor": "white",
           "linecolor": "white",
           "ticks": "",
           "title": {
            "standoff": 15
           },
           "zerolinecolor": "white",
           "zerolinewidth": 2
          }
         }
        },
        "title": {
         "text": "Scatter 3D con Plotly"
        }
       }
      },
      "image/png": "[encoded data removed]"
     },
     "metadata": {},
     "output_type": "display_data"
    }
   ],
   "source": [
    "import plotly.graph_objects as go\n",
    "# Crear figura 3D\n",
    "fig = go.Figure(data=[go.Scatter3d(\n",
    "    x=input_PI[:, 0].ravel().ravel() ,\n",
    "    y=input_PI[:, 1].ravel().ravel() ,\n",
    "    z=output_PI.ravel() ,\n",
    "    mode='markers',\n",
    "    marker=dict(\n",
    "        size=6,\n",
    "        color=Y,           # color según el valor de z\n",
    "        colorscale='Viridis',\n",
    "        opacity=0.8\n",
    "    )\n",
    ")])\n",
    "\n",
    "# Configurar diseño\n",
    "fig.update_layout(\n",
    "    title='Scatter 3D con Plotly',\n",
    "    scene=dict(\n",
    "        xaxis_title='Eje X',\n",
    "        yaxis_title='Eje Y',\n",
    "        zaxis_title='Eje Z'\n",
    "    ),\n",
    "    margin=dict(l=0, r=0, b=0, t=40)\n",
    ")\n",
    "\n",
    "# Mostrar figura\n",
    "fig.show()"
   ]
  },
  {
   "cell_type": "code",
   "execution_count": 12,
   "id": "e842716a-e432-4f5a-a552-537c40b4c036",
   "metadata": {},
   "outputs": [
    {
     "data": {
      "text/plain": [
       "[np.float64(1.221402758160169),\n",
       " np.float64(1.025289811592276),\n",
       " np.float64(1.221402758160169)]"
      ]
     },
     "execution_count": 12,
     "metadata": {},
     "output_type": "execute_result"
    }
   ],
   "source": [
    "epsilon"
   ]
  },
  {
   "cell_type": "code",
   "execution_count": 27,
   "id": "2da767df",
   "metadata": {},
   "outputs": [
    {
     "data": {
      "image/png": "[encoded data removed]",
      "text/plain": [
       "<Figure size 400x200 with 1 Axes>"
      ]
     },
     "metadata": {},
     "output_type": "display_data"
    }
   ],
   "source": [
    "#exchange the first and the second value\n",
    "epsilon[1],epsilon[0] = epsilon[0],epsilon[1]\n",
    "uq[1],uq[0] = uq[0],uq[1]\n",
    "x_labels = [r'$\\Pi_1^*$', r'$\\Pi_2^*$', r\"$[\\Pi_1^*,\\Pi_2^*]$\"]\n",
    "plt.figure(figsize=(4, 2))\n",
    "plt.rcParams['font.family'] = 'Times New Roman'  # Set the font to Times New Roman\n",
    "plt.rcParams['text.usetex'] = True  # Use LaTeX for all text rendering\n",
    "plt.gca().spines['top'].set_linewidth(1.5)\n",
    "plt.gca().spines['bottom'].set_linewidth(1.5)\n",
    "plt.gca().spines['left'].set_linewidth(1.5)\n",
    "plt.gca().spines['right'].set_linewidth(1.5)\n",
    "\n",
    "# Use uq_values as the error bars\n",
    "plt.bar(x_labels, epsilon, yerr=uq, capsize=5, edgecolor='black',color = 'red')\n",
    "plt.xticks(fontsize=25)\n",
    "plt.yticks(fontsize=20)\n",
    "plt.ylabel(r'$\\tilde{\\epsilon}_{L B}$', fontsize=25, labelpad=15)\n",
    "plt.ylim([0, 1])\n",
    "plt.savefig('Colebrook_rank.eps', dpi=300, bbox_inches='tight',transparent=True)\n",
    "plt.show()"
   ]
  },
  {
   "cell_type": "code",
   "execution_count": 14,
   "id": "ba56d796",
   "metadata": {},
   "outputs": [],
   "source": [
    "log_data         = np.log1p(input_PI)  # np.log1p is used to avoid log(0) issues\n",
    "scaler          = StandardScaler()\n",
    "scaled_log_data = scaler.fit_transform(log_data)\n",
    "# Perform KMeans clustering on the scaled log-transformed data\n",
    "regions                     = IT_PI.partition_space(scaled_log_data, n_clusters= 10)\n",
    "results_region, ratio_X1, ratio_X2 = IT_PI.analyze_regions(input_PI[:,0], input_PI[:,1], Y, regions)"
   ]
  },
  {
   "cell_type": "code",
   "execution_count": 15,
   "id": "1321da96",
   "metadata": {},
   "outputs": [
    {
     "data": {
      "image/png": "[encoded data removed]",
      "text/plain": [
       "<Figure size 400x400 with 2 Axes>"
      ]
     },
     "metadata": {},
     "output_type": "display_data"
    }
   ],
   "source": [
    "def plot_ratio_X1(X1, X2, ratio_X1):\n",
    "    plt.figure(figsize=(4, 4))\n",
    "    scatter = plt.scatter(X1, X2, c=ratio_X1, cmap='Blues', s=50, vmin=0, vmax=1) \n",
    "    plt.gca().spines['top'].set_linewidth(1.5)\n",
    "    plt.gca().spines['bottom'].set_linewidth(1.5)\n",
    "    plt.gca().spines['left'].set_linewidth(1.5)\n",
    "    plt.gca().spines['right'].set_linewidth(1.5)\n",
    "    plt.xlabel(r\" $\\Pi_{1}^*$\", fontsize=25, labelpad=10)  \n",
    "    plt.ylabel(r\" $\\Pi_2^*$\", fontsize=25, labelpad=10)\n",
    "    #plt.xscale('log')\n",
    "    plt.xticks(fontsize=25)\n",
    "    ax = plt.gca()\n",
    "    formatter = ScalarFormatter(useMathText=True)\n",
    "    formatter.set_scientific(True)\n",
    "    formatter.set_powerlimits((-3, -3))\n",
    "    ax.yaxis.set_major_formatter(formatter)\n",
    "    plt.yticks(fontsize=25)\n",
    "    ax.yaxis.get_offset_text().set_fontsize(20)\n",
    "    offset_text = ax.yaxis.get_offset_text()\n",
    "    x, y = offset_text.get_position()  # current position\n",
    "    offset_text.set_position((x , y+1.5))  # shift it slightly left\n",
    "\n",
    "    cbar = plt.colorbar(scatter)\n",
    "    cbar.set_label('$R_1$', fontsize=25)\n",
    "    cbar.set_ticks([0, 0.25, 0.5, 0.75, 1])  # ✅ set tick locations\n",
    "    cbar.set_ticklabels(['0', '0.25', '0.5', '0.75', '1'])  # ✅ set labels\n",
    "    cbar.ax.tick_params(labelsize=25)  # ✅ set font size\n",
    "    plt.xlim(10**(-3.5), np.max(X1))\n",
    "    plt.ylim(0.0002, np.max(X2))\n",
    "    #plt.savefig('roughness_region_1.png', dpi=300, bbox_inches='tight',transparent=True)\n",
    "    plt.savefig('roughness_region_1.pdf', dpi=200, bbox_inches='tight',transparent=True)\n",
    "    plt.show()\n",
    "    \n",
    "plot_ratio_X1(input_PI[:,0], input_PI[:,1], ratio_X1)\n"
   ]
  }
 ],
 "metadata": {
  "kernelspec": {
   "display_name": "Python 3 (ipykernel)",
   "language": "python",
   "name": "python3"
  },
  "language_info": {
   "codemirror_mode": {
    "name": "ipython",
    "version": 3
   },
   "file_extension": ".py",
   "mimetype": "text/x-python",
   "name": "python",
   "nbconvert_exporter": "python",
   "pygments_lexer": "ipython3",
   "version": "3.10.9"
  }
 },
 "nbformat": 4,
 "nbformat_minor": 5
}
