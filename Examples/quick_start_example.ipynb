{
 "cells": [
  {
   "cell_type": "code",
   "execution_count": 1,
   "id": "9685124d",
   "metadata": {},
   "outputs": [],
   "source": [
    "# import IT_PI is a module\n",
    "import IT_PI\n",
    "from scipy.special import erf\n",
    "import numpy as np\n",
    "from numpy.linalg import inv, matrix_rank\n",
    "from pprint import pprint"
   ]
  },
  {
   "cell_type": "code",
   "execution_count": 2,
   "id": "d73d35de",
   "metadata": {},
   "outputs": [],
   "source": [
    "def velocity_profile(y, nu, U, t):\n",
    "    return U * (1 - erf(y / (2 * np.sqrt(nu * t))))\n",
    "\n",
    "# Generate synthetic dataset\n",
    "y_vals = np.linspace(0, 1, 20)\n",
    "t_vals = np.linspace(5, 10, 20)\n",
    "U = np.random.uniform(0.5, 1.0, 5)\n",
    "nu = np.random.uniform(1e-3, 1e-2, 5)\n",
    "u_array = []\n",
    "params = []\n",
    "\n",
    "for u0, n0 in zip(U, nu):\n",
    "    for y in y_vals:\n",
    "        for t in t_vals:\n",
    "            u_array.append(velocity_profile(y, n0, u0, t))\n",
    "            params.append([u0, y, t, n0])\n",
    "u_array = np.array(u_array).reshape(-1, 1)\n",
    "params = np.array(params)"
   ]
  },
  {
   "cell_type": "code",
   "execution_count": 3,
   "id": "827aaa47",
   "metadata": {},
   "outputs": [
    {
     "name": "stdout",
     "output_type": "stream",
     "text": [
      "Rank of D_in: 2\n",
      "D_in matrix:\n",
      " [[ 1  1  0  2]\n",
      " [-1  0  1 -1]]\n",
      "Basis vectors:\n",
      "matrix([[-1.,  1., -1.,  0.],\n",
      "        [ 1.,  1.,  0., -1.]])\n"
     ]
    }
   ],
   "source": [
    "# Define inputs and outputs\n",
    "Y = u_array / params[:, 0].reshape(-1, 1)  # Output Pi_o = u/U\n",
    "X = params                                 # Dimensional input list q\n",
    "variables = ['U', 'y', 't', '\\\\nu']        # Variable names\n",
    "D_in = np.matrix('1 1 0 2; -1 0 1 -1')     # Dimension matrix\n",
    "num_input = 1\n",
    "\n",
    "print(\"Rank of D_in:\", matrix_rank(D_in))\n",
    "print(\"D_in matrix:\\n\", D_in)\n",
    "num_basis    = D_in.shape[1] - matrix_rank(D_in)\n",
    "basis_matrices = IT_PI.calc_basis(D_in, num_basis)\n",
    "print(\"Basis vectors:\")\n",
    "pprint(basis_matrices)\n"
   ]
  },
  {
   "cell_type": "code",
   "execution_count": 4,
   "id": "7f0f83d6",
   "metadata": {},
   "outputs": [
    {
     "name": "stdout",
     "output_type": "stream",
     "text": [
      "------------------------------------------------------------\n",
      "num of parameters: 2\n",
      "\n",
      "Using estimator: 'kraskov' with hyperparameters: {'k': 5}\n",
      "\n",
      "(150_w,300)-aCMA-ES (mu_w=78.0,w_1=3%) in dimension 2 (seed=42, Sun Sep  7 14:38:38 2025)\n",
      "Iterat #Fevals   function value  axis ratio  sigma  min&max std  t[m:s]\n",
      "    1    300 -3.436404557424770e+00 1.0e+00 7.98e-01  6e-01  7e-01 0:01.2\n",
      "    2    600 -3.263877417816174e+00 1.9e+00 9.63e-01  4e-01  6e-01 0:02.6\n",
      "    3    900 -4.068861016818221e+00 4.0e+00 9.53e-01  3e-01  3e-01 0:04.0\n",
      "    5   1500 -4.246769834132689e+00 7.9e+00 1.51e+00  2e-01  2e-01 0:07.0\n",
      "    8   2400 -4.244567841060381e+00 2.8e+01 2.57e+00  1e-01  1e-01 0:11.3\n",
      "   12   3600 -4.273043656606752e+00 8.7e+01 3.64e+00  3e-02  3e-02 0:16.9\n",
      "   17   5100 -4.273723673287241e+00 2.0e+02 5.10e+00  4e-03  4e-03 0:23.9\n",
      "   22   6600 -4.274136909581288e+00 1.1e+02 7.37e+00  1e-03  1e-03 0:31.7\n",
      "   28   8400 -4.274080327894084e+00 4.5e+01 7.93e+00  3e-04  3e-04 0:40.7\n",
      "   34  10200 -4.274106978237653e+00 5.4e+01 1.07e+01  2e-04  2e-04 0:49.8\n",
      "   41  12300 -4.274245042268095e+00 9.0e+01 1.94e+01  2e-05  2e-05 1:00.1\n",
      "   49  14700 -4.274250724086277e+00 1.2e+02 4.11e+01  3e-06  3e-06 1:11.8\n",
      "   54  16200 -4.274250724086277e+00 5.3e+01 6.94e+01  3e-07  3e-07 1:19.0\n",
      "termination on tolfunhist=1e-12\n",
      "final/bestever f-value = -4.274251e+00 -4.274251e+00 after 16200/12333 evaluations\n",
      "incumbent solution: [0.09307012, 0.09309413]\n",
      "std deviation: [2.90922804e-07, 2.91067852e-07]\n",
      "Optimized_params: [0.09306987 0.0930939 ]\n",
      "Optimized_MI: -4.2742507240862775\n",
      "------------------------------------------------------------\n",
      "coef_pi: [[ 1.29066899e-04  1.00000000e+00 -4.99935467e-01 -5.00064533e-01]]\n"
     ]
    }
   ],
   "source": [
    "# Run IT_PI\n",
    "results = IT_PI.main(\n",
    "    X,\n",
    "    Y,\n",
    "    basis_matrices,\n",
    "    num_input=num_input,\n",
    "    estimator=\"kraskov\",\n",
    "    estimator_params={\"k\": 5},\n",
    "    seed=42\n",
    ")"
   ]
  },
  {
   "cell_type": "code",
   "execution_count": 5,
   "id": "7f73aa69",
   "metadata": {},
   "outputs": [
    {
     "name": "stdout",
     "output_type": "stream",
     "text": [
      "Optimal_pi_lab[0] = $\\frac{y^{1.0}}{t^{0.5} \\cdot \\nu^{0.5}}$\n"
     ]
    },
    {
     "data": {
      "image/png": "[encoded data removed]",
      "text/plain": [
       "<Figure size 400x400 with 1 Axes>"
      ]
     },
     "metadata": {},
     "output_type": "display_data"
    },
    {
     "name": "stdout",
     "output_type": "stream",
     "text": [
      "x_labels: ['${\\\\Pi}^*$']\n"
     ]
    },
    {
     "data": {
      "image/png": "[encoded data removed]",
      "text/plain": [
       "<Figure size 400x200 with 1 Axes>"
      ]
     },
     "metadata": {},
     "output_type": "display_data"
    }
   ],
   "source": [
    "# Display results\n",
    "coef_pi_list     = results[\"input_coef\"]\n",
    "variables        = ['U','y', 't','\\\\nu'];                       #Define variable name\n",
    "optimal_pi_lab   = IT_PI.create_labels(np.array(coef_pi_list).reshape(-1, len(variables)), variables)\n",
    "for j, label in enumerate(optimal_pi_lab):\n",
    "    print(f'Optimal_pi_lab[{j}] = {label}')\n",
    "input_PI = results[\"input_PI\"]\n",
    "output_PI = results[\"output_PI\"]\n",
    "epsilon  = results[\"irreducible_error\"]\n",
    "uq       = results[\"uncertainty\"]\n",
    "\n",
    "IT_PI.plot_scatter(input_PI,output_PI)\n",
    "IT_PI.plot_error_bars(input_PI, epsilon,uq)"
   ]
  },
  {
   "cell_type": "markdown",
   "id": "cb8f9b3d",
   "metadata": {},
   "source": []
  }
 ],
 "metadata": {
  "kernelspec": {
   "display_name": "Python 3 (ipykernel)",
   "language": "python",
   "name": "python3"
  },
  "language_info": {
   "codemirror_mode": {
    "name": "ipython",
    "version": 3
   },
   "file_extension": ".py",
   "mimetype": "text/x-python",
   "name": "python",
   "nbconvert_exporter": "python",
   "pygments_lexer": "ipython3",
   "version": "3.9.5"
  }
 },
 "nbformat": 4,
 "nbformat_minor": 5
}
