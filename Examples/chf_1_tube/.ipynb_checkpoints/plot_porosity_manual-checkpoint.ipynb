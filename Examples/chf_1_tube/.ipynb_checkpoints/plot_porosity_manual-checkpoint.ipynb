{
 "cells": [
  {
   "cell_type": "code",
   "execution_count": 14,
   "id": "a820059a-f5c7-478e-b479-b7c3f25e5867",
   "metadata": {},
   "outputs": [],
   "source": [
    "import numpy as np\n",
    "import pandas as pd\n",
    "from functools import reduce\n",
    "import plotly.graph_objects as go"
   ]
  },
  {
   "cell_type": "code",
   "execution_count": 15,
   "id": "8e5a7eca-47e3-4f85-acb5-94b4ed1200cd",
   "metadata": {},
   "outputs": [],
   "source": [
    "data = pd.read_csv(\"dataset_porosity.csv\")\n",
    "output_list = [\"Phi\"]\n",
    "input_list = [\"etamP\", \"V\", \"Tm-T0\", \"d\",\"rho\", \"Cp\", \"alpha\", \"H\", \"L\"]\n",
    "X = np.array(data[input_list])\n",
    "Y = np.array(data[output_list])\n"
   ]
  },
  {
   "cell_type": "code",
   "execution_count": 16,
   "id": "ccbcc377-eaf5-4de2-9582-7ba584a96d89",
   "metadata": {},
   "outputs": [],
   "source": [
    "coef_pi1 = np.array([1, -1,  -1,  3,  -1,  -1, 0, -1, -4])/4\n",
    "coef_pi2 = np.array([1, -1, -1, -3, -1, -1, 0, 0, 1])/3"
   ]
  },
  {
   "cell_type": "code",
   "execution_count": 17,
   "id": "d2b0c5b4-8a23-40b9-b438-31da98429a3b",
   "metadata": {},
   "outputs": [
    {
     "name": "stdout",
     "output_type": "stream",
     "text": [
      "[ 0.25 -0.25 -0.25  0.75 -0.25 -0.25  0.   -0.25 -1.  ]\n",
      "[ 0.33333333 -0.33333333 -0.33333333 -1.         -0.33333333 -0.33333333\n",
      "  0.          0.          0.33333333]\n"
     ]
    }
   ],
   "source": [
    "print(coef_pi1)\n",
    "print(coef_pi2)"
   ]
  },
  {
   "cell_type": "code",
   "execution_count": 18,
   "id": "9adeb3a7-1d8a-4e4d-b7c3-98976798b00b",
   "metadata": {},
   "outputs": [
    {
     "data": {
      "text/plain": [
       "matrix([[0., 0., 0., 0.]])"
      ]
     },
     "execution_count": 18,
     "metadata": {},
     "output_type": "execute_result"
    }
   ],
   "source": [
    "D_in = np.matrix([[ 2,  1,  0,  1, -3,  2,  2,  1,  1],\n",
    "        [-3, -1,  0,  0,  0, -2, -1,  0,  0],\n",
    "        [ 1,  0,  0,  0,  1,  0,  0,  0,  0],\n",
    "        [ 0,  0,  1,  0,  0, -1,  0,  0,  0]])\n",
    "D_in@coef_pi1"
   ]
  },
  {
   "cell_type": "code",
   "execution_count": 19,
   "id": "f60a5665-4e08-4a12-9edc-1a533122c81b",
   "metadata": {},
   "outputs": [],
   "source": [
    "def get_pi(x, coef_pi):\n",
    "    # Calcular potencias elemento a elemento\n",
    "    potencias = [b**a for b, a in zip(x, coef_pi)]\n",
    "    # Multiplicar todos los resultados\n",
    "    resultado = reduce(lambda a, b: a * b, potencias)\n",
    "    return resultado"
   ]
  },
  {
   "cell_type": "code",
   "execution_count": 20,
   "id": "f60c5799-a004-4222-8493-21d9cc5162d7",
   "metadata": {},
   "outputs": [],
   "source": [
    "PI1 = np.array([get_pi(x, coef_pi1) for x in X])\n",
    "PI2 = np.array([get_pi(x, coef_pi2) for x in X])"
   ]
  },
  {
   "cell_type": "code",
   "execution_count": 21,
   "id": "5226c3e7-2eaa-4a0b-a5e9-b5151d85d773",
   "metadata": {},
   "outputs": [],
   "source": []
  },
  {
   "cell_type": "code",
   "execution_count": 22,
   "id": "d0edb34a-1f4d-45b9-9a80-259874156585",
   "metadata": {},
   "outputs": [
    {
     "data": {
      "application/vnd.plotly.v1+json": {
       "config": {
        "plotlyServerURL": "https://plot.ly"
       },
       "data": [
        {
         "marker": {
          "color": {
           "bdata": "1zTvOEVHoj8Mk6mCUUmNPy1DHOviNmo/iIVa07zjdD+Sy39Iv31tP5zEILByaIE/Dr4wmSoYhT9Q/Bhz1xKiP5T2Bl+YTHU/RiV1ApoIez/6fmq8dJN4P3npJjEIrHw/6Gor9pfdgz/6fmq8dJOYP1g5tMh2vp8/rK3YX3ZPbj8g0m9fB855PzvfT42XbnI/kst/SL99fT8FNBE2PL2SPw6+MJkqGJU/B/AWSFD8mD9fB84ZUdprPy9uowG8BXI/ukkMAiuHdj8BTYQNT6+UPxNhw9MrZYk/nzws1JrmjT/SAN4CCYqPP9QrZRniWHc/XwfOGVHaez+6SQwCK4eWPxkEVg4tso0/2c73U+Olmz9rmnecoiOpP/sONFXmnJ4/j4b4LHTKiD+u5kpON5qhPxnw6DUs/LE/OOoROEwTej9Jz5lZ8Ee0P4ka+XrG14E/sV/BRw4ioz/kIimvtt52Pxj31Qv0P48/0XQbecX4dT8aahSSzOp9P2FUUiegiaA/guLHmLuWkD//CS5W1GB6PxoXDoRkAWM/nzws1JrmbT/YtiizQSZ5P95xio7k8n8/gLdAguLHiD8/V1uxv+yOP1Uu+URDa4I/BxJv+Dgubj+Jsa/p/yRXP/UlRI7nElI/RFoZQ+9DVD8GGTvAF09SP0fSH65dWVA/e8pBO22uVj+qRLhN4dZXP7EOcNYaKW8/AiuHFtnOtz8Go+3zc562Pxg5sMFnkLM/xrfBmhQwoz+P2JNlLaqaP0DbrPLrJH4/oS//GYyubj8A7f38rVNbPwQsAxjgzIk/arx0kxgElj/8qfHSTWKgPzzB/uvctIk/Bg5o6Qq2YT9szOuIQzZgP0uwOJz51Tw/dmuZDMfzGT/M1CR4Qxo1P21VEtkHWTY/D9b/OcyXFz9tVRLZB1k2PyK2JqPrPlc/wi/186YiRT9HodkzU3NsPwG+27xxUpg/+wJ64c6FqT/wpIXLKmzAPw==",
           "dtype": "f8",
           "shape": "92, 1"
          },
          "colorscale": [
           [
            0,
            "#440154"
           ],
           [
            0.1111111111111111,
            "#482878"
           ],
           [
            0.2222222222222222,
            "#3e4989"
           ],
           [
            0.3333333333333333,
            "#31688e"
           ],
           [
            0.4444444444444444,
            "#26828e"
           ],
           [
            0.5555555555555556,
            "#1f9e89"
           ],
           [
            0.6666666666666666,
            "#35b779"
           ],
           [
            0.7777777777777778,
            "#6ece58"
           ],
           [
            0.8888888888888888,
            "#b5de2b"
           ],
           [
            1,
            "#fde725"
           ]
          ],
          "opacity": 0.8,
          "size": 6
         },
         "mode": "markers",
         "type": "scatter3d",
         "x": {
          "bdata": "J0iejga3BkBUePwCeIYEQCu7ro3VGQNA16tHCIUQAkDJRgTHdkIBQHv7QAxtmwBA7P5HE9gPAEAAilUq2DcGQN8m56hkuAFAM5CMUeOuAkBBQOJLYKsBQBRS37/T4QBAnLR/RHE+AECIR6ih02v/P6O3boTOiwVAN6zuDxh4A0AS1cXaOB4CQGvyS0OPIgFAEHNqVRtfAECZSdLqU4H/PzuG4lWHeP4/rkigf/nNBECaE96yj8wCQBcVs8uXfgFAnHTxeZeLAEDzSk0ru53/P9MfVlfAa/4/Ufq+xRBs/T/ByueyAO4DQBcBNw0uAgJAuGKDfEHCAECqq05l8rL/P4a1fRNeSf4/SI1ZRkEk/T95a+5KUi/8Py1VPsiYhwNAzCerl7UmBUBKobUBvhwDQNYPeq01yQFAQ0bbk5TdBkBGzuZeLi8CQA7bNLvROghA3BgmrOtEA0AUFMU6YiMJQNtFjU7f/QNAjjvLDyn1CUC0neeYs6QEQBt+Bl68NBVAy011j2gmE0DlpxysydkRQJm95botIRBAUwTI2u8DD0DL3H/LIgIOQIERit33Hg1AmYfsVC9fDEBdH5G42LALQBV7g4OXAwxAbVNkqTW/DEBNaUisB3INQKWh1km0FA5AR+CUALK1DkDCGlGHlEkPQGcxkxiz1Q9A/St/awsqEEDDiSlnBm0QQL8C7gdBqBBA1rAA5pSs9D+1hOrqea70PwfGscyTRfY/u/UAUrKU9z+lVKhk1+32P8lx4we6k/g/dPcvxp8I+j9Kv+2IoQ76P+i0HkPsPPs/Z9dIruRE/T86+sFQnvX+P0wbTd9w7gVAkmV1yVlLB0D9EIYAHJEHQHbXPJIJCAlAFEVSI4Y5CUD1UbiquxQKQCZiMaQPGwtAN8zvu6izC0A/toJdVf8NQARViUcgdvs/DLjfiSKU+j91a61jHZ35P/q0aKmlgvg/UGyG54Q+9z+6MBklnrP1Pw==",
          "dtype": "f8"
         },
         "y": {
          "bdata": "FxH4Wlt9+T8kqlKdbET2PzRcDd4tO/Q/jBTkjezH8j/H0dIDbqzxP5+c6f7RyfA/v1dznLcO8D+JIVG9w7/4P7ZRf9cmTvI/EeWiH7Ok8z9mFe40OzzyP64Pakz5KPE/FScBzfJM8D/ksp8tkC7vPxAeU02Mwfc/6RI2ubjA9D/ROTKK7dryPwhUakTsgPE/556evLV48D/5yaqSBkvvP3XfmzlF7u0/QiCsSxes9j+khccrV87zP2YXsce1/vE//RXYpX208D9g4d/yqXDvP9tVzF6K3e0/Os7eSLKQ7D9TypnQ9Gj1P/i1hm0OtPI/ZQtQ5zz+8D/pYuBnzozvP4eNw9GQsO0/cf/gu+Iz7D+ZJWd9kvnqPwP6Z/7LReg/vNkpagz/6j+DIHhhW5XnPxI8+YVNbeU/vdj5sdTz7T8crerAtBHmP8DzzITlLfA/9tlAC43X5z9lC1DnPP7wP2UbML2QCuk/CV9yPVW88T9ga00esSLqP5U0UMt/4vM/4DyaNlNb8T+AbROH9JvvP7YgCU3EnOs/Cle29rcz6j9sY2Bx6RLpP9A3BF8VF+g/k4Pvw3VE5z/SXsaZmIbmP+NngLuE4OY/XCZebbCt5z8dE/il3nLoP7Plc16bJ+k/q4LXRbvb6T9T5o+pR4LqPxtBiR0IIes/H4DQ0AKx6z9cGMvLakrsP1F9RTzA0uw/V4u0+xoa7z8uVh/r5x3vPyO9UMRwLPE/8maq+FCI8j+WPQAuSNrxPxH2mSdslfM/u9T7NXcl9T/+qevk+Cv1PypDu8TodfY/hdczEZi4+D/YwqoSiqT6Pzg/tID/yeg/8PNydTPd6j84P7SA/8noP/DzcnUz3eo/WY5OCmHf7T84P7SA/8noP1mOTgph3+0/8PNydTPd6j9Zjk4KYd/tP58eJHE5YfM/MdxqPn2e8T/Pz8Y5+lrwP7YlTbg6yu4/9caxvzM87T/d3qq4FfPrPw==",
          "dtype": "f8"
         },
         "z": {
          "bdata": "1zTvOEVHoj8Mk6mCUUmNPy1DHOviNmo/iIVa07zjdD+Sy39Iv31tP5zEILByaIE/Dr4wmSoYhT9Q/Bhz1xKiP5T2Bl+YTHU/RiV1ApoIez/6fmq8dJN4P3npJjEIrHw/6Gor9pfdgz/6fmq8dJOYP1g5tMh2vp8/rK3YX3ZPbj8g0m9fB855PzvfT42XbnI/kst/SL99fT8FNBE2PL2SPw6+MJkqGJU/B/AWSFD8mD9fB84ZUdprPy9uowG8BXI/ukkMAiuHdj8BTYQNT6+UPxNhw9MrZYk/nzws1JrmjT/SAN4CCYqPP9QrZRniWHc/XwfOGVHaez+6SQwCK4eWPxkEVg4tso0/2c73U+Olmz9rmnecoiOpP/sONFXmnJ4/j4b4LHTKiD+u5kpON5qhPxnw6DUs/LE/OOoROEwTej9Jz5lZ8Ee0P4ka+XrG14E/sV/BRw4ioz/kIimvtt52Pxj31Qv0P48/0XQbecX4dT8aahSSzOp9P2FUUiegiaA/guLHmLuWkD//CS5W1GB6PxoXDoRkAWM/nzws1JrmbT/YtiizQSZ5P95xio7k8n8/gLdAguLHiD8/V1uxv+yOP1Uu+URDa4I/BxJv+Dgubj+Jsa/p/yRXP/UlRI7nElI/RFoZQ+9DVD8GGTvAF09SP0fSH65dWVA/e8pBO22uVj+qRLhN4dZXP7EOcNYaKW8/AiuHFtnOtz8Go+3zc562Pxg5sMFnkLM/xrfBmhQwoz+P2JNlLaqaP0DbrPLrJH4/oS//GYyubj8A7f38rVNbPwQsAxjgzIk/arx0kxgElj/8qfHSTWKgPzzB/uvctIk/Bg5o6Qq2YT9szOuIQzZgP0uwOJz51Tw/dmuZDMfzGT/M1CR4Qxo1P21VEtkHWTY/D9b/OcyXFz9tVRLZB1k2PyK2JqPrPlc/wi/186YiRT9HodkzU3NsPwG+27xxUpg/+wJ64c6FqT/wpIXLKmzAPw==",
          "dtype": "f8"
         }
        }
       ],
       "layout": {
        "margin": {
         "b": 0,
         "l": 0,
         "r": 0,
         "t": 40
        },
        "scene": {
         "xaxis": {
          "title": {
           "text": "Eje X"
          }
         },
         "yaxis": {
          "title": {
           "text": "Eje Y"
          }
         },
         "zaxis": {
          "title": {
           "text": "Eje Z"
          }
         }
        },
        "template": {
         "data": {
          "bar": [
           {
            "error_x": {
             "color": "#2a3f5f"
            },
            "error_y": {
             "color": "#2a3f5f"
            },
            "marker": {
             "line": {
              "color": "#E5ECF6",
              "width": 0.5
             },
             "pattern": {
              "fillmode": "overlay",
              "size": 10,
              "solidity": 0.2
             }
            },
            "type": "bar"
           }
          ],
          "barpolar": [
           {
            "marker": {
             "line": {
              "color": "#E5ECF6",
              "width": 0.5
             },
             "pattern": {
              "fillmode": "overlay",
              "size": 10,
              "solidity": 0.2
             }
            },
            "type": "barpolar"
           }
          ],
          "carpet": [
           {
            "aaxis": {
             "endlinecolor": "#2a3f5f",
             "gridcolor": "white",
             "linecolor": "white",
             "minorgridcolor": "white",
             "startlinecolor": "#2a3f5f"
            },
            "baxis": {
             "endlinecolor": "#2a3f5f",
             "gridcolor": "white",
             "linecolor": "white",
             "minorgridcolor": "white",
             "startlinecolor": "#2a3f5f"
            },
            "type": "carpet"
           }
          ],
          "choropleth": [
           {
            "colorbar": {
             "outlinewidth": 0,
             "ticks": ""
            },
            "type": "choropleth"
           }
          ],
          "contour": [
           {
            "colorbar": {
             "outlinewidth": 0,
             "ticks": ""
            },
            "colorscale": [
             [
              0,
              "#0d0887"
             ],
             [
              0.1111111111111111,
              "#46039f"
             ],
             [
              0.2222222222222222,
              "#7201a8"
             ],
             [
              0.3333333333333333,
              "#9c179e"
             ],
             [
              0.4444444444444444,
              "#bd3786"
             ],
             [
              0.5555555555555556,
              "#d8576b"
             ],
             [
              0.6666666666666666,
              "#ed7953"
             ],
             [
              0.7777777777777778,
              "#fb9f3a"
             ],
             [
              0.8888888888888888,
              "#fdca26"
             ],
             [
              1,
              "#f0f921"
             ]
            ],
            "type": "contour"
           }
          ],
          "contourcarpet": [
           {
            "colorbar": {
             "outlinewidth": 0,
             "ticks": ""
            },
            "type": "contourcarpet"
           }
          ],
          "heatmap": [
           {
            "colorbar": {
             "outlinewidth": 0,
             "ticks": ""
            },
            "colorscale": [
             [
              0,
              "#0d0887"
             ],
             [
              0.1111111111111111,
              "#46039f"
             ],
             [
              0.2222222222222222,
              "#7201a8"
             ],
             [
              0.3333333333333333,
              "#9c179e"
             ],
             [
              0.4444444444444444,
              "#bd3786"
             ],
             [
              0.5555555555555556,
              "#d8576b"
             ],
             [
              0.6666666666666666,
              "#ed7953"
             ],
             [
              0.7777777777777778,
              "#fb9f3a"
             ],
             [
              0.8888888888888888,
              "#fdca26"
             ],
             [
              1,
              "#f0f921"
             ]
            ],
            "type": "heatmap"
           }
          ],
          "histogram": [
           {
            "marker": {
             "pattern": {
              "fillmode": "overlay",
              "size": 10,
              "solidity": 0.2
             }
            },
            "type": "histogram"
           }
          ],
          "histogram2d": [
           {
            "colorbar": {
             "outlinewidth": 0,
             "ticks": ""
            },
            "colorscale": [
             [
              0,
              "#0d0887"
             ],
             [
              0.1111111111111111,
              "#46039f"
             ],
             [
              0.2222222222222222,
              "#7201a8"
             ],
             [
              0.3333333333333333,
              "#9c179e"
             ],
             [
              0.4444444444444444,
              "#bd3786"
             ],
             [
              0.5555555555555556,
              "#d8576b"
             ],
             [
              0.6666666666666666,
              "#ed7953"
             ],
             [
              0.7777777777777778,
              "#fb9f3a"
             ],
             [
              0.8888888888888888,
              "#fdca26"
             ],
             [
              1,
              "#f0f921"
             ]
            ],
            "type": "histogram2d"
           }
          ],
          "histogram2dcontour": [
           {
            "colorbar": {
             "outlinewidth": 0,
             "ticks": ""
            },
            "colorscale": [
             [
              0,
              "#0d0887"
             ],
             [
              0.1111111111111111,
              "#46039f"
             ],
             [
              0.2222222222222222,
              "#7201a8"
             ],
             [
              0.3333333333333333,
              "#9c179e"
             ],
             [
              0.4444444444444444,
              "#bd3786"
             ],
             [
              0.5555555555555556,
              "#d8576b"
             ],
             [
              0.6666666666666666,
              "#ed7953"
             ],
             [
              0.7777777777777778,
              "#fb9f3a"
             ],
             [
              0.8888888888888888,
              "#fdca26"
             ],
             [
              1,
              "#f0f921"
             ]
            ],
            "type": "histogram2dcontour"
           }
          ],
          "mesh3d": [
           {
            "colorbar": {
             "outlinewidth": 0,
             "ticks": ""
            },
            "type": "mesh3d"
           }
          ],
          "parcoords": [
           {
            "line": {
             "colorbar": {
              "outlinewidth": 0,
              "ticks": ""
             }
            },
            "type": "parcoords"
           }
          ],
          "pie": [
           {
            "automargin": true,
            "type": "pie"
           }
          ],
          "scatter": [
           {
            "fillpattern": {
             "fillmode": "overlay",
             "size": 10,
             "solidity": 0.2
            },
            "type": "scatter"
           }
          ],
          "scatter3d": [
           {
            "line": {
             "colorbar": {
              "outlinewidth": 0,
              "ticks": ""
             }
            },
            "marker": {
             "colorbar": {
              "outlinewidth": 0,
              "ticks": ""
             }
            },
            "type": "scatter3d"
           }
          ],
          "scattercarpet": [
           {
            "marker": {
             "colorbar": {
              "outlinewidth": 0,
              "ticks": ""
             }
            },
            "type": "scattercarpet"
           }
          ],
          "scattergeo": [
           {
            "marker": {
             "colorbar": {
              "outlinewidth": 0,
              "ticks": ""
             }
            },
            "type": "scattergeo"
           }
          ],
          "scattergl": [
           {
            "marker": {
             "colorbar": {
              "outlinewidth": 0,
              "ticks": ""
             }
            },
            "type": "scattergl"
           }
          ],
          "scattermap": [
           {
            "marker": {
             "colorbar": {
              "outlinewidth": 0,
              "ticks": ""
             }
            },
            "type": "scattermap"
           }
          ],
          "scattermapbox": [
           {
            "marker": {
             "colorbar": {
              "outlinewidth": 0,
              "ticks": ""
             }
            },
            "type": "scattermapbox"
           }
          ],
          "scatterpolar": [
           {
            "marker": {
             "colorbar": {
              "outlinewidth": 0,
              "ticks": ""
             }
            },
            "type": "scatterpolar"
           }
          ],
          "scatterpolargl": [
           {
            "marker": {
             "colorbar": {
              "outlinewidth": 0,
              "ticks": ""
             }
            },
            "type": "scatterpolargl"
           }
          ],
          "scatterternary": [
           {
            "marker": {
             "colorbar": {
              "outlinewidth": 0,
              "ticks": ""
             }
            },
            "type": "scatterternary"
           }
          ],
          "surface": [
           {
            "colorbar": {
             "outlinewidth": 0,
             "ticks": ""
            },
            "colorscale": [
             [
              0,
              "#0d0887"
             ],
             [
              0.1111111111111111,
              "#46039f"
             ],
             [
              0.2222222222222222,
              "#7201a8"
             ],
             [
              0.3333333333333333,
              "#9c179e"
             ],
             [
              0.4444444444444444,
              "#bd3786"
             ],
             [
              0.5555555555555556,
              "#d8576b"
             ],
             [
              0.6666666666666666,
              "#ed7953"
             ],
             [
              0.7777777777777778,
              "#fb9f3a"
             ],
             [
              0.8888888888888888,
              "#fdca26"
             ],
             [
              1,
              "#f0f921"
             ]
            ],
            "type": "surface"
           }
          ],
          "table": [
           {
            "cells": {
             "fill": {
              "color": "#EBF0F8"
             },
             "line": {
              "color": "white"
             }
            },
            "header": {
             "fill": {
              "color": "#C8D4E3"
             },
             "line": {
              "color": "white"
             }
            },
            "type": "table"
           }
          ]
         },
         "layout": {
          "annotationdefaults": {
           "arrowcolor": "#2a3f5f",
           "arrowhead": 0,
           "arrowwidth": 1
          },
          "autotypenumbers": "strict",
          "coloraxis": {
           "colorbar": {
            "outlinewidth": 0,
            "ticks": ""
           }
          },
          "colorscale": {
           "diverging": [
            [
             0,
             "#8e0152"
            ],
            [
             0.1,
             "#c51b7d"
            ],
            [
             0.2,
             "#de77ae"
            ],
            [
             0.3,
             "#f1b6da"
            ],
            [
             0.4,
             "#fde0ef"
            ],
            [
             0.5,
             "#f7f7f7"
            ],
            [
             0.6,
             "#e6f5d0"
            ],
            [
             0.7,
             "#b8e186"
            ],
            [
             0.8,
             "#7fbc41"
            ],
            [
             0.9,
             "#4d9221"
            ],
            [
             1,
             "#276419"
            ]
           ],
           "sequential": [
            [
             0,
             "#0d0887"
            ],
            [
             0.1111111111111111,
             "#46039f"
            ],
            [
             0.2222222222222222,
             "#7201a8"
            ],
            [
             0.3333333333333333,
             "#9c179e"
            ],
            [
             0.4444444444444444,
             "#bd3786"
            ],
            [
             0.5555555555555556,
             "#d8576b"
            ],
            [
             0.6666666666666666,
             "#ed7953"
            ],
            [
             0.7777777777777778,
             "#fb9f3a"
            ],
            [
             0.8888888888888888,
             "#fdca26"
            ],
            [
             1,
             "#f0f921"
            ]
           ],
           "sequentialminus": [
            [
             0,
             "#0d0887"
            ],
            [
             0.1111111111111111,
             "#46039f"
            ],
            [
             0.2222222222222222,
             "#7201a8"
            ],
            [
             0.3333333333333333,
             "#9c179e"
            ],
            [
             0.4444444444444444,
             "#bd3786"
            ],
            [
             0.5555555555555556,
             "#d8576b"
            ],
            [
             0.6666666666666666,
             "#ed7953"
            ],
            [
             0.7777777777777778,
             "#fb9f3a"
            ],
            [
             0.8888888888888888,
             "#fdca26"
            ],
            [
             1,
             "#f0f921"
            ]
           ]
          },
          "colorway": [
           "#636efa",
           "#EF553B",
           "#00cc96",
           "#ab63fa",
           "#FFA15A",
           "#19d3f3",
           "#FF6692",
           "#B6E880",
           "#FF97FF",
           "#FECB52"
          ],
          "font": {
           "color": "#2a3f5f"
          },
          "geo": {
           "bgcolor": "white",
           "lakecolor": "white",
           "landcolor": "#E5ECF6",
           "showlakes": true,
           "showland": true,
           "subunitcolor": "white"
          },
          "hoverlabel": {
           "align": "left"
          },
          "hovermode": "closest",
          "mapbox": {
           "style": "light"
          },
          "paper_bgcolor": "white",
          "plot_bgcolor": "#E5ECF6",
          "polar": {
           "angularaxis": {
            "gridcolor": "white",
            "linecolor": "white",
            "ticks": ""
           },
           "bgcolor": "#E5ECF6",
           "radialaxis": {
            "gridcolor": "white",
            "linecolor": "white",
            "ticks": ""
           }
          },
          "scene": {
           "xaxis": {
            "backgroundcolor": "#E5ECF6",
            "gridcolor": "white",
            "gridwidth": 2,
            "linecolor": "white",
            "showbackground": true,
            "ticks": "",
            "zerolinecolor": "white"
           },
           "yaxis": {
            "backgroundcolor": "#E5ECF6",
            "gridcolor": "white",
            "gridwidth": 2,
            "linecolor": "white",
            "showbackground": true,
            "ticks": "",
            "zerolinecolor": "white"
           },
           "zaxis": {
            "backgroundcolor": "#E5ECF6",
            "gridcolor": "white",
            "gridwidth": 2,
            "linecolor": "white",
            "showbackground": true,
            "ticks": "",
            "zerolinecolor": "white"
           }
          },
          "shapedefaults": {
           "line": {
            "color": "#2a3f5f"
           }
          },
          "ternary": {
           "aaxis": {
            "gridcolor": "white",
            "linecolor": "white",
            "ticks": ""
           },
           "baxis": {
            "gridcolor": "white",
            "linecolor": "white",
            "ticks": ""
           },
           "bgcolor": "#E5ECF6",
           "caxis": {
            "gridcolor": "white",
            "linecolor": "white",
            "ticks": ""
           }
          },
          "title": {
           "x": 0.05
          },
          "xaxis": {
           "automargin": true,
           "gridcolor": "white",
           "linecolor": "white",
           "ticks": "",
           "title": {
            "standoff": 15
           },
           "zerolinecolor": "white",
           "zerolinewidth": 2
          },
          "yaxis": {
           "automargin": true,
           "gridcolor": "white",
           "linecolor": "white",
           "ticks": "",
           "title": {
            "standoff": 15
           },
           "zerolinecolor": "white",
           "zerolinewidth": 2
          }
         }
        },
        "title": {
         "text": "Scatter 3D con Plotly"
        }
       }
      }
     },
     "metadata": {},
     "output_type": "display_data"
    }
   ],
   "source": [
    "# Crear figura 3D\n",
    "fig = go.Figure(data=[go.Scatter3d(\n",
    "    x=PI1.ravel() ,\n",
    "    y=PI2.ravel() ,\n",
    "    z=Y.ravel() ,\n",
    "    mode='markers',\n",
    "    marker=dict(\n",
    "        size=6,\n",
    "        color=Y,           # color según el valor de z\n",
    "        colorscale='Viridis',\n",
    "        opacity=0.8\n",
    "    )\n",
    ")])\n",
    "\n",
    "# Configurar diseño\n",
    "fig.update_layout(\n",
    "    title='Scatter 3D con Plotly',\n",
    "    scene=dict(\n",
    "        xaxis_title='Eje X',\n",
    "        yaxis_title='Eje Y',\n",
    "        zaxis_title='Eje Z'\n",
    "    ),\n",
    "    margin=dict(l=0, r=0, b=0, t=40)\n",
    ")\n",
    "\n",
    "# Mostrar figura\n",
    "fig.show()"
   ]
  },
  {
   "cell_type": "code",
   "execution_count": null,
   "id": "dc5be816-d1b9-458b-9eed-c4159e34e0d7",
   "metadata": {},
   "outputs": [],
   "source": []
  },
  {
   "cell_type": "code",
   "execution_count": null,
   "id": "32f3f015-2a87-48ba-aced-0b08d189843b",
   "metadata": {},
   "outputs": [],
   "source": []
  }
 ],
 "metadata": {
  "kernelspec": {
   "display_name": "Python 3 (ipykernel)",
   "language": "python",
   "name": "python3"
  },
  "language_info": {
   "codemirror_mode": {
    "name": "ipython",
    "version": 3
   },
   "file_extension": ".py",
   "mimetype": "text/x-python",
   "name": "python",
   "nbconvert_exporter": "python",
   "pygments_lexer": "ipython3",
   "version": "3.10.9"
  }
 },
 "nbformat": 4,
 "nbformat_minor": 5
}
