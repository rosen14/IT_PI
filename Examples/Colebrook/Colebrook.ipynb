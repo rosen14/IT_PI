{
 "cells": [
  {
   "cell_type": "code",
   "execution_count": 1,
   "id": "f949caee",
   "metadata": {},
   "outputs": [],
   "source": [
    "import numpy as np\n",
    "from scipy.special import erf\n",
    "import matplotlib.pyplot as plt\n",
    "import pandas as pd\n",
    "from numpy.linalg import matrix_rank, inv\n",
    "from pprint import pprint\n",
    "import sys\n",
    "import os\n",
    "current_notebook_dir = os.getcwd()\n",
    "# Replace with the path to your IT_PI.py function\n",
    "project_root_dir = os.path.join(current_notebook_dir, '..', '..')\n",
    "it_pi_module_dir = project_root_dir\n",
    "sys.path.append(it_pi_module_dir)\n",
    "import IT_PI\n",
    "plt.rcParams['font.family'] = 'Times New Roman'  # Set the font to Times New Roman\n",
    "plt.rcParams['text.usetex'] = True  # Use LaTeX for all text rendering/', VIEW.as_view(), name=''),\n",
    "from sklearn.preprocessing import StandardScaler\n",
    "from matplotlib.ticker import ScalarFormatter\n",
    "\n"
   ]
  },
  {
   "cell_type": "code",
   "execution_count": 2,
   "id": "e35cc403-b71e-42e2-87f7-0c37499bf97e",
   "metadata": {},
   "outputs": [
    {
     "name": "stdout",
     "output_type": "stream",
     "text": [
      "Relative roughness range: 1.0000849846016451e-08 - 0.19951800661178773\n",
      "Reynolds number range: 1000.0035762073521 - 99998.19971694158\n"
     ]
    }
   ],
   "source": [
    "# Colebrook-White equation function to solve for friction factor f\n",
    "def colebrook(Re, ks_D):\n",
    "    # Initial guess for friction factor (Blasius correlation for smooth pipe)\n",
    "    f = 0.079 / Re**0.25\n",
    "    # Iterative solution for Colebrook-White equation\n",
    "    for i in range(100):\n",
    "        f_new = 1 / (-1 * np.log10((ks_D / 3.7) + (5.02 / (Re * np.sqrt(f)))))\n",
    "        if abs(f_new - f) < 1e-6:  # Convergence criterion\n",
    "            f = f_new\n",
    "            break\n",
    "        f = f_new\n",
    "    Cf = f \n",
    "    return Cf\n",
    "\n",
    "# Define the sample size\n",
    "n_samples = 100000  # or any desired number\n",
    "mu        = 0.001  # Example constant value in Pa.s\n",
    "## IF REYNOLDS NUMBER AND RELATIVE ROUGHNESS ARE LOG UNIFORM DISTRIBUTED\n",
    "log_Re                 = np.random.uniform(3, 5, n_samples)  \n",
    "log_relative_roughness = np.random.uniform(-8, -0.7, n_samples)  \n",
    "Re                     = 10**log_Re\n",
    "relative_roughness     = 10**log_relative_roughness\n",
    "rho = 200  # Example constant density (kg/m^3)\n",
    "D   = np.random.uniform(1, 10, n_samples)\n",
    "k   = relative_roughness * D  # Roughness height (m)\n",
    "U   = (Re * mu) / (rho * D)  # Velocity (m/s)\n",
    "Cf  = np.zeros(n_samples)\n",
    "for i in range(n_samples):\n",
    "    Cf[i] = colebrook(Re[i], relative_roughness[i])\n",
    "print(f'Relative roughness range: {relative_roughness.min()} - {relative_roughness.max()}')\n",
    "print(f'Reynolds number range: {Re.min()} - {Re.max()}')    "
   ]
  },
  {
   "cell_type": "code",
   "execution_count": 3,
   "id": "9ad8a906",
   "metadata": {},
   "outputs": [],
   "source": [
    "X              = np.column_stack((U, rho * np.ones(n_samples), D, k, mu * np.ones(n_samples)))\n",
    "# Output matrix Y (Skin Friction Coefficient Cf)\n",
    "Y              = Cf.reshape(-1, 1)\n",
    "D_in           = np.matrix('1 -3 1 1 -1; -1 0 0 0 -1; 0 1 0 0 1')\n",
    "num_input      = 2"
   ]
  },
  {
   "cell_type": "code",
   "execution_count": 4,
   "id": "fd35b617-12e2-4ede-8d86-59b51b6562f0",
   "metadata": {},
   "outputs": [
    {
     "name": "stdout",
     "output_type": "stream",
     "text": [
      "Rank of D_in: 3\n",
      "D_in matrix:\n",
      " [[ 1 -3  1  1 -1]\n",
      " [-1  0  0  0 -1]\n",
      " [ 0  1  0  0  1]]\n",
      "Basis vectors:\n",
      "matrix([[ 0.,  0.,  1., -1.,  0.],\n",
      "        [ 1.,  1.,  1.,  0., -1.]])\n"
     ]
    }
   ],
   "source": [
    "print(\"Rank of D_in:\", matrix_rank(D_in))\n",
    "print(\"D_in matrix:\\n\", D_in)\n",
    "num_rows   = np.shape(D_in)[0]\n",
    "num_cols   = np.shape(D_in)[1]\n",
    "num_basis      = D_in.shape[1] -matrix_rank(D_in)\n",
    "basis_matrices = IT_PI.calc_basis(D_in, num_basis)\n",
    "print(\"Basis vectors:\")\n",
    "pprint(basis_matrices)"
   ]
  },
  {
   "cell_type": "code",
   "execution_count": 5,
   "id": "8bd9f9d5-7019-4061-b532-f58a03fefed7",
   "metadata": {},
   "outputs": [
    {
     "name": "stdout",
     "output_type": "stream",
     "text": [
      "------------------------------------------------------------\n",
      "num of parameters: 4\n",
      "\n",
      "Using estimator: 'binning' with hyperparameters: {'num_bins': 50}\n",
      "\n",
      "(150_w,300)-aCMA-ES (mu_w=78.0,w_1=3%) in dimension 4 (seed=1, Sun Oct 26 19:28:33 2025)\n",
      "Iterat #Fevals   function value  axis ratio  sigma  min&max std  t[m:s]\n",
      "    1    300 -3.052831530313900e+00 1.0e+00 5.50e-01  3e-01  5e-01 0:09.8\n",
      "    2    600 -3.020294533350464e+00 1.9e+00 5.63e-01  2e-01  4e-01 0:19.7\n",
      "    3    900 -3.039149440700061e+00 3.0e+00 6.03e-01  1e-01  4e-01 0:30.0\n",
      "    4   1200 -3.020932372470276e+00 4.8e+00 6.03e-01  7e-02  4e-01 0:40.4\n",
      "    5   1500 -3.061434095983248e+00 5.6e+00 7.09e-01  5e-02  4e-01 0:51.0\n",
      "    6   1800 -3.130465249528189e+00 1.0e+01 6.82e-01  3e-02  4e-01 1:01.6\n",
      "    7   2100 -3.116577721728965e+00 1.5e+01 7.33e-01  2e-02  3e-01 1:12.4\n",
      "    8   2400 -3.138648457506743e+00 2.3e+01 8.47e-01  8e-03  3e-01 1:23.2\n",
      "    9   2700 -3.135383837477859e+00 3.2e+01 8.52e-01  4e-03  2e-01 1:34.0\n",
      "   10   3000 -3.155244851483654e+00 3.7e+01 9.72e-01  3e-03  1e-01 1:44.7\n",
      "   11   3300 -3.156921089751282e+00 4.8e+01 1.05e+00  1e-03  8e-02 1:55.5\n",
      "   13   3900 -3.164991641365992e+00 7.8e+01 1.26e+00  7e-04  8e-02 2:17.0\n",
      "   15   4500 -3.173230129720146e+00 1.7e+02 1.35e+00  4e-04  8e-02 2:38.4\n",
      "   17   5100 -3.169365903305084e+00 2.1e+02 1.30e+00  3e-04  7e-02 3:00.2\n",
      "   19   5700 -3.173689825649676e+00 3.0e+02 1.37e+00  2e-04  8e-02 3:22.1\n",
      "   21   6300 -3.172151364831027e+00 4.6e+02 1.49e+00  1e-04  7e-02 3:43.4\n",
      "   23   6900 -3.171728645470628e+00 4.2e+02 1.42e+00  1e-04  3e-02 4:04.7\n",
      "   25   7500 -3.173113110753473e+00 3.3e+02 1.57e+00  1e-04  2e-02 4:26.0\n",
      "   27   8100 -3.172475125773436e+00 2.5e+02 1.68e+00  7e-05  2e-02 4:47.4\n",
      "   29   8700 -3.172727708885690e+00 2.9e+02 1.82e+00  6e-05  2e-02 5:08.7\n",
      "   31   9300 -3.173093813901291e+00 3.3e+02 1.76e+00  4e-05  1e-02 5:30.1\n",
      "   33   9900 -3.176883787505118e+00 3.5e+02 2.09e+00  5e-05  1e-02 5:51.5\n",
      "   36  10800 -3.174954577936536e+00 2.9e+02 2.16e+00  4e-05  1e-02 6:23.9\n",
      "   39  11700 -3.177919060890320e+00 3.9e+02 2.39e+00  3e-05  9e-03 6:58.3\n",
      "   42  12600 -3.178807073606945e+00 4.1e+02 2.52e+00  3e-05  9e-03 7:32.3\n",
      "   45  13500 -3.178324478698610e+00 3.6e+02 2.65e+00  3e-05  8e-03 8:04.5\n",
      "   48  14400 -3.179073445390937e+00 3.0e+02 2.75e+00  2e-05  6e-03 8:36.7\n",
      "   51  15300 -3.179310144069459e+00 1.8e+02 2.81e+00  2e-05  2e-03 9:08.9\n",
      "   54  16200 -3.180063101216430e+00 7.4e+01 5.05e+00  3e-05  8e-04 9:41.0\n",
      "   57  17100 -3.180312019996619e+00 3.1e+01 6.27e+00  1e-05  3e-04 10:13.2\n",
      "   60  18000 -3.180493944842125e+00 4.5e+01 7.03e+00  7e-06  2e-04 10:45.8\n",
      "   63  18900 -3.180617453596610e+00 9.2e+01 8.24e+00  7e-06  1e-04 11:17.9\n",
      "   66  19800 -3.180674679261090e+00 1.3e+02 9.02e+00  3e-06  1e-04 11:50.8\n",
      "   69  20700 -3.180708725946718e+00 2.8e+02 1.11e+01  7e-07  1e-04 12:23.9\n",
      "   73  21900 -3.180749137180388e+00 4.5e+02 1.41e+01  3e-07  7e-05 13:07.4\n",
      "   77  23100 -3.180758545695013e+00 2.0e+02 1.89e+01  2e-07  2e-05 13:50.7\n",
      "   81  24300 -3.180773624622811e+00 1.5e+02 2.14e+01  8e-08  6e-06 14:34.3\n",
      "   85  25500 -3.180779253449836e+00 7.8e+01 2.31e+01  7e-08  3e-06 15:17.6\n",
      "   89  26700 -3.180789462644087e+00 8.1e+01 2.63e+01  7e-08  2e-06 16:00.5\n",
      "   93  27900 -3.180785522520290e+00 3.8e+01 2.92e+01  6e-08  1e-06 16:43.3\n",
      "   97  29100 -3.180790018485776e+00 4.9e+01 4.02e+01  7e-08  1e-06 17:26.1\n",
      "  100  30000 -3.180790018485776e+00 4.5e+01 4.17e+01  5e-08  9e-07 17:58.6\n",
      "  104  31200 -3.180790018485776e+00 3.4e+01 4.64e+01  3e-08  5e-07 18:41.5\n",
      "  105  31500 -3.180790018485776e+00 2.6e+01 4.98e+01  2e-08  3e-07 18:52.2\n",
      "termination on tolfunhist=1e-12\n",
      "final/bestever f-value = -3.180790e+00 -3.180790e+00 after 31500/28555 evaluations\n",
      "incumbent solution: [-3.66075567e-01, -1.54418170e-02, -8.16295599e-05, -1.78122293e-01]\n",
      "std deviation: [5.96941904e-08, 1.23966220e-07, 2.21321005e-08, 3.29954957e-07]\n",
      "Optimized_params: [-3.66075558e-01 -1.54418315e-02 -8.16193056e-05 -1.78122415e-01]\n",
      "Optimized_MI: -3.1807900184857765\n",
      "------------------------------------------------------------\n",
      "coef_pi: [[-0.04047478 -0.04047478 -1.          0.95952522  0.04047478]]\n",
      "coef_pi: [[-9.99541990e-01 -9.99541990e-01 -1.00000000e+00  4.58010425e-04\n",
      "   9.99541990e-01]]\n"
     ]
    }
   ],
   "source": [
    "# Run dimensionless learning\n",
    "results = IT_PI.main(\n",
    "    X,\n",
    "    Y.reshape(-1, 1),\n",
    "    basis_matrices,\n",
    "    num_input=num_input,\n",
    "    estimator=\"binning\",\n",
    "    estimator_params={\"num_bins\": 50},\n",
    "    seed=1#666\n",
    ")\n"
   ]
  },
  {
   "cell_type": "code",
   "execution_count": 5,
   "id": "5ee52207",
   "metadata": {},
   "outputs": [
    {
     "name": "stdout",
     "output_type": "stream",
     "text": [
      "------------------------------------------------------------\n",
      "num of parameters: 4\n",
      "\n",
      "Using estimator: 'binning' with hyperparameters: {'num_bins': 50}\n",
      "\n",
      "(150_w,300)-aCMA-ES (mu_w=78.0,w_1=3%) in dimension 4 (seed=666, Mon Sep  8 13:38:06 2025)\n",
      "Iterat #Fevals   function value  axis ratio  sigma  min&max std  t[m:s]\n",
      "    1    300 -2.815115489935919e+00 1.0e+00 5.45e-01  3e-01  5e-01 0:11.9\n",
      "    2    600 -3.007788230203424e+00 2.1e+00 5.60e-01  2e-01  4e-01 0:24.1\n",
      "    3    900 -3.020366343412365e+00 2.4e+00 5.46e-01  1e-01  3e-01 0:36.4\n",
      "    4   1200 -3.048755488816624e+00 3.0e+00 5.23e-01  9e-02  3e-01 0:48.5\n",
      "    5   1500 -3.013346255079929e+00 3.5e+00 5.32e-01  5e-02  3e-01 1:00.6\n",
      "    6   1800 -3.105425011867450e+00 6.0e+00 5.44e-01  4e-02  2e-01 1:12.5\n",
      "    7   2100 -3.097227523807941e+00 7.2e+00 6.88e-01  4e-02  4e-01 1:24.3\n",
      "    8   2400 -3.103650994738068e+00 1.3e+01 7.76e-01  3e-02  4e-01 1:36.0\n",
      "    9   2700 -3.127542523972620e+00 1.7e+01 8.39e-01  1e-02  3e-01 1:48.8\n",
      "   10   3000 -3.129856742313978e+00 2.3e+01 1.00e+00  9e-03  3e-01 2:01.4\n",
      "   11   3300 -3.135686281316975e+00 3.1e+01 1.22e+00  6e-03  2e-01 2:13.7\n",
      "   12   3600 -3.145446508476043e+00 2.8e+01 1.38e+00  4e-03  1e-01 2:25.2\n",
      "   14   4200 -3.158165756431059e+00 4.8e+01 1.86e+00  1e-03  9e-02 2:48.5\n",
      "   16   4800 -3.162860484191216e+00 8.6e+01 2.49e+00  9e-04  9e-02 3:12.8\n",
      "   18   5400 -3.168154239384879e+00 1.5e+02 2.64e+00  4e-04  8e-02 3:36.6\n",
      "   20   6000 -3.169163174156239e+00 2.1e+02 2.66e+00  3e-04  7e-02 4:01.0\n",
      "   22   6600 -3.174239945397622e+00 3.0e+02 2.91e+00  2e-04  5e-02 4:25.0\n",
      "   24   7200 -3.173819876891566e+00 3.0e+02 2.90e+00  1e-04  3e-02 4:49.1\n",
      "   26   7800 -3.176140205491079e+00 2.0e+02 3.21e+00  1e-04  2e-02 5:13.1\n",
      "   28   8400 -3.175202333610488e+00 2.0e+02 3.30e+00  7e-05  2e-02 5:36.7\n",
      "   30   9000 -3.176152317657719e+00 2.4e+02 3.16e+00  5e-05  1e-02 6:00.5\n",
      "   32   9600 -3.175638297126115e+00 2.9e+02 3.35e+00  5e-05  1e-02 6:23.5\n",
      "   34  10200 -3.176391647106639e+00 3.7e+02 3.61e+00  5e-05  1e-02 6:46.8\n",
      "   36  10800 -3.177280054367744e+00 3.5e+02 3.91e+00  4e-05  1e-02 7:10.0\n",
      "   39  11700 -3.177137696336308e+00 3.7e+02 3.95e+00  4e-05  7e-03 7:44.4\n",
      "   42  12600 -3.178040186527292e+00 1.1e+02 5.07e+00  3e-05  2e-03 8:19.4\n",
      "   45  13500 -3.178094790854048e+00 8.8e+01 6.43e+00  2e-05  9e-04 8:54.1\n",
      "   48  14400 -3.178448874060311e+00 4.6e+01 7.77e+00  9e-06  2e-04 9:28.4\n",
      "   51  15300 -3.178631634415833e+00 1.7e+01 7.82e+00  6e-06  9e-05 10:05.7\n",
      "   54  16200 -3.178690937098402e+00 1.4e+01 7.65e+00  6e-06  7e-05 10:44.8\n",
      "   57  17100 -3.178704766438052e+00 1.0e+01 8.45e+00  6e-06  5e-05 11:22.2\n",
      "   60  18000 -3.178721205892613e+00 1.7e+01 9.79e+00  3e-06  3e-05 11:56.7\n",
      "   63  18900 -3.178781817085873e+00 9.6e+00 1.05e+01  1e-06  1e-05 12:31.6\n",
      "   66  19800 -3.178788728051774e+00 8.1e+00 1.12e+01  7e-07  5e-06 13:06.3\n",
      "   69  20700 -3.178781324023777e+00 1.6e+01 1.21e+01  2e-07  4e-06 13:41.1\n",
      "   72  21600 -3.178800474584103e+00 7.2e+01 1.27e+01  8e-08  4e-06 14:20.8\n",
      "   75  22500 -3.178803601932827e+00 8.3e+01 1.36e+01  7e-08  3e-06 14:57.0\n",
      "   79  23700 -3.178808087771223e+00 1.2e+02 1.27e+01  7e-08  3e-06 15:46.4\n",
      "   83  24900 -3.178808087771223e+00 1.5e+02 1.22e+01  8e-08  3e-06 16:33.7\n",
      "   87  26100 -3.178808087771223e+00 1.9e+02 1.27e+01  9e-08  4e-06 17:20.4\n",
      "   88  26400 -3.178808087771223e+00 2.1e+02 1.24e+01  7e-08  3e-06 17:32.0\n",
      "termination on tolfunhist=1e-12\n",
      "final/bestever f-value = -3.178808e+00 -3.178808e+00 after 26400/22558 evaluations\n",
      "incumbent solution: [-8.93537145e-05, -1.78458035e-01, -3.71707129e-01, -3.25665146e-03]\n",
      "std deviation: [7.15705210e-08, 3.30584290e-06, 8.05645244e-07, 4.00092163e-07]\n",
      "Optimized_params: [-8.94274159e-05 -1.78454543e-01 -3.71707089e-01 -3.25677718e-03]\n",
      "Optimized_MI: -3.1788080877712233\n",
      "------------------------------------------------------------\n",
      "coef_pi: [[-9.99499129e-01 -9.99499129e-01 -1.00000000e+00  5.00870545e-04\n",
      "   9.99499129e-01]]\n",
      "coef_pi: [[-0.00868558 -0.00868558 -1.          0.99131442  0.00868558]]\n"
     ]
    }
   ],
   "source": [
    "# Run dimensionless learning\n",
    "results = IT_PI.main(\n",
    "    X,\n",
    "    Y.reshape(-1, 1),\n",
    "    basis_matrices,\n",
    "    num_input=num_input,\n",
    "    estimator=\"binning\",\n",
    "    estimator_params={\"num_bins\": 50},\n",
    "    seed=666\n",
    ")\n",
    "\n"
   ]
  },
  {
   "cell_type": "code",
   "execution_count": 8,
   "id": "4ac6e8bd",
   "metadata": {},
   "outputs": [
    {
     "name": "stdout",
     "output_type": "stream",
     "text": [
      "Optimal_pi_lab[0] = $\\frac{k^{0.96} \\cdot \\mu^{0.04}}{u^{0.04} \\cdot \\rho^{0.04} \\cdot D^{1.0}}$\n",
      "Optimal_pi_lab[1] = $\\frac{\\mu^{1.0}}{u^{1.0} \\cdot \\rho^{1.0} \\cdot D^{1.0}}$\n"
     ]
    }
   ],
   "source": [
    "input_PI = results[\"input_PI\"]\n",
    "output_PI = results[\"output_PI\"]\n",
    "epsilon  = results[\"irreducible_error\"]\n",
    "uq       = results[\"uncertainty\"]\n",
    "\n",
    "coef_pi_list     = results[\"input_coef\"]\n",
    "variables = ['u', '\\\\rho', 'D', 'k','\\\\mu'];\n",
    "\n",
    "optimal_pi_lab   = IT_PI.create_labels(np.array(coef_pi_list).reshape(-1, len(variables)), variables)\n",
    "for j, label in enumerate(optimal_pi_lab):\n",
    "    print(f'Optimal_pi_lab[{j}] = {label}')\n",
    "    \n",
    "input_PI[:, [0, 1]] = input_PI[:, [1, 0]]\n"
   ]
  },
  {
   "cell_type": "code",
   "execution_count": 9,
   "id": "e0fca952",
   "metadata": {},
   "outputs": [
    {
     "ename": "MemoryError",
     "evalue": "Unable to allocate 74.5 GiB for an array with shape (10000000000,) and data type float64",
     "output_type": "error",
     "traceback": [
      "\u001b[31m---------------------------------------------------------------------------\u001b[39m",
      "\u001b[31mMemoryError\u001b[39m                               Traceback (most recent call last)",
      "\u001b[36mCell\u001b[39m\u001b[36m \u001b[39m\u001b[32mIn[9]\u001b[39m\u001b[32m, line 5\u001b[39m\n\u001b[32m      3\u001b[39m plt.rcParams[\u001b[33m'\u001b[39m\u001b[33mtext.usetex\u001b[39m\u001b[33m'\u001b[39m] = \u001b[38;5;28;01mTrue\u001b[39;00m  \n\u001b[32m      4\u001b[39m ax = fig.add_subplot(\u001b[32m111\u001b[39m, projection=\u001b[33m'\u001b[39m\u001b[33m3d\u001b[39m\u001b[33m'\u001b[39m)\n\u001b[32m----> \u001b[39m\u001b[32m5\u001b[39m \u001b[43max\u001b[49m\u001b[43m.\u001b[49m\u001b[43mscatter\u001b[49m\u001b[43m(\u001b[49m\u001b[43minput_PI\u001b[49m\u001b[43m[\u001b[49m\u001b[43m:\u001b[49m\u001b[43m,\u001b[49m\u001b[43m \u001b[49m\u001b[32;43m0\u001b[39;49m\u001b[43m]\u001b[49m\u001b[43m,\u001b[49m\u001b[43m \u001b[49m\u001b[43minput_PI\u001b[49m\u001b[43m[\u001b[49m\u001b[43m:\u001b[49m\u001b[43m,\u001b[49m\u001b[43m \u001b[49m\u001b[32;43m1\u001b[39;49m\u001b[43m]\u001b[49m\u001b[43m,\u001b[49m\u001b[43m \u001b[49m\u001b[43moutput_PI\u001b[49m\u001b[43m,\u001b[49m\u001b[43m \u001b[49m\u001b[43mc\u001b[49m\u001b[43m=\u001b[49m\u001b[33;43m'\u001b[39;49m\u001b[33;43mr\u001b[39;49m\u001b[33;43m'\u001b[39;49m\u001b[43m,\u001b[49m\u001b[43m \u001b[49m\u001b[43mmarker\u001b[49m\u001b[43m=\u001b[49m\u001b[33;43m'\u001b[39;49m\u001b[33;43mo\u001b[39;49m\u001b[33;43m'\u001b[39;49m\u001b[43m)\u001b[49m\n\u001b[32m      6\u001b[39m \u001b[38;5;28;01mdef\u001b[39;00m\u001b[38;5;250m \u001b[39m\u001b[34mprepare_label\u001b[39m(label):\n\u001b[32m      7\u001b[39m     \u001b[38;5;28;01mif\u001b[39;00m \u001b[33m'\u001b[39m\u001b[33m$\u001b[39m\u001b[33m'\u001b[39m \u001b[38;5;129;01min\u001b[39;00m label:\n",
      "\u001b[36mFile \u001b[39m\u001b[32m~\\Documents\\Repositorios\\IT_PI\\venv\\Lib\\site-packages\\matplotlib\\__init__.py:1524\u001b[39m, in \u001b[36m_preprocess_data.<locals>.inner\u001b[39m\u001b[34m(ax, data, *args, **kwargs)\u001b[39m\n\u001b[32m   1521\u001b[39m \u001b[38;5;129m@functools\u001b[39m.wraps(func)\n\u001b[32m   1522\u001b[39m \u001b[38;5;28;01mdef\u001b[39;00m\u001b[38;5;250m \u001b[39m\u001b[34minner\u001b[39m(ax, *args, data=\u001b[38;5;28;01mNone\u001b[39;00m, **kwargs):\n\u001b[32m   1523\u001b[39m     \u001b[38;5;28;01mif\u001b[39;00m data \u001b[38;5;129;01mis\u001b[39;00m \u001b[38;5;28;01mNone\u001b[39;00m:\n\u001b[32m-> \u001b[39m\u001b[32m1524\u001b[39m         \u001b[38;5;28;01mreturn\u001b[39;00m \u001b[43mfunc\u001b[49m\u001b[43m(\u001b[49m\n\u001b[32m   1525\u001b[39m \u001b[43m            \u001b[49m\u001b[43max\u001b[49m\u001b[43m,\u001b[49m\n\u001b[32m   1526\u001b[39m \u001b[43m            \u001b[49m\u001b[43m*\u001b[49m\u001b[38;5;28;43mmap\u001b[39;49m\u001b[43m(\u001b[49m\u001b[43mcbook\u001b[49m\u001b[43m.\u001b[49m\u001b[43msanitize_sequence\u001b[49m\u001b[43m,\u001b[49m\u001b[43m \u001b[49m\u001b[43margs\u001b[49m\u001b[43m)\u001b[49m\u001b[43m,\u001b[49m\n\u001b[32m   1527\u001b[39m \u001b[43m            \u001b[49m\u001b[43m*\u001b[49m\u001b[43m*\u001b[49m\u001b[43m{\u001b[49m\u001b[43mk\u001b[49m\u001b[43m:\u001b[49m\u001b[43m \u001b[49m\u001b[43mcbook\u001b[49m\u001b[43m.\u001b[49m\u001b[43msanitize_sequence\u001b[49m\u001b[43m(\u001b[49m\u001b[43mv\u001b[49m\u001b[43m)\u001b[49m\u001b[43m \u001b[49m\u001b[38;5;28;43;01mfor\u001b[39;49;00m\u001b[43m \u001b[49m\u001b[43mk\u001b[49m\u001b[43m,\u001b[49m\u001b[43m \u001b[49m\u001b[43mv\u001b[49m\u001b[43m \u001b[49m\u001b[38;5;129;43;01min\u001b[39;49;00m\u001b[43m \u001b[49m\u001b[43mkwargs\u001b[49m\u001b[43m.\u001b[49m\u001b[43mitems\u001b[49m\u001b[43m(\u001b[49m\u001b[43m)\u001b[49m\u001b[43m}\u001b[49m\u001b[43m)\u001b[49m\n\u001b[32m   1529\u001b[39m     bound = new_sig.bind(ax, *args, **kwargs)\n\u001b[32m   1530\u001b[39m     auto_label = (bound.arguments.get(label_namer)\n\u001b[32m   1531\u001b[39m                   \u001b[38;5;129;01mor\u001b[39;00m bound.kwargs.get(label_namer))\n",
      "\u001b[36mFile \u001b[39m\u001b[32m~\\Documents\\Repositorios\\IT_PI\\venv\\Lib\\site-packages\\mpl_toolkits\\mplot3d\\axes3d.py:2946\u001b[39m, in \u001b[36mAxes3D.scatter\u001b[39m\u001b[34m(self, xs, ys, zs, zdir, s, c, depthshade, axlim_clip, *args, **kwargs)\u001b[39m\n\u001b[32m   2943\u001b[39m had_data = \u001b[38;5;28mself\u001b[39m.has_data()\n\u001b[32m   2944\u001b[39m zs_orig = zs\n\u001b[32m-> \u001b[39m\u001b[32m2946\u001b[39m xs, ys, zs = \u001b[43mcbook\u001b[49m\u001b[43m.\u001b[49m\u001b[43m_broadcast_with_masks\u001b[49m\u001b[43m(\u001b[49m\u001b[43mxs\u001b[49m\u001b[43m,\u001b[49m\u001b[43m \u001b[49m\u001b[43mys\u001b[49m\u001b[43m,\u001b[49m\u001b[43m \u001b[49m\u001b[43mzs\u001b[49m\u001b[43m)\u001b[49m\n\u001b[32m   2947\u001b[39m s = np.ma.ravel(s)  \u001b[38;5;66;03m# This doesn't have to match x, y in size.\u001b[39;00m\n\u001b[32m   2949\u001b[39m xs, ys, zs, s, c, color = cbook.delete_masked_points(\n\u001b[32m   2950\u001b[39m     xs, ys, zs, s, c, kwargs.get(\u001b[33m'\u001b[39m\u001b[33mcolor\u001b[39m\u001b[33m'\u001b[39m, \u001b[38;5;28;01mNone\u001b[39;00m)\n\u001b[32m   2951\u001b[39m     )\n",
      "\u001b[36mFile \u001b[39m\u001b[32m~\\Documents\\Repositorios\\IT_PI\\venv\\Lib\\site-packages\\matplotlib\\cbook.py:1097\u001b[39m, in \u001b[36m_broadcast_with_masks\u001b[39m\u001b[34m(compress, *args)\u001b[39m\n\u001b[32m   1094\u001b[39m         inputs = [np.ma.array(k, mask=mask, dtype=\u001b[38;5;28mfloat\u001b[39m).filled(np.nan).ravel()\n\u001b[32m   1095\u001b[39m                   \u001b[38;5;28;01mfor\u001b[39;00m k \u001b[38;5;129;01min\u001b[39;00m inputs]\n\u001b[32m   1096\u001b[39m \u001b[38;5;28;01melse\u001b[39;00m:\n\u001b[32m-> \u001b[39m\u001b[32m1097\u001b[39m     inputs = [\u001b[43mnp\u001b[49m\u001b[43m.\u001b[49m\u001b[43mravel\u001b[49m\u001b[43m(\u001b[49m\u001b[43mk\u001b[49m\u001b[43m)\u001b[49m \u001b[38;5;28;01mfor\u001b[39;00m k \u001b[38;5;129;01min\u001b[39;00m inputs]\n\u001b[32m   1098\u001b[39m \u001b[38;5;28;01mreturn\u001b[39;00m inputs\n",
      "\u001b[36mFile \u001b[39m\u001b[32m~\\Documents\\Repositorios\\IT_PI\\venv\\Lib\\site-packages\\numpy\\_core\\fromnumeric.py:2011\u001b[39m, in \u001b[36mravel\u001b[39m\u001b[34m(a, order)\u001b[39m\n\u001b[32m   2009\u001b[39m     \u001b[38;5;28;01mreturn\u001b[39;00m asarray(a).ravel(order=order)\n\u001b[32m   2010\u001b[39m \u001b[38;5;28;01melse\u001b[39;00m:\n\u001b[32m-> \u001b[39m\u001b[32m2011\u001b[39m     \u001b[38;5;28;01mreturn\u001b[39;00m \u001b[43masanyarray\u001b[49m\u001b[43m(\u001b[49m\u001b[43ma\u001b[49m\u001b[43m)\u001b[49m\u001b[43m.\u001b[49m\u001b[43mravel\u001b[49m\u001b[43m(\u001b[49m\u001b[43morder\u001b[49m\u001b[43m=\u001b[49m\u001b[43morder\u001b[49m\u001b[43m)\u001b[49m\n",
      "\u001b[31mMemoryError\u001b[39m: Unable to allocate 74.5 GiB for an array with shape (10000000000,) and data type float64"
     ]
    },
    {
     "data": {
      "image/png": "[encoded data removed]",
      "text/plain": [
       "<Figure size 400x400 with 1 Axes>"
      ]
     },
     "metadata": {},
     "output_type": "display_data"
    }
   ],
   "source": [
    "fig = plt.figure(figsize=(4, 4))\n",
    "plt.rcParams['font.family'] = 'Times New Roman' \n",
    "plt.rcParams['text.usetex'] = True  \n",
    "ax = fig.add_subplot(111, projection='3d')\n",
    "ax.scatter(input_PI[:, 0], input_PI[:, 1], output_PI, c='r', marker='o')\n",
    "def prepare_label(label):\n",
    "    if '$' in label:\n",
    "        return r'{}'.format(label)\n",
    "    return label\n",
    "ax.set_xlabel(r'$\\Pi_1^*$', fontsize=20, labelpad=20)  # Increase labelpad as needed\n",
    "ax.set_ylabel(r'$\\Pi_2^*$', fontsize=20, labelpad=25)\n",
    "ax.set_zlabel(r'$C_f$', fontsize=15, labelpad=20)\n",
    "\n",
    "ax.xaxis.set_tick_params(width=1, labelsize=15)\n",
    "ax.yaxis.set_tick_params(width=1, labelsize=15)\n",
    "ax.zaxis.set_tick_params(width=1, labelsize=15)\n",
    "ax.tick_params(axis='both', which='major', labelsize=15, pad=10)\n",
    "ax.grid(True)  \n",
    "# plt.savefig('roughness_dimensionless.png', dpi=300, bbox_inches='tight')\n",
    "# plt.savefig('roughness_dimensionless.eps', dpi=300, bbox_inches='tight')\n",
    "\n",
    "# Show the plot\n",
    "plt.show()"
   ]
  },
  {
   "cell_type": "code",
   "execution_count": 10,
   "id": "2da767df",
   "metadata": {},
   "outputs": [
    {
     "data": {
      "image/png": "[encoded data removed]",
      "text/plain": [
       "<Figure size 400x200 with 1 Axes>"
      ]
     },
     "metadata": {},
     "output_type": "display_data"
    }
   ],
   "source": [
    "#exchange the first and the second value\n",
    "epsilon[1],epsilon[0] = epsilon[0],epsilon[1]\n",
    "uq[1],uq[0] = uq[0],uq[1]\n",
    "x_labels = [r'$\\Pi_1^*$', r'$\\Pi_2^*$', r\"$[\\Pi_1^*,\\Pi_2^*]$\"]\n",
    "plt.figure(figsize=(4, 2))\n",
    "plt.rcParams['font.family'] = 'Times New Roman'  # Set the font to Times New Roman\n",
    "plt.rcParams['text.usetex'] = True  # Use LaTeX for all text rendering\n",
    "plt.gca().spines['top'].set_linewidth(1.5)\n",
    "plt.gca().spines['bottom'].set_linewidth(1.5)\n",
    "plt.gca().spines['left'].set_linewidth(1.5)\n",
    "plt.gca().spines['right'].set_linewidth(1.5)\n",
    "\n",
    "# Use uq_values as the error bars\n",
    "plt.bar(x_labels, epsilon, yerr=uq, capsize=5, edgecolor='black',color = 'red')\n",
    "plt.xticks(fontsize=25)\n",
    "plt.yticks(fontsize=20)\n",
    "plt.ylabel(r'$\\tilde{\\epsilon}_{L B}$', fontsize=25, labelpad=15)\n",
    "plt.ylim([0, 1])\n",
    "plt.savefig('Colebrook_rank.eps', dpi=300, bbox_inches='tight',transparent=True)\n",
    "plt.show()"
   ]
  },
  {
   "cell_type": "code",
   "execution_count": 11,
   "id": "ba56d796",
   "metadata": {},
   "outputs": [],
   "source": [
    "log_data         = np.log1p(input_PI)  # np.log1p is used to avoid log(0) issues\n",
    "scaler          = StandardScaler()\n",
    "scaled_log_data = scaler.fit_transform(log_data)\n",
    "# Perform KMeans clustering on the scaled log-transformed data\n",
    "regions                     = IT_PI.partition_space(scaled_log_data, n_clusters= 10)\n",
    "results_region, ratio_X1, ratio_X2 = IT_PI.analyze_regions(input_PI[:,0], input_PI[:,1], Y, regions)"
   ]
  },
  {
   "cell_type": "code",
   "execution_count": 12,
   "id": "1321da96",
   "metadata": {},
   "outputs": [
    {
     "data": {
      "image/png": "[encoded data removed]",
      "text/plain": [
       "<Figure size 400x400 with 2 Axes>"
      ]
     },
     "metadata": {},
     "output_type": "display_data"
    }
   ],
   "source": [
    "def plot_ratio_X1(X1, X2, ratio_X1):\n",
    "    plt.figure(figsize=(4, 4))\n",
    "    scatter = plt.scatter(X1, X2, c=ratio_X1, cmap='Blues', s=50, vmin=0, vmax=1) \n",
    "    plt.gca().spines['top'].set_linewidth(1.5)\n",
    "    plt.gca().spines['bottom'].set_linewidth(1.5)\n",
    "    plt.gca().spines['left'].set_linewidth(1.5)\n",
    "    plt.gca().spines['right'].set_linewidth(1.5)\n",
    "    plt.xlabel(r\" $\\Pi_{1}^*$\", fontsize=25, labelpad=10)  \n",
    "    plt.ylabel(r\" $\\Pi_2^*$\", fontsize=25, labelpad=10)\n",
    "    plt.xscale('log')\n",
    "    plt.xticks(fontsize=25)\n",
    "    ax = plt.gca()\n",
    "    formatter = ScalarFormatter(useMathText=True)\n",
    "    formatter.set_scientific(True)\n",
    "    formatter.set_powerlimits((-3, -3))\n",
    "    ax.yaxis.set_major_formatter(formatter)\n",
    "    plt.yticks(fontsize=25)\n",
    "    ax.yaxis.get_offset_text().set_fontsize(20)\n",
    "    offset_text = ax.yaxis.get_offset_text()\n",
    "    x, y = offset_text.get_position()  # current position\n",
    "    offset_text.set_position((x , y+1.5))  # shift it slightly left\n",
    "\n",
    "    cbar = plt.colorbar(scatter)\n",
    "    cbar.set_label('$R_1$', fontsize=25)\n",
    "    cbar.set_ticks([0, 0.25, 0.5, 0.75, 1])  # ✅ set tick locations\n",
    "    cbar.set_ticklabels(['0', '0.25', '0.5', '0.75', '1'])  # ✅ set labels\n",
    "    cbar.ax.tick_params(labelsize=25)  # ✅ set font size\n",
    "    plt.xlim(10**(-3.5), np.max(X1))\n",
    "    plt.ylim(0.0002, np.max(X2))\n",
    "    #plt.savefig('roughness_region_1.png', dpi=300, bbox_inches='tight',transparent=True)\n",
    "    plt.savefig('roughness_region_1.pdf', dpi=200, bbox_inches='tight',transparent=True)\n",
    "    plt.show()\n",
    "    \n",
    "plot_ratio_X1(input_PI[:,0], input_PI[:,1], ratio_X1)\n"
   ]
  },
  {
   "cell_type": "code",
   "execution_count": 11,
   "id": "19cdbc63",
   "metadata": {},
   "outputs": [
    {
     "name": "stdout",
     "output_type": "stream",
     "text": [
      "Skipping np - cannot pickle\n",
      "Skipping plt - cannot pickle\n",
      "Skipping pd - cannot pickle\n",
      "Skipping sys - cannot pickle\n",
      "Skipping os - cannot pickle\n",
      "Skipping IT_PI - cannot pickle\n",
      "Skipping pickle - cannot pickle\n"
     ]
    }
   ],
   "source": [
    "import pickle\n",
    "\n",
    "workspace = {}\n",
    "globals_copy = dict(globals())\n",
    "\n",
    "for key, value in globals_copy.items():\n",
    "    if not key.startswith('_') and not callable(value) and not hasattr(value, '__module__'):\n",
    "        try:\n",
    "            pickle.dumps(value)  # Test if it can be pickled\n",
    "            workspace[key] = value\n",
    "        except (TypeError, AttributeError):\n",
    "            print(f\"Skipping {key} - cannot pickle\")\n",
    "\n",
    "with open('output.pkl', 'wb') as f:\n",
    "    pickle.dump(workspace, f)"
   ]
  }
 ],
 "metadata": {
  "kernelspec": {
   "display_name": "Python 3 (ipykernel)",
   "language": "python",
   "name": "python3"
  },
  "language_info": {
   "codemirror_mode": {
    "name": "ipython",
    "version": 3
   },
   "file_extension": ".py",
   "mimetype": "text/x-python",
   "name": "python",
   "nbconvert_exporter": "python",
   "pygments_lexer": "ipython3",
   "version": "3.10.9"
  }
 },
 "nbformat": 4,
 "nbformat_minor": 5
}
