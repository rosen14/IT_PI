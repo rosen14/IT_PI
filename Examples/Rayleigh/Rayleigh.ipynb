{
 "cells": [
  {
   "cell_type": "code",
   "execution_count": 1,
   "id": "7e95cfe0",
   "metadata": {},
   "outputs": [],
   "source": [
    "import numpy as np\n",
    "from scipy.special import erf\n",
    "import matplotlib.pyplot as plt\n",
    "\n",
    "from numpy.linalg import inv, matrix_rank\n",
    "from pprint import pprint\n",
    "\n",
    "plt.rcParams['font.family'] = 'Times New Roman'  # Set the font to Times New Roman\n",
    "plt.rcParams['text.usetex'] = True  # Use LaTeX for all text rendering/', VIEW.as_view(), name=''),"
   ]
  },
  {
   "cell_type": "code",
   "execution_count": 2,
   "id": "a2f56e4d",
   "metadata": {},
   "outputs": [],
   "source": [
    "import sys\n",
    "import os\n",
    "current_notebook_dir = os.getcwd()\n",
    "# Replace with the path to your IT_PI.py function\n",
    "project_root_dir = os.path.join(current_notebook_dir, '..', '..')\n",
    "it_pi_module_dir = project_root_dir\n",
    "sys.path.append(it_pi_module_dir)\n",
    "import IT_PI"
   ]
  },
  {
   "cell_type": "code",
   "execution_count": 3,
   "id": "283a19cd",
   "metadata": {},
   "outputs": [],
   "source": [
    "## Generate dataset for Rayleigh's problem\n",
    "# Function to compute velocity profile u/U as a function of y and t for fixed U and nu\n",
    "def velocity_profile_rayleigh(y, nu, U, t):\n",
    "    return U * (1 - erf(y / (2 * np.sqrt(nu * t))))\n",
    "# Generate samples in the dataset\n",
    "y_values        = np.linspace(0, 1, 50)                    # Distance from the plate (m)\n",
    "t_values        = np.linspace(0.01, 5, 20)                 # Time values (s)\n",
    "n_samples       = 100                                        # Number of samples for U and nu\n",
    "U_samples       = np.random.uniform(0.5, 1.0, n_samples)   # Plate velocity (m/s)\n",
    "nu_samples      = np.random.uniform(1e-3, 1e-2, n_samples) # Kinematic viscosity (m^2/s)\n",
    "u_list          = []\n",
    "parameters_list = []\n",
    "\n",
    "for i in range(n_samples):\n",
    "    U_current   = U_samples[i]\n",
    "    nu_current  = nu_samples[i]\n",
    "    for y in y_values:\n",
    "        for t in t_values:\n",
    "            u_value = velocity_profile_rayleigh(y, nu_current, U_current, t)\n",
    "            u_list.append(u_value)\n",
    "            parameters_list.append([U_current, y, t, nu_current])\n",
    "u_array          = np.array(u_list).reshape(-1, 1)  \n",
    "parameters_array = np.array(parameters_list)\n"
   ]
  },
  {
   "cell_type": "code",
   "execution_count": 4,
   "id": "0ebdfa53",
   "metadata": {},
   "outputs": [
    {
     "name": "stdout",
     "output_type": "stream",
     "text": [
      "Rank of D_in: 2\n",
      "D_in matrix:\n",
      " [[ 1  1  0  2]\n",
      " [-1  0  1 -1]]\n",
      "Basis vectors:\n",
      "matrix([[-1.,  1., -1.,  0.],\n",
      "        [ 1.,  1.,  0., -1.]])\n"
     ]
    }
   ],
   "source": [
    "## Replace with your own input, dimensionless output, dimension matrix and variable name\n",
    "Y                = u_array/parameters_array[:,0].reshape(-1,1)  #Output \\Pi_o\n",
    "X                = parameters_array                             #Dimensional input list q                         \n",
    "D_in             = np.matrix('1 1 0 2;-1 0 1 -1')               #Define D_in matrix, first row \"L\",second row \"T\"\n",
    "num_input        = 1\n",
    "\n",
    "print(\"Rank of D_in:\", matrix_rank(D_in))\n",
    "print(\"D_in matrix:\\n\", D_in)\n",
    "num_basis    = D_in.shape[1] - matrix_rank(D_in)\n",
    "basis_matrices = IT_PI.calc_basis(D_in, num_basis)\n",
    "print(\"Basis vectors:\")\n",
    "pprint(basis_matrices)"
   ]
  },
  {
   "cell_type": "code",
   "execution_count": 5,
   "id": "0a3c28f6",
   "metadata": {},
   "outputs": [
    {
     "name": "stdout",
     "output_type": "stream",
     "text": [
      "------------------------------------------------------------\n",
      "num of parameters: 2\n",
      "\n",
      "Using estimator: 'binning' with hyperparameters: {'num_bins': 50}\n",
      "\n",
      "(150_w,300)-aCMA-ES (mu_w=78.0,w_1=3%) in dimension 2 (seed=42, Sun Sep  7 10:04:23 2025)\n",
      "Iterat #Fevals   function value  axis ratio  sigma  min&max std  t[m:s]\n",
      "    1    300 -1.318004198098440e+00 1.0e+00 6.30e-01  3e-01  5e-01 0:03.8\n",
      "    2    600 -1.286403471529037e+00 1.7e+00 5.77e-01  1e-01  2e-01 0:08.9\n",
      "    3    900 -1.371033419833683e+00 2.0e+00 7.66e-01  7e-02  2e-01 0:15.1\n",
      "    4   1200 -1.377972055629211e+00 2.7e+00 8.70e-01  5e-02  8e-02 0:21.3\n",
      "    5   1500 -1.383758224398628e+00 2.6e+00 1.18e+00  6e-02  7e-02 0:27.8\n",
      "    6   1800 -1.390037015630811e+00 5.2e+00 1.37e+00  4e-02  4e-02 0:34.9\n",
      "    7   2100 -1.389463949161723e+00 6.3e+00 1.41e+00  2e-02  2e-02 0:41.3\n",
      "    9   2700 -1.398031798707998e+00 1.1e+01 1.73e+00  2e-02  2e-02 0:54.7\n",
      "   11   3300 -1.404754049546984e+00 1.2e+01 1.96e+00  1e-02  1e-02 1:08.0\n",
      "   13   3900 -1.399177924240167e+00 1.1e+01 1.90e+00  8e-03  9e-03 1:21.3\n",
      "   15   4500 -1.405015617329797e+00 1.2e+01 1.88e+00  7e-03  7e-03 1:34.9\n",
      "   17   5100 -1.404457191255560e+00 1.4e+01 1.82e+00  5e-03  5e-03 1:49.2\n",
      "   19   5700 -1.402760970598339e+00 1.1e+01 1.84e+00  4e-03  4e-03 2:02.4\n",
      "   21   6300 -1.405123142796106e+00 9.2e+00 1.95e+00  3e-03  3e-03 2:15.6\n",
      "   24   7200 -1.403523144108666e+00 6.5e+00 2.09e+00  3e-03  3e-03 2:35.4\n",
      "   27   8100 -1.404339815565436e+00 7.1e+00 2.09e+00  3e-03  3e-03 2:55.5\n",
      "   30   9000 -1.405158927795369e+00 5.9e+00 2.34e+00  3e-03  3e-03 3:16.0\n",
      "   33   9900 -1.403976969860422e+00 7.1e+00 2.11e+00  2e-03  2e-03 3:36.5\n",
      "   36  10800 -1.405815048393391e+00 5.9e+00 2.23e+00  2e-03  2e-03 3:56.9\n",
      "   39  11700 -1.405087128305304e+00 1.6e+00 2.61e+00  2e-04  5e-04 4:18.4\n",
      "   42  12600 -1.406046003897602e+00 1.8e+01 3.14e+00  3e-05  9e-05 4:39.9\n",
      "   46  13800 -1.406215447323215e+00 1.9e+01 3.90e+00  4e-06  9e-06 5:07.3\n",
      "   50  15000 -1.406220592636921e+00 4.3e+01 5.16e+00  2e-06  4e-06 5:34.5\n",
      "   54  16200 -1.406220592636921e+00 3.8e+01 6.51e+00  4e-07  1e-06 6:01.8\n",
      "   58  17400 -1.406220592636921e+00 3.0e+01 6.44e+00  2e-07  3e-07 6:28.6\n",
      "termination on tolfunhist=1e-12\n",
      "termination on tolflatfitness=1\n",
      "final/bestever f-value = -1.406221e+00 -1.406221e+00 after 17400/14439 evaluations\n",
      "incumbent solution: [0.09545727, 0.09549004]\n",
      "std deviation: [1.50602498e-07, 3.32279151e-07]\n",
      "Optimized_params: [0.09545755 0.09548945]\n",
      "Optimized_MI: -1.4062205926369207\n",
      "------------------------------------------------------------\n",
      "coef_pi: [[ 1.67064870e-04  1.00000000e+00 -4.99916468e-01 -5.00083532e-01]]\n"
     ]
    }
   ],
   "source": [
    "# Run dimensionless learning\n",
    "results = IT_PI.main(\n",
    "    X,\n",
    "    Y,\n",
    "    basis_matrices,\n",
    "    num_input=num_input,\n",
    "    estimator=\"binning\",\n",
    "    estimator_params={\"num_bins\": 50},\n",
    "    seed=42\n",
    ")\n",
    "\n",
    "\n",
    "input_PI = results[\"input_PI\"]\n",
    "epsilon  = results[\"irreducible_error\"]\n",
    "uq       = results[\"uncertainty\"]\n"
   ]
  },
  {
   "cell_type": "code",
   "execution_count": 6,
   "id": "a0d61e1b",
   "metadata": {},
   "outputs": [
    {
     "name": "stdout",
     "output_type": "stream",
     "text": [
      "Optimal_pi_lab[0] = $\\frac{y^{1.0}}{t^{0.5} \\cdot \\nu^{0.5}}$\n"
     ]
    }
   ],
   "source": [
    "coef_pi_list     = results[\"input_coef\"]\n",
    "variables        = ['U','y', 't','\\\\nu'];                       #Define variable name\n",
    "optimal_pi_lab   = IT_PI.create_labels(np.array(coef_pi_list).reshape(-1, len(variables)), variables)\n",
    "for j, label in enumerate(optimal_pi_lab):\n",
    "    print(f'Optimal_pi_lab[{j}] = {label}')\n",
    "# IT_PI.plot_scatter(input_PI,Y)\n",
    "# IT_PI.plot_error_bars(input_PI, epsilon,uq)\n"
   ]
  },
  {
   "cell_type": "code",
   "execution_count": 7,
   "id": "d6e85c4f",
   "metadata": {},
   "outputs": [
    {
     "data": {
      "image/png": "[encoded data removed]",
      "text/plain": [
       "<Figure size 400x400 with 1 Axes>"
      ]
     },
     "metadata": {},
     "output_type": "display_data"
    }
   ],
   "source": [
    "# Plot the comparison\n",
    "U_fixed  = 1.0       \n",
    "nu_fixed = 1e-3     \n",
    "t_values = [ 8, 12, 16, 20]  # Different time values (s)\n",
    "y        = np.linspace(0, 1, 100)\n",
    "u_U_profile = np.array([velocity_profile_rayleigh(y, nu_fixed, U_fixed, t) / U_fixed for t in t_values])\n",
    "y_U_t    = np.array([y / (U_fixed * t) for t in t_values])\n",
    "\n",
    "\n",
    "# Plot the velocity profiles u/U for different t values\n",
    "plt.figure(figsize=(4, 4))\n",
    "plt.rcParams['font.family'] = 'Times New Roman'  # Set the font to Times New Roman\n",
    "plt.rcParams['text.usetex'] = True  # Use LaTeX for all text rendering\n",
    "for i, t in enumerate(t_values):\n",
    "    plt.plot(y/np.sqrt(nu_fixed)/np.sqrt(t), u_U_profile[i], lw=2, label=f't={t:.2f} s')\n",
    "plt.xlim([0,11])\n",
    "plt.gca().spines['top'].set_linewidth(1.5)\n",
    "plt.gca().spines['bottom'].set_linewidth(1.5)\n",
    "plt.gca().spines['left'].set_linewidth(1.5)\n",
    "plt.gca().spines['right'].set_linewidth(1.5)\n",
    "plt.xlabel(r'$\\Pi^*$', fontsize=25, labelpad=10)\n",
    "plt.ylabel(r\" $\\Pi_o^*$\", fontsize=25, labelpad=10)\n",
    "plt.xticks(fontsize=25)\n",
    "plt.yticks(fontsize=25)\n",
    "plt.legend(fontsize=20,frameon=False)\n",
    "plt.grid(False)\n",
    "plt.savefig('Rayleigh_velocity_profile_normalized.eps', dpi=400, bbox_inches='tight',transparent=True)  # You can change the filename and format (e.g., .pdf)\n",
    "plt.show()"
   ]
  },
  {
   "cell_type": "code",
   "execution_count": 8,
   "id": "5b8f96c8",
   "metadata": {},
   "outputs": [
    {
     "data": {
      "image/png": "[encoded data removed]",
      "text/plain": [
       "<Figure size 400x200 with 1 Axes>"
      ]
     },
     "metadata": {},
     "output_type": "display_data"
    }
   ],
   "source": [
    "# Plotting the results\n",
    "plt.figure(figsize=(4, 2))\n",
    "plt.rcParams['font.family'] = 'Times New Roman'  # Set the font to Times New Roman\n",
    "plt.rcParams['text.usetex'] = True  # Use LaTeX for all text rendering\n",
    "plt.gca().spines['top'].set_linewidth(1.5)\n",
    "plt.gca().spines['bottom'].set_linewidth(1.5)\n",
    "plt.gca().spines['left'].set_linewidth(1.5)\n",
    "plt.gca().spines['right'].set_linewidth(1.5)\n",
    "\n",
    "x_labels = r\"$\\Pi^{*}$\"\n",
    "# Use uq_values as the error bars\n",
    "plt.bar(x_labels, epsilon, yerr=uq, capsize=5, edgecolor='black',color='red')\n",
    "plt.xticks(fontsize=25)\n",
    "plt.yticks(fontsize=20)\n",
    "plt.ylabel(r'$\\tilde{\\epsilon}_{L B}$', fontsize=25, labelpad=15)\n",
    "plt.ylim([0, 1])\n",
    "plt.savefig('Rayleigh_rank.eps', dpi=300, bbox_inches='tight',transparent=True)\n",
    "plt.show()"
   ]
  },
  {
   "cell_type": "code",
   "execution_count": 9,
   "id": "2dd6419e",
   "metadata": {},
   "outputs": [
    {
     "name": "stdout",
     "output_type": "stream",
     "text": [
      "Skipping np - cannot pickle\n",
      "Skipping plt - cannot pickle\n",
      "Skipping sys - cannot pickle\n",
      "Skipping os - cannot pickle\n",
      "Skipping IT_PI - cannot pickle\n",
      "Skipping pickle - cannot pickle\n"
     ]
    }
   ],
   "source": [
    "import pickle\n",
    "\n",
    "workspace = {}\n",
    "globals_copy = dict(globals())\n",
    "\n",
    "for key, value in globals_copy.items():\n",
    "    if not key.startswith('_') and not callable(value) and not hasattr(value, '__module__'):\n",
    "        try:\n",
    "            pickle.dumps(value)  # Test if it can be pickled\n",
    "            workspace[key] = value\n",
    "        except (TypeError, AttributeError):\n",
    "            print(f\"Skipping {key} - cannot pickle\")\n",
    "\n",
    "with open('output.pkl', 'wb') as f:\n",
    "    pickle.dump(workspace, f)"
   ]
  }
 ],
 "metadata": {
  "kernelspec": {
   "display_name": "IT_PI",
   "language": "python",
   "name": "python3"
  },
  "language_info": {
   "codemirror_mode": {
    "name": "ipython",
    "version": 3
   },
   "file_extension": ".py",
   "mimetype": "text/x-python",
   "name": "python",
   "nbconvert_exporter": "python",
   "pygments_lexer": "ipython3",
   "version": "3.8.20"
  }
 },
 "nbformat": 4,
 "nbformat_minor": 5
}
