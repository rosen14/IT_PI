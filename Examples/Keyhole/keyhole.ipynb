{
 "cells": [
  {
   "cell_type": "code",
   "execution_count": 1,
   "id": "7e36f747",
   "metadata": {},
   "outputs": [],
   "source": [
    "import numpy as np\n",
    "from scipy.special import erf\n",
    "import matplotlib.pyplot as plt\n",
    "import pandas as pd\n",
    "from numpy.linalg import matrix_rank, inv\n",
    "from pprint import pprint\n",
    "import sys\n",
    "import os\n",
    "current_notebook_dir = os.getcwd()\n",
    "# Replace with the path to your IT_PI.py function\n",
    "project_root_dir = os.path.join(current_notebook_dir, '..', '..')\n",
    "it_pi_module_dir = project_root_dir\n",
    "sys.path.append(it_pi_module_dir)\n",
    "import IT_PI\n",
    "plt.rcParams['font.family'] = 'Times New Roman'  # Set the font to Times New Roman\n",
    "plt.rcParams['text.usetex'] = True  # Use LaTeX for all text rendering/', VIEW.as_view(), name=''),"
   ]
  },
  {
   "cell_type": "code",
   "execution_count": 2,
   "id": "eda19904",
   "metadata": {},
   "outputs": [],
   "source": [
    "df = pd.read_csv('dataset_keyhole.csv')\n",
    "df.describe()\n",
    "output_list = ['e*']\n",
    "input_list = ['etaP', 'Vs', 'rho', 'cp', 'Tl-T0', 'r0', 'alpha']\n",
    "X = np.array(df[input_list])\n",
    "Y = np.array(df[output_list])\n",
    "num_input = 1\n",
    "variables = input_list"
   ]
  },
  {
   "cell_type": "code",
   "execution_count": 3,
   "id": "475c1416",
   "metadata": {},
   "outputs": [
    {
     "name": "stdout",
     "output_type": "stream",
     "text": [
      "Rank of D_in: 4\n",
      "D_in matrix:\n",
      " [[ 2  1 -3  2  0  1  2]\n",
      " [-3 -1  0 -2  0  0 -1]\n",
      " [ 1  0  1  0  0  0  0]\n",
      " [ 0  0  0 -1  1  0  0]]\n",
      "Basis vectors:\n",
      "matrix([[-1.48029737e-16,  2.00000000e+00,  1.85037171e-17,\n",
      "         -1.00000000e+00, -1.00000000e+00,  0.00000000e+00,\n",
      "          0.00000000e+00],\n",
      "        [ 5.00000000e-01, -1.50000000e+00, -5.00000000e-01,\n",
      "          0.00000000e+00,  0.00000000e+00, -1.00000000e+00,\n",
      "          0.00000000e+00],\n",
      "        [ 5.00000000e-01, -5.00000000e-01, -5.00000000e-01,\n",
      "          0.00000000e+00,  0.00000000e+00,  0.00000000e+00,\n",
      "         -1.00000000e+00]])\n"
     ]
    }
   ],
   "source": [
    "D_in = np.matrix('2  1 1  2 -3  2  0; \\\n",
    "                 -3 -1 0 -1  0 -2  0; \\\n",
    "                  1  0 0  0  1  0  0; \\\n",
    "                  0  0 0  0  0 -1  1')\n",
    "# Rearrange D_in columns accordingly: move 3rd and 4th columns (index 2 and 3) to the end\n",
    "cols = list(range(D_in.shape[1]))\n",
    "new_order = cols[:2] + cols[4:7] + [2, 3] + cols[7:]  # assumes 9 columns total\n",
    "D_in = D_in[:, new_order]\n",
    "print(\"Rank of D_in:\", matrix_rank(D_in))\n",
    "print(\"D_in matrix:\\n\", D_in)\n",
    "num_rows          = np.shape(D_in)[0]\n",
    "num_cols          = np.shape(D_in)[1]\n",
    "# Function to calculate basis matrices\n",
    "\n",
    "# Generate basis matrices\n",
    "num_basis        = D_in.shape[1] -matrix_rank(D_in)\n",
    "basis_matrices   = IT_PI.calc_basis(D_in, num_basis)\n",
    "print(\"Basis vectors:\")\n",
    "pprint(basis_matrices)"
   ]
  },
  {
   "cell_type": "code",
   "execution_count": 4,
   "id": "914ef2fd",
   "metadata": {},
   "outputs": [
    {
     "name": "stdout",
     "output_type": "stream",
     "text": [
      "------------------------------------------------------------\n",
      "num of parameters: 3\n",
      "\n",
      "Using estimator: 'kraskov' with hyperparameters: {'k': 8}\n",
      "\n",
      "(150_w,300)-aCMA-ES (mu_w=78.0,w_1=3%) in dimension 3 (seed=42, Sun Sep  7 00:19:14 2025)\n",
      "Iterat #Fevals   function value  axis ratio  sigma  min&max std  t[m:s]\n",
      "    1    300 -1.096323803390585e+00 1.0e+00 5.43e-01  4e-01  6e-01 0:00.1\n",
      "    2    600 -1.244093751967635e+00 2.6e+00 7.24e-01  5e-01  7e-01 0:00.2\n",
      "    3    900 -1.448114758409531e+00 8.3e+00 8.90e-01  4e-01  8e-01 0:00.3\n",
      "   32   9600 -1.489412197549513e+00 5.8e+01 5.36e+00  5e-04  1e-03 0:03.3\n",
      "   37  11100 -1.489412197549513e+00 6.3e+01 7.75e+00  9e-05  3e-04 0:03.8\n",
      "termination on tolfunhist=1e-12\n",
      "final/bestever f-value = -1.489412e+00 -1.489412e+00 after 11100/8367 evaluations\n",
      "incumbent solution: [0.5913575, 0.84467762, 0.34553508]\n",
      "std deviation: [2.15665518e-04, 3.19203798e-04, 8.71511744e-05]\n",
      "Optimized_params: [0.59103192 0.84421656 0.3454125 ]\n",
      "Optimized_MI: -1.4894121975495134\n",
      "------------------------------------------------------------\n",
      "coef_pi: [[ 0.70457577 -0.30438546 -0.70457577 -0.70009515 -0.70009515 -1.\n",
      "  -0.40915153]]\n"
     ]
    }
   ],
   "source": [
    "# Run dimensionless learning\n",
    "results = IT_PI.main(\n",
    "    X,\n",
    "    Y.reshape(-1, 1),\n",
    "    basis_matrices,\n",
    "    num_input=num_input,\n",
    "    estimator=\"kraskov\",\n",
    "    estimator_params={\"k\": 8},\n",
    "    seed=42\n",
    ")\n",
    "\n",
    "\n",
    "input_PI = results[\"input_PI\"]\n",
    "output_PI = results[\"output_PI\"]\n",
    "\n",
    "epsilon  = results[\"irreducible_error\"]\n",
    "uq       = results[\"uncertainty\"]"
   ]
  },
  {
   "cell_type": "code",
   "execution_count": 5,
   "id": "64cf5f2f",
   "metadata": {},
   "outputs": [
    {
     "data": {
      "image/png": "[encoded data removed]",
      "text/plain": [
       "<Figure size 400x400 with 1 Axes>"
      ]
     },
     "metadata": {},
     "output_type": "display_data"
    },
    {
     "name": "stdout",
     "output_type": "stream",
     "text": [
      "Optimal_pi_lab[0] = $\\frac{etaP^{0.7}}{Vs^{0.3} \\cdot rho^{0.7} \\cdot cp^{0.7} \\cdot Tl-T0^{0.7} \\cdot r0^{1.0} \\cdot alpha^{0.41}}$\n"
     ]
    }
   ],
   "source": [
    "IT_PI.plot_scatter(input_PI,output_PI)\n",
    "coef_pi_list     = results[\"input_coef\"]\n",
    "optimal_pi_lab   = IT_PI.create_labels(np.array(coef_pi_list).reshape(-1, len(variables)), variables)\n",
    "for j, label in enumerate(optimal_pi_lab):\n",
    "    print(f'Optimal_pi_lab[{j}] = {label}')"
   ]
  },
  {
   "cell_type": "code",
   "execution_count": 6,
   "id": "af510ffb",
   "metadata": {},
   "outputs": [
    {
     "name": "stdout",
     "output_type": "stream",
     "text": [
      "Irreducible error (epsilon) = [0.23097639749348636]\n"
     ]
    }
   ],
   "source": [
    "print(f'Irreducible error (epsilon) = {epsilon}')"
   ]
  }
 ],
 "metadata": {
  "kernelspec": {
   "display_name": "IT_PI",
   "language": "python",
   "name": "python3"
  },
  "language_info": {
   "codemirror_mode": {
    "name": "ipython",
    "version": 3
   },
   "file_extension": ".py",
   "mimetype": "text/x-python",
   "name": "python",
   "nbconvert_exporter": "python",
   "pygments_lexer": "ipython3",
   "version": "3.8.20"
  }
 },
 "nbformat": 4,
 "nbformat_minor": 5
}
