{
 "cells": [
  {
   "cell_type": "code",
   "execution_count": 1,
   "id": "7e36f747",
   "metadata": {},
   "outputs": [],
   "source": [
    "import numpy as np\n",
    "from scipy.special import erf\n",
    "import matplotlib.pyplot as plt\n",
    "import pandas as pd\n",
    "from numpy.linalg import matrix_rank, inv\n",
    "from pprint import pprint\n",
    "import sys\n",
    "import os\n",
    "current_notebook_dir = os.getcwd()\n",
    "# Replace with the path to your IT_PI.py function\n",
    "project_root_dir = os.path.join(current_notebook_dir, '..', '..')\n",
    "it_pi_module_dir = project_root_dir\n",
    "sys.path.append(it_pi_module_dir)\n",
    "import IT_PI\n",
    "plt.rcParams['font.family'] = 'Times New Roman'  # Set the font to Times New Roman\n",
    "plt.rcParams['text.usetex'] = True  # Use LaTeX for all text rendering/', VIEW.as_view(), name=''),"
   ]
  },
  {
   "cell_type": "code",
   "execution_count": 2,
   "id": "eda19904",
   "metadata": {},
   "outputs": [],
   "source": [
    "df = pd.read_csv('dataset_keyhole.csv')\n",
    "df.describe()\n",
    "output_list = ['e*']\n",
    "input_list = ['etaP', 'Vs', 'rho', 'cp', 'Tl-T0', 'r0', 'alpha']\n",
    "X = np.array(df[input_list])\n",
    "Y = np.array(df[output_list])\n",
    "num_input = 2\n",
    "variables = input_list"
   ]
  },
  {
   "cell_type": "code",
   "execution_count": 3,
   "id": "475c1416",
   "metadata": {},
   "outputs": [
    {
     "name": "stdout",
     "output_type": "stream",
     "text": [
      "Rank of D_in: 4\n",
      "D_in matrix:\n",
      " [[ 2  1 -3  2  0  1  2]\n",
      " [-3 -1  0 -2  0  0 -1]\n",
      " [ 1  0  1  0  0  0  0]\n",
      " [ 0  0  0 -1  1  0  0]]\n",
      "Basis vectors:\n",
      "matrix([[ 0. ,  2. ,  0. , -1. , -1. ,  0. ,  0. ],\n",
      "        [ 0.5, -1.5, -0.5,  0. ,  0. , -1. ,  0. ],\n",
      "        [ 0.5, -0.5, -0.5,  0. ,  0. ,  0. , -1. ]])\n"
     ]
    }
   ],
   "source": [
    "D_in = np.matrix('2  1 1  2 -3  2  0; \\\n",
    "                 -3 -1 0 -1  0 -2  0; \\\n",
    "                  1  0 0  0  1  0  0; \\\n",
    "                  0  0 0  0  0 -1  1')\n",
    "# Rearrange D_in columns accordingly: move 3rd and 4th columns (index 2 and 3) to the end\n",
    "cols = list(range(D_in.shape[1]))\n",
    "new_order = cols[:2] + cols[4:7] + [2, 3] + cols[7:]  # assumes 9 columns total\n",
    "D_in = D_in[:, new_order]\n",
    "print(\"Rank of D_in:\", matrix_rank(D_in))\n",
    "print(\"D_in matrix:\\n\", D_in)\n",
    "num_rows          = np.shape(D_in)[0]\n",
    "num_cols          = np.shape(D_in)[1]\n",
    "# Function to calculate basis matrices\n",
    "\n",
    "# Generate basis matrices\n",
    "num_basis        = D_in.shape[1] -matrix_rank(D_in)\n",
    "basis_matrices   = IT_PI.calc_basis(D_in, num_basis)\n",
    "print(\"Basis vectors:\")\n",
    "pprint(basis_matrices)"
   ]
  },
  {
   "cell_type": "code",
   "execution_count": 4,
   "id": "914ef2fd",
   "metadata": {},
   "outputs": [
    {
     "name": "stdout",
     "output_type": "stream",
     "text": [
      "------------------------------------------------------------\n",
      "num of parameters: 6\n",
      "\n",
      "Using estimator: 'kraskov' with hyperparameters: {'k': 8}\n",
      "\n",
      "(150_w,300)-aCMA-ES (mu_w=78.0,w_1=3%) in dimension 6 (seed=42, Sun Oct 26 11:59:57 2025)\n",
      "Iterat #Fevals   function value  axis ratio  sigma  min&max std  t[m:s]\n",
      "    1    300 -9.518457696569644e-01 1.0e+00 5.61e-01  5e-01  6e-01 0:00.2\n",
      "    2    600 -1.136552285905237e+00 1.9e+00 5.45e-01  3e-01  6e-01 0:00.4\n",
      "    3    900 -1.388483680409904e+00 3.0e+00 5.64e-01  3e-01  5e-01 0:00.5\n",
      "   19   5700 -1.484319129330799e+00 8.2e+02 1.05e+00  9e-03  6e-01 0:03.6\n",
      "   39  11700 -1.486544136292649e+00 8.7e+03 1.30e+00  3e-03  7e-01 0:07.7\n",
      "NOTE (module=cma, iteration=61):  \n",
      "condition in coordinate system exceeded 1.1e+08, rescaled to 1.0e+00, \n",
      "condition changed from 2.0e+09 to 4.2e+02\n",
      "   64  19200 -1.488189435437948e+00 3.1e+01 9.00e+00  7e-05  1e+00 0:12.6\n",
      "termination on tolfunhist=1e-12\n",
      "final/bestever f-value = -1.488189e+00 -1.488189e+00 after 19200/16357 evaluations\n",
      "incumbent solution: [ 1.05319882, 0.81830876, -0.44965771, 0.56438091, 0.82917548, 0.32078067]\n",
      "std deviation: [9.07117727e-01, 1.33333333e+00, 6.50561126e-01, 1.68045021e-04, 2.15568027e-04, 7.49047553e-05]\n",
      "Optimized_params: [ 1.27548418  0.92531545 -0.61081605  0.56465345  0.82943188  0.32090849]\n",
      "Optimized_MI: -1.4881894354379481\n",
      "------------------------------------------------------------\n",
      "coef_pi: [[ 0.10708891  1.         -0.10708891 -0.86861986 -0.86861986 -0.6301508\n",
      "   0.41597297]]\n",
      "coef_pi: [[ 0.69345078 -0.33190811 -0.69345078 -0.68077134 -0.68077134 -1.\n",
      "  -0.38690156]]\n"
     ]
    }
   ],
   "source": [
    "# Run dimensionless learning\n",
    "results = IT_PI.main(\n",
    "    X,\n",
    "    Y.reshape(-1, 1),\n",
    "    basis_matrices,\n",
    "    num_input=num_input,\n",
    "    estimator=\"kraskov\",\n",
    "    estimator_params={\"k\": 8},\n",
    "    seed=42\n",
    ")\n",
    "\n",
    "\n",
    "input_PI = results[\"input_PI\"]\n",
    "output_PI = results[\"output_PI\"]\n",
    "\n",
    "epsilon  = results[\"irreducible_error\"]\n",
    "uq       = results[\"uncertainty\"]"
   ]
  },
  {
   "cell_type": "code",
   "execution_count": 5,
   "id": "64cf5f2f",
   "metadata": {},
   "outputs": [
    {
     "name": "stdout",
     "output_type": "stream",
     "text": [
      "Optimal_pi_lab[0] = $\\frac{etaP^{0.11} \\cdot Vs^{1.0} \\cdot alpha^{0.42}}{rho^{0.11} \\cdot cp^{0.87} \\cdot Tl-T0^{0.87} \\cdot r0^{0.63}}$\n",
      "Optimal_pi_lab[1] = $\\frac{etaP^{0.69}}{Vs^{0.33} \\cdot rho^{0.69} \\cdot cp^{0.68} \\cdot Tl-T0^{0.68} \\cdot r0^{1.0} \\cdot alpha^{0.39}}$\n"
     ]
    }
   ],
   "source": [
    "#IT_PI.plot_scatter(input_PI,output_PI)\n",
    "coef_pi_list     = results[\"input_coef\"]\n",
    "optimal_pi_lab   = IT_PI.create_labels(np.array(coef_pi_list).reshape(-1, len(variables)), variables)\n",
    "for j, label in enumerate(optimal_pi_lab):\n",
    "    print(f'Optimal_pi_lab[{j}] = {label}')"
   ]
  },
  {
   "cell_type": "code",
   "execution_count": 10,
   "id": "8e498026",
   "metadata": {},
   "outputs": [
    {
     "data": {
      "image/png": "[encoded data removed]",
      "text/plain": [
       "<Figure size 400x400 with 1 Axes>"
      ]
     },
     "metadata": {},
     "output_type": "display_data"
    }
   ],
   "source": [
    "fig = plt.figure(figsize=(4, 4))\n",
    "plt.scatter(input_PI[:,1],output_PI)\n",
    "plt.xlabel(r\" $\\Pi^* $\", fontsize=25, labelpad=8)  \n",
    "plt.ylabel(r\" $\\Pi_{o}^*$\", fontsize=25, labelpad=8)\n",
    "plt.xscale(\"log\")\n",
    "plt.yscale(\"log\")\n",
    "plt.xticks(fontsize=25)\n",
    "plt.yticks(fontsize=25)\n",
    "plt.tight_layout()\n",
    "fig.savefig(\"keyhole.pdf\", format=\"pdf\", bbox_inches=\"tight\",transparent = \"True\")"
   ]
  },
  {
   "cell_type": "code",
   "execution_count": 8,
   "id": "de1683cc-7f8e-467b-902c-dccf93255f1a",
   "metadata": {},
   "outputs": [
    {
     "data": {
      "text/plain": [
       "array([4.83258063e-06, 5.02142726e-06, 5.17282661e-06, 5.39856823e-06,\n",
       "       5.47622021e-06, 7.04304849e-06, 7.58569065e-06, 7.78998821e-06,\n",
       "       7.96486109e-06, 8.25139864e-06, 8.37099506e-06, 8.66045850e-06,\n",
       "       8.81858129e-06, 8.95486425e-06, 8.11656625e-06, 8.75932057e-06,\n",
       "       9.21325234e-06, 9.55881121e-06, 9.82763739e-06, 1.00618412e-05,\n",
       "       1.02538519e-05, 1.04151142e-05, 1.05569068e-05, 1.10943783e-05,\n",
       "       1.16726296e-05, 1.21339898e-05, 1.24969429e-05, 1.28159855e-05,\n",
       "       1.30723520e-05, 1.33009436e-05, 1.35015354e-05, 1.28584968e-05,\n",
       "       1.38062146e-05, 1.41506914e-05, 1.44533277e-05, 1.47222809e-05,\n",
       "       1.49517619e-05, 1.40641573e-05, 1.51023404e-05, 1.58459611e-05,\n",
       "       1.63903560e-05, 1.44275155e-05, 1.52419350e-05, 1.58633593e-05,\n",
       "       1.63997280e-05, 1.68254880e-05, 1.75290142e-05, 1.78102848e-05,\n",
       "       3.72731447e-06, 3.85248343e-06, 3.91736394e-06, 3.96538026e-06,\n",
       "       4.02128237e-06, 4.06807388e-06, 4.15320541e-06, 4.22488683e-06,\n",
       "       6.53678968e-06, 6.82383385e-06, 6.97274496e-06, 7.11475049e-06,\n",
       "       7.24365501e-06, 7.36141951e-06, 7.56979459e-06, 7.75414572e-06,\n",
       "       8.04632703e-06, 9.64086348e-06, 9.76737941e-06, 9.87592090e-06,\n",
       "       1.00573940e-05, 1.02389495e-05, 1.05369364e-05, 1.23957715e-05,\n",
       "       1.29268706e-05, 1.79578794e-05, 1.87683342e-05, 2.33151940e-05,\n",
       "       2.43957099e-05, 2.85243161e-05, 2.98681174e-05, 3.36185238e-05,\n",
       "       3.52198794e-05, 1.49032559e-05, 4.56430546e-05, 5.64038835e-06,\n",
       "       6.06354825e-06, 6.35876451e-06, 6.58145628e-06, 2.94599223e-06,\n",
       "       3.13087451e-06, 3.25466388e-06])"
      ]
     },
     "execution_count": 8,
     "metadata": {},
     "output_type": "execute_result"
    }
   ],
   "source": [
    "input_PI[:,0]"
   ]
  },
  {
   "cell_type": "code",
   "execution_count": 7,
   "id": "af510ffb",
   "metadata": {},
   "outputs": [
    {
     "name": "stdout",
     "output_type": "stream",
     "text": [
      "Irreducible error (epsilon) = [0.23097639749348636]\n",
      "Skipping np - cannot pickle\n",
      "Skipping plt - cannot pickle\n",
      "Skipping pd - cannot pickle\n",
      "Skipping sys - cannot pickle\n",
      "Skipping os - cannot pickle\n",
      "Skipping IT_PI - cannot pickle\n",
      "Skipping pickle - cannot pickle\n"
     ]
    }
   ],
   "source": [
    "print(f'Irreducible error (epsilon) = {epsilon}')\n",
    "import pickle\n",
    "\n",
    "workspace = {}\n",
    "globals_copy = dict(globals())\n",
    "\n",
    "for key, value in globals_copy.items():\n",
    "    if not key.startswith('_') and not callable(value) and not hasattr(value, '__module__'):\n",
    "        try:\n",
    "            pickle.dumps(value)  # Test if it can be pickled\n",
    "            workspace[key] = value\n",
    "        except (TypeError, AttributeError):\n",
    "            print(f\"Skipping {key} - cannot pickle\")\n",
    "\n",
    "with open('output.pkl', 'wb') as f:\n",
    "    pickle.dump(workspace, f)"
   ]
  }
 ],
 "metadata": {
  "kernelspec": {
   "display_name": "Python 3 (ipykernel)",
   "language": "python",
   "name": "python3"
  },
  "language_info": {
   "codemirror_mode": {
    "name": "ipython",
    "version": 3
   },
   "file_extension": ".py",
   "mimetype": "text/x-python",
   "name": "python",
   "nbconvert_exporter": "python",
   "pygments_lexer": "ipython3",
   "version": "3.14.0"
  }
 },
 "nbformat": 4,
 "nbformat_minor": 5
}
