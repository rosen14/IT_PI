{
 "cells": [
  {
   "cell_type": "code",
   "execution_count": 2,
   "id": "7e36f747",
   "metadata": {},
   "outputs": [],
   "source": [
    "import numpy as np\n",
    "from scipy.special import erf\n",
    "import matplotlib.pyplot as plt\n",
    "import pandas as pd\n",
    "from numpy.linalg import matrix_rank, inv\n",
    "from pprint import pprint\n",
    "import sys\n",
    "import os\n",
    "current_notebook_dir = os.getcwd()\n",
    "# Replace with the path to your IT_PI.py function\n",
    "project_root_dir = os.path.join(current_notebook_dir, '..', '..')\n",
    "it_pi_module_dir = project_root_dir\n",
    "sys.path.append(it_pi_module_dir)\n",
    "import IT_PI\n",
    "plt.rcParams['font.family'] = 'Times New Roman'  # Set the font to Times New Roman\n",
    "plt.rcParams['text.usetex'] = True  # Use LaTeX for all text rendering/', VIEW.as_view(), name=''),"
   ]
  },
  {
   "cell_type": "code",
   "execution_count": 13,
   "id": "eda19904",
   "metadata": {},
   "outputs": [],
   "source": [
    "df = pd.read_csv('dataset_keyhole.csv')\n",
    "df.describe()\n",
    "output_list = ['e*']\n",
    "input_list = ['etaP', 'Vs', 'rho', 'cp', 'Tl-T0', 'r0', 'alpha']\n",
    "X = np.array(df[input_list])\n",
    "Y = np.array(df[output_list])\n",
    "num_input = 1\n",
    "variables = input_list"
   ]
  },
  {
   "cell_type": "code",
   "execution_count": 16,
   "id": "475c1416",
   "metadata": {},
   "outputs": [
    {
     "name": "stdout",
     "output_type": "stream",
     "text": [
      "Rank of D_in: 4\n",
      "D_in matrix:\n",
      " [[ 2  1 -3  2  0  1  2]\n",
      " [-3 -1  0 -2  0  0 -1]\n",
      " [ 1  0  1  0  0  0  0]\n",
      " [ 0  0  0 -1  1  0  0]]\n",
      "Basis vectors:\n",
      "matrix([[ 0. ,  2. ,  0. , -1. , -1. ,  0. ,  0. ],\n",
      "        [ 0.5, -1.5, -0.5,  0. ,  0. , -1. ,  0. ],\n",
      "        [ 0.5, -0.5, -0.5,  0. ,  0. ,  0. , -1. ]])\n"
     ]
    }
   ],
   "source": [
    "D_in = np.matrix('2  1 1  2 -3  2  0; \\\n",
    "                 -3 -1 0 -1  0 -2  0; \\\n",
    "                  1  0 0  0  1  0  0; \\\n",
    "                  0  0 0  0  0 -1  1')\n",
    "# Rearrange D_in columns accordingly: move 3rd and 4th columns (index 2 and 3) to the end\n",
    "cols = list(range(D_in.shape[1]))\n",
    "new_order = cols[:2] + cols[4:7] + [2, 3] + cols[7:]  # assumes 9 columns total\n",
    "D_in = D_in[:, new_order]\n",
    "print(\"Rank of D_in:\", matrix_rank(D_in))\n",
    "print(\"D_in matrix:\\n\", D_in)\n",
    "num_rows          = np.shape(D_in)[0]\n",
    "num_cols          = np.shape(D_in)[1]\n",
    "# Function to calculate basis matrices\n",
    "\n",
    "# Generate basis matrices\n",
    "num_basis        = D_in.shape[1] -matrix_rank(D_in)\n",
    "basis_matrices   = IT_PI.calc_basis(D_in, num_basis)\n",
    "print(\"Basis vectors:\")\n",
    "pprint(basis_matrices)"
   ]
  },
  {
   "cell_type": "code",
   "execution_count": 19,
   "id": "130c63bf-4003-4de3-81f8-cc9354487eb1",
   "metadata": {},
   "outputs": [
    {
     "data": {
      "text/plain": [
       "(90, 7)"
      ]
     },
     "execution_count": 19,
     "metadata": {},
     "output_type": "execute_result"
    }
   ],
   "source": [
    "X.shape"
   ]
  },
  {
   "cell_type": "code",
   "execution_count": 5,
   "id": "914ef2fd",
   "metadata": {},
   "outputs": [
    {
     "name": "stdout",
     "output_type": "stream",
     "text": [
      "------------------------------------------------------------\n",
      "num of parameters: 3\n",
      "\n",
      "Using estimator: 'kraskov' with hyperparameters: {'k': 8}\n",
      "\n",
      "(150_w,300)-aCMA-ES (mu_w=78.0,w_1=3%) in dimension 3 (seed=42, Sun Oct 26 11:48:16 2025)\n",
      "Iterat #Fevals   function value  axis ratio  sigma  min&max std  t[m:s]\n",
      "    1    300 -1.096323803390585e+00 1.0e+00 5.48e-01  4e-01  6e-01 0:00.1\n",
      "    2    600 -1.264944101094267e+00 2.7e+00 7.06e-01  5e-01  7e-01 0:00.3\n",
      "    3    900 -1.394925681804867e+00 7.7e+00 9.08e-01  4e-01  8e-01 0:00.5\n",
      "   22   6600 -1.486603154740470e+00 4.5e+01 2.15e+00  7e-03  1e-02 0:03.5\n",
      "   41  12300 -1.489412197549513e+00 4.7e+01 6.76e+00  1e-04  3e-04 0:06.5\n",
      "termination on tolfunhist=1e-12\n",
      "final/bestever f-value = -1.489412e+00 -1.489412e+00 after 12300/9423 evaluations\n",
      "incumbent solution: [0.59140831, 0.84475412, 0.34555206]\n",
      "std deviation: [0.00025729, 0.00034441, 0.00012807]\n",
      "Optimized_params: [0.5910094  0.84409919 0.34549119]\n",
      "Optimized_MI: -1.4894121975495134\n",
      "------------------------------------------------------------\n",
      "coef_pi: [[ 0.70465082 -0.3043192  -0.70465082 -0.70016581 -0.70016581 -1.\n",
      "  -0.40930165]]\n"
     ]
    }
   ],
   "source": [
    "# Run dimensionless learning\n",
    "results = IT_PI.main(\n",
    "    X,\n",
    "    Y.reshape(-1, 1),\n",
    "    basis_matrices,\n",
    "    num_input=num_input,\n",
    "    estimator=\"kraskov\",\n",
    "    estimator_params={\"k\": 8},\n",
    "    seed=42\n",
    ")\n",
    "\n",
    "\n",
    "input_PI = results[\"input_PI\"]\n",
    "output_PI = results[\"output_PI\"]\n",
    "\n",
    "epsilon  = results[\"irreducible_error\"]\n",
    "uq       = results[\"uncertainty\"]"
   ]
  },
  {
   "cell_type": "code",
   "execution_count": 8,
   "id": "64cf5f2f",
   "metadata": {},
   "outputs": [
    {
     "name": "stdout",
     "output_type": "stream",
     "text": [
      "Optimal_pi_lab[0] = $\\frac{etaP^{0.7}}{Vs^{0.3} \\cdot rho^{0.7} \\cdot cp^{0.7} \\cdot Tl-T0^{0.7} \\cdot r0^{1.0} \\cdot alpha^{0.41}}$\n"
     ]
    }
   ],
   "source": [
    "#IT_PI.plot_scatter(input_PI,output_PI)\n",
    "coef_pi_list     = results[\"input_coef\"]\n",
    "optimal_pi_lab   = IT_PI.create_labels(np.array(coef_pi_list).reshape(-1, len(variables)), variables)\n",
    "for j, label in enumerate(optimal_pi_lab):\n",
    "    print(f'Optimal_pi_lab[{j}] = {label}')"
   ]
  },
  {
   "cell_type": "code",
   "execution_count": 7,
   "id": "8e498026",
   "metadata": {},
   "outputs": [
    {
     "data": {
      "image/png": "[encoded data removed]",
      "text/plain": [
       "<Figure size 400x400 with 1 Axes>"
      ]
     },
     "metadata": {},
     "output_type": "display_data"
    }
   ],
   "source": [
    "fig = plt.figure(figsize=(4, 4))\n",
    "plt.scatter(input_PI,output_PI)\n",
    "plt.xlabel(r\" $\\Pi^* $\", fontsize=25, labelpad=8)  \n",
    "plt.ylabel(r\" $\\Pi_{o}^*$\", fontsize=25, labelpad=8)\n",
    "plt.xscale(\"log\")\n",
    "plt.yscale(\"log\")\n",
    "plt.xticks(fontsize=25)\n",
    "plt.yticks(fontsize=25)\n",
    "plt.tight_layout()\n",
    "fig.savefig(\"keyhole.pdf\", format=\"pdf\", bbox_inches=\"tight\",transparent = \"True\")"
   ]
  },
  {
   "cell_type": "code",
   "execution_count": 11,
   "id": "de1683cc-7f8e-467b-902c-dccf93255f1a",
   "metadata": {},
   "outputs": [
    {
     "data": {
      "text/plain": [
       "array([[ 6.94460571],\n",
       "       [ 8.86318552],\n",
       "       [10.70743609],\n",
       "       [14.05190573],\n",
       "       [15.38878991],\n",
       "       [ 5.11932969],\n",
       "       [ 8.20996704],\n",
       "       [ 9.7227344 ],\n",
       "       [11.19806077],\n",
       "       [14.02234299],\n",
       "       [15.36704055],\n",
       "       [19.07838846],\n",
       "       [21.40652176],\n",
       "       [23.60096347],\n",
       "       [ 4.52041425],\n",
       "       [ 7.34179746],\n",
       "       [10.12597326],\n",
       "       [12.79962265],\n",
       "       [15.27033943],\n",
       "       [17.73936549],\n",
       "       [20.00695023],\n",
       "       [22.09567231],\n",
       "       [24.08122817],\n",
       "       [ 6.18898686],\n",
       "       [ 8.55141308],\n",
       "       [10.94382635],\n",
       "       [13.20154461],\n",
       "       [15.49869954],\n",
       "       [17.58059306],\n",
       "       [19.63105051],\n",
       "       [21.59293521],\n",
       "       [ 7.84397368],\n",
       "       [12.33313084],\n",
       "       [14.42725098],\n",
       "       [16.50694159],\n",
       "       [18.56187488],\n",
       "       [20.48180031],\n",
       "       [ 7.35199862],\n",
       "       [11.56740966],\n",
       "       [15.70625956],\n",
       "       [19.4726944 ],\n",
       "       [ 4.8427438 ],\n",
       "       [ 6.86839118],\n",
       "       [ 8.85719684],\n",
       "       [10.94451824],\n",
       "       [12.88339838],\n",
       "       [16.72008208],\n",
       "       [18.5025925 ],\n",
       "       [ 4.27249303],\n",
       "       [ 5.27188707],\n",
       "       [ 5.86303457],\n",
       "       [ 6.33566116],\n",
       "       [ 6.92597833],\n",
       "       [ 7.45510392],\n",
       "       [ 8.50534505],\n",
       "       [ 9.48384353],\n",
       "       [ 3.66176824],\n",
       "       [ 4.81350392],\n",
       "       [ 5.52233263],\n",
       "       [ 6.27829747],\n",
       "       [ 7.03827219],\n",
       "       [ 7.79894321],\n",
       "       [ 9.31491962],\n",
       "       [10.8562101 ],\n",
       "       [13.73731714],\n",
       "       [ 4.03044688],\n",
       "       [ 4.37910045],\n",
       "       [ 4.69815632],\n",
       "       [ 5.27533725],\n",
       "       [ 5.9114671 ],\n",
       "       [ 7.09544335],\n",
       "       [22.99534504],\n",
       "       [30.03200695],\n",
       "       [16.31771973],\n",
       "       [21.60999624],\n",
       "       [12.6371051 ],\n",
       "       [16.85964735],\n",
       "       [10.30807679],\n",
       "       [13.81666837],\n",
       "       [ 8.70308724],\n",
       "       [11.70246871],\n",
       "       [26.5870479 ],\n",
       "       [ 8.95762494],\n",
       "       [ 7.75065916],\n",
       "       [12.28203377],\n",
       "       [16.6208532 ],\n",
       "       [20.69116585],\n",
       "       [12.59664815],\n",
       "       [18.55546198],\n",
       "       [23.74862554]])"
      ]
     },
     "execution_count": 11,
     "metadata": {},
     "output_type": "execute_result"
    }
   ],
   "source": [
    "input_PI"
   ]
  },
  {
   "cell_type": "code",
   "execution_count": 7,
   "id": "af510ffb",
   "metadata": {},
   "outputs": [
    {
     "name": "stdout",
     "output_type": "stream",
     "text": [
      "Irreducible error (epsilon) = [0.23097639749348636]\n",
      "Skipping np - cannot pickle\n",
      "Skipping plt - cannot pickle\n",
      "Skipping pd - cannot pickle\n",
      "Skipping sys - cannot pickle\n",
      "Skipping os - cannot pickle\n",
      "Skipping IT_PI - cannot pickle\n",
      "Skipping pickle - cannot pickle\n"
     ]
    }
   ],
   "source": [
    "print(f'Irreducible error (epsilon) = {epsilon}')\n",
    "import pickle\n",
    "\n",
    "workspace = {}\n",
    "globals_copy = dict(globals())\n",
    "\n",
    "for key, value in globals_copy.items():\n",
    "    if not key.startswith('_') and not callable(value) and not hasattr(value, '__module__'):\n",
    "        try:\n",
    "            pickle.dumps(value)  # Test if it can be pickled\n",
    "            workspace[key] = value\n",
    "        except (TypeError, AttributeError):\n",
    "            print(f\"Skipping {key} - cannot pickle\")\n",
    "\n",
    "with open('output.pkl', 'wb') as f:\n",
    "    pickle.dump(workspace, f)"
   ]
  }
 ],
 "metadata": {
  "kernelspec": {
   "display_name": "Python 3 (ipykernel)",
   "language": "python",
   "name": "python3"
  },
  "language_info": {
   "codemirror_mode": {
    "name": "ipython",
    "version": 3
   },
   "file_extension": ".py",
   "mimetype": "text/x-python",
   "name": "python",
   "nbconvert_exporter": "python",
   "pygments_lexer": "ipython3",
   "version": "3.14.0"
  }
 },
 "nbformat": 4,
 "nbformat_minor": 5
}
