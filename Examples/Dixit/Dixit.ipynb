{
 "cells": [
  {
   "cell_type": "code",
   "execution_count": 1,
   "id": "8ab014fe",
   "metadata": {},
   "outputs": [],
   "source": [
    "import numpy as np\n",
    "from numpy.linalg import matrix_rank, inv\n",
    "from numpy.linalg import matrix_rank, inv\n",
    "from pprint import pprint\n",
    "import matplotlib.pyplot as plt\n",
    "\n",
    "import sys\n",
    "import os\n",
    "current_notebook_dir = os.getcwd()\n",
    "# Replace with the path to your IT_PI.py function\n",
    "project_root_dir = os.path.join(current_notebook_dir, '..', '..')\n",
    "it_pi_module_dir = project_root_dir\n",
    "sys.path.append(it_pi_module_dir)\n",
    "import IT_PI\n",
    "\n",
    "plt.rcParams['font.family'] = 'Times New Roman'  # Set the font to Times New Roman\n",
    "plt.rcParams['text.usetex'] = True  # Use LaTeX for all text rendering/', VIEW.as_view(), name=''),"
   ]
  },
  {
   "cell_type": "code",
   "execution_count": 2,
   "id": "2284c572",
   "metadata": {},
   "outputs": [],
   "source": [
    "# load the Dixit_data.npz file\n",
    "def load_data(filename):\n",
    "    data = np.load(filename)\n",
    "    return data['X'], data['Y'], data['zpg_indices'], data['apg_indices'],data['fpg_indices']\n",
    "\n",
    "# how to assign the loaded data to variables\n",
    "X, Y, zpg_indices, apg_indices, fpg_indices = load_data('Dixit_data.npz')"
   ]
  },
  {
   "cell_type": "code",
   "execution_count": 3,
   "id": "20168611",
   "metadata": {},
   "outputs": [
    {
     "name": "stdout",
     "output_type": "stream",
     "text": [
      "Rank of D_in: 2\n",
      "D_in matrix:\n",
      " [[ 1  2  3  1  1  1]\n",
      " [-1 -1 -2  0  0  0]]\n",
      "Basis vectors:\n",
      "matrix([[ 1.,  1., -1.,  0.,  0.,  0.],\n",
      "        [-1.,  1.,  0., -1.,  0.,  0.],\n",
      "        [-1.,  1.,  0.,  0., -1.,  0.],\n",
      "        [-1.,  1.,  0.,  0.,  0., -1.]])\n"
     ]
    }
   ],
   "source": [
    "num_input = 1\n",
    "variables = ['U_{\\infty}','\\\\nu','M','\\\\delta','\\\\delta^*','\\\\theta'];\n",
    "\n",
    "D_in = np.matrix('1 2 3 1 1 1 ; -1 -1 -2 0 0 0')\n",
    "\n",
    "print(\"Rank of D_in:\", matrix_rank(D_in))\n",
    "print(\"D_in matrix:\\n\", D_in)\n",
    "num_rows   = np.shape(D_in)[0]\n",
    "num_cols   = np.shape(D_in)[1]\n",
    "num_basis      = D_in.shape[1] -matrix_rank(D_in)\n",
    "basis_matrices = IT_PI.calc_basis(D_in, num_basis)\n",
    "print(\"Basis vectors:\")\n",
    "pprint(basis_matrices)"
   ]
  },
  {
   "cell_type": "code",
   "execution_count": 4,
   "id": "31094051",
   "metadata": {},
   "outputs": [
    {
     "name": "stdout",
     "output_type": "stream",
     "text": [
      "------------------------------------------------------------\n",
      "num of parameters: 4\n",
      "\n",
      "Using estimator: 'kraskov' with hyperparameters: {'k': 10}\n",
      "\n",
      "(150_w,300)-aCMA-ES (mu_w=78.0,w_1=3%) in dimension 4 (seed=666, Sun Sep  7 00:28:56 2025)\n",
      "Iterat #Fevals   function value  axis ratio  sigma  min&max std  t[m:s]\n",
      "    1    300 -1.280763825927101e+00 1.0e+00 5.14e-01  4e-01  5e-01 0:00.1\n",
      "    2    600 -1.456315799419306e+00 3.6e+00 7.06e-01  5e-01  7e-01 0:00.3\n",
      "    3    900 -1.584873413550447e+00 1.2e+01 1.10e+00  9e-01  1e+00 0:00.4\n",
      "   25   7500 -1.788952794028317e+00 8.2e+01 6.23e+00  5e-03  3e-02 0:03.5\n",
      "   44  13200 -1.789202421683981e+00 2.4e+02 1.56e+01  5e-04  2e-03 0:06.2\n",
      "termination on tolflatfitness=1\n",
      "final/bestever f-value = -1.789202e+00 -1.789261e+00 after 13200/5537 evaluations\n",
      "incumbent solution: [-1.00449979, 1.29687451, 1.99420517, -1.99361634]\n",
      "std deviation: [0.00047651, 0.00052224, 0.00189009, 0.00162323]\n",
      "Optimized_params: [-1.0018118   1.29029651  1.98434245 -1.98205245]\n",
      "Optimized_MI: -1.7892611244126697\n",
      "------------------------------------------------------------\n",
      "coef_pi: [[-1.          0.12673245  0.43663378 -0.56236814 -0.86486398  0.86386589]]\n"
     ]
    }
   ],
   "source": [
    "# Run dimensionless learning\n",
    "results = IT_PI.main(\n",
    "    X,\n",
    "    Y.reshape(-1, 1),\n",
    "    basis_matrices,\n",
    "    num_input=num_input,\n",
    "    estimator=\"kraskov\",\n",
    "    estimator_params={\"k\": 10},\n",
    "    seed=666\n",
    ")\n"
   ]
  },
  {
   "cell_type": "code",
   "execution_count": 5,
   "id": "3d9b799d",
   "metadata": {},
   "outputs": [
    {
     "name": "stdout",
     "output_type": "stream",
     "text": [
      "epsilon =  [0.21548296184368393]\n",
      "Optimal_pi_lab[0] = $\\frac{U_{\\infty}^{1.0} \\cdot \\delta^{0.56} \\cdot \\delta^*^{0.86}}{\\nu^{0.13} \\cdot M^{0.44} \\cdot \\theta^{0.86}}$\n"
     ]
    }
   ],
   "source": [
    "input_PI = 1/results[\"input_PI\"]\n",
    "output_PI = results[\"output_PI\"]\n",
    "epsilon  = results[\"irreducible_error\"]\n",
    "uq       = results[\"uncertainty\"]\n",
    "coef_pi_list = results[\"input_coef\"]\n",
    "print('epsilon = ', epsilon)\n",
    "output_PI = results[\"output_PI\"]\n",
    "epsilon,uq = IT_PI.calculate_bound_and_uq(input_PI,output_PI,num_trials= 10)\n",
    "# I am doning 1/ input_PI, so you should coef_pi_list to minus the sign\n",
    "coef_pi_list = [-coef for coef in coef_pi_list]\n",
    "optimal_pi_lab   = IT_PI.create_labels(np.array(coef_pi_list).reshape(-1, len(variables)), variables)\n",
    "for j, label in enumerate(optimal_pi_lab):\n",
    "    print(f'Optimal_pi_lab[{j}] = {label}')\n"
   ]
  },
  {
   "cell_type": "code",
   "execution_count": 6,
   "id": "8230bc4a",
   "metadata": {},
   "outputs": [
    {
     "data": {
      "image/png": "[encoded data removed]",
      "text/plain": [
       "<Figure size 500x500 with 1 Axes>"
      ]
     },
     "metadata": {},
     "output_type": "display_data"
    }
   ],
   "source": [
    "# input_frac = (U_inf*nu/M)**(4/9) * (U_inf*delta/nu)**(4/7)*(delta_star/theta)**(9/10)\n",
    "# Plot with distinct colors for ZPG, FPG, and APG\n",
    "plt.figure(figsize=(5, 5))\n",
    "plt.rcParams['font.family'] = 'Times New Roman'\n",
    "# Plot ZPG cases in blue\n",
    "plt.scatter(input_PI[zpg_indices], Y[zpg_indices], alpha=0.7, edgecolors='k', color='blue', label=\"ZPG\")\n",
    "# Plot APG cases in red\n",
    "plt.scatter(input_PI[apg_indices], Y[apg_indices], alpha=0.7, edgecolors='k', color='red', label=\"APG\")\n",
    "# Plot FPG cases in green\n",
    "plt.scatter(input_PI[fpg_indices], Y[fpg_indices], alpha=0.7, edgecolors='k', color='green', label=\"FPG\")\n",
    "# Customization of the plot\n",
    "plt.xticks(fontsize=20)\n",
    "plt.yticks(fontsize=20)\n",
    "plt.grid(False)\n",
    "plt.xlabel(r'$\\Pi^*$', fontsize=20, labelpad=8)\n",
    "plt.ylabel(r'$\\Pi_o^*$', fontsize=20, labelpad=8)\n",
    "plt.legend(fontsize=15, loc='best',frameon=False)\n",
    "plt.xscale('log')\n",
    "plt.yscale('log')\n",
    "\n",
    "# Save the plot\n",
    "#plt.savefig('Dixit_frac.eps', dpi=300, bbox_inches='tight')"
   ]
  }
 ],
 "metadata": {
  "kernelspec": {
   "display_name": "IT_PI",
   "language": "python",
   "name": "python3"
  },
  "language_info": {
   "codemirror_mode": {
    "name": "ipython",
    "version": 3
   },
   "file_extension": ".py",
   "mimetype": "text/x-python",
   "name": "python",
   "nbconvert_exporter": "python",
   "pygments_lexer": "ipython3",
   "version": "3.8.20"
  }
 },
 "nbformat": 4,
 "nbformat_minor": 5
}
